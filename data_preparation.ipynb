{
 "cells": [
  {
   "cell_type": "code",
   "execution_count": 1,
   "id": "163185bc",
   "metadata": {},
   "outputs": [],
   "source": [
    "import os\n",
    "from copy import deepcopy\n",
    "from tqdm import tqdm\n",
    "from datetime import date, datetime\n",
    "import pandas as pd\n",
    "import numpy as np"
   ]
  },
  {
   "cell_type": "code",
   "execution_count": 2,
   "id": "4bb4f458",
   "metadata": {},
   "outputs": [
    {
     "name": "stdout",
     "output_type": "stream",
     "text": [
      "BAY MAU.csv\n",
      "Index(['datetime', 'flow_in', 'flow_out1', 'flow_out2', 'flow_out3', 'temp',\n",
      "       'ph', 'tss', 'do', 'cod', 'bod', 'toc', 'no3', 'nh4', 'po4', 'total_n',\n",
      "       'total_p'],\n",
      "      dtype='object')\n",
      "BTLVT.csv\n",
      "Index(['datetime', 'flow_in', 'flow_out1', 'flow_out2', 'flow_out3', 'temp',\n",
      "       'ph', 'tss', 'do', 'cod', 'bod', 'toc', 'no3', 'nh4', 'po4', 'total_n',\n",
      "       'total_p'],\n",
      "      dtype='object')\n",
      "CAU NGA.csv\n",
      "Index(['datetime', 'flow_in', 'flow_out1', 'flow_out2', 'flow_out3', 'temp',\n",
      "       'ph', 'tss', 'do', 'cod', 'bod', 'toc', 'no3', 'nh4', 'po4', 'total_n',\n",
      "       'total_p'],\n",
      "      dtype='object')\n",
      "TU SON.csv\n",
      "Index(['datetime', 'flow_in', 'flow_out1', 'flow_out2', 'flow_out3', 'temp',\n",
      "       'ph', 'tss', 'do', 'cod', 'bod', 'toc', 'no3', 'nh4', 'po4', 'total_n',\n",
      "       'total_p'],\n",
      "      dtype='object')\n",
      "YENSO.csv\n",
      "Index(['datetime', 'flow_in', 'flow_out1', 'flow_out2', 'flow_out3', 'temp',\n",
      "       'ph', 'tss', 'do', 'cod', 'bod', 'toc', 'no3', 'nh4', 'po4', 'total_n',\n",
      "       'total_p'],\n",
      "      dtype='object')\n"
     ]
    }
   ],
   "source": [
    "df_all = []\n",
    "file_lst_used = []\n",
    "file_lst = os.listdir('NMXLNT')\n",
    "for file_name in file_lst:\n",
    "    if \"VINH NIEM\" not in file_name and \"HO TAY\" not in file_name:\n",
    "        df = pd.read_csv(f\"NMXLNT/{file_name}\")\n",
    "        df = df.drop_duplicates().reset_index().drop(\"index\", axis = 1) # after some inspection, realize there's some duplicates\n",
    "        df_all.append(df)\n",
    "        file_lst_used.append(file_name)\n",
    "        print(file_name)\n",
    "        print(df.columns)"
   ]
  },
  {
   "cell_type": "code",
   "execution_count": 3,
   "id": "f54fc7d7",
   "metadata": {},
   "outputs": [],
   "source": [
    "def preprocessing(df, file_name):\n",
    "    df[\"Location\"] = file_name\n",
    "    df[\"datetime\"] = pd.to_datetime(df[\"datetime\"])\n",
    "    df = df[~df[\"cod\"].isna()].reset_index().drop(\"index\", axis = 1)\n",
    "    if \"flow_in\" not in df.columns:\n",
    "        df[\"flow_in\"] = df[\"flow_in1\"] + df[\"flow_in2\"]\n",
    "    #print(df[\"cod\"].isna().sum())\n",
    "    df = df.reset_index().drop(\"index\", axis = 1)\n",
    "    temp_df = deepcopy(df)\n",
    "    last_row_with_time_within = {\n",
    "        j: [] for j in range(4, 9) # store between 4 - 8 hours since we are trying to predict the next 4-8 hours\n",
    "    }\n",
    "    curr_row = {\n",
    "        j: 0 for j in range(4, 9)\n",
    "    }\n",
    "    for i in tqdm(range(df.shape[0])):\n",
    "        for j in range(4, 9):\n",
    "            # we first try to find until we find first instance that is STRICTLY LESS THAN k hours before current time\n",
    "            # then the previous instance is the instance that might before around 4 hours before current time\n",
    "            while curr_row[j] < i and (df.loc[i, \"datetime\"] - df.loc[curr_row[j], \"datetime\"]) / pd.Timedelta(minutes=1) >= 60 * j:\n",
    "                curr_row[j] += 1\n",
    "            # when we stop is when we do not see a fit row, try to check if that fit row actually fit \n",
    "            # a fit would be from k - < k+1 hours before (curr_row - 1 would be our answer)\n",
    "            if curr_row[j] <= i and curr_row[j] >= 1 and \\\n",
    "               (df.loc[i, \"datetime\"] - df.loc[curr_row[j] - 1, \"datetime\"]) / pd.Timedelta(minutes=1) >= 60 * j and \\\n",
    "               (df.loc[i, \"datetime\"] - df.loc[curr_row[j] - 1, \"datetime\"]) / pd.Timedelta(minutes=1) < 60 * (j+1):\n",
    "                last_row_with_time_within[j].append(curr_row[j] - 1)\n",
    "            else:\n",
    "                # we stop because we have no answer\n",
    "                last_row_with_time_within[j].append(None)\n",
    "    for j in range(4, 9):\n",
    "        df[f\"last_row_with_time_within_{j}hour\"] = last_row_with_time_within[j]\n",
    "    # need to separete these two steps since after we inner join, we will lose some rows\n",
    "    for j in range(4, 9):\n",
    "        df2 = deepcopy(temp_df.reset_index())\n",
    "        df = df.merge(df2, how = \"inner\", left_on = f\"last_row_with_time_within_{j}hour\", right_on = \"index\", suffixes=(\"\", f\"_prev_{j}\"))\n",
    "        #print(np.mean(((df[\"datetime\"] - df[f\"datetime_prev_{j}\"]) / pd.Timedelta(minutes=1)) >= 60*j))\n",
    "    return df"
   ]
  },
  {
   "cell_type": "code",
   "execution_count": 4,
   "id": "eac026d5",
   "metadata": {},
   "outputs": [
    {
     "name": "stderr",
     "output_type": "stream",
     "text": [
      "100%|██████████| 89863/89863 [01:31<00:00, 983.31it/s] \n",
      "100%|██████████| 79637/79637 [01:22<00:00, 961.44it/s] \n",
      "100%|██████████| 76620/76620 [01:19<00:00, 958.51it/s] \n",
      "100%|██████████| 80348/80348 [01:22<00:00, 974.96it/s] \n",
      "100%|██████████| 73179/73179 [01:16<00:00, 961.31it/s] \n"
     ]
    }
   ],
   "source": [
    "for i in range(len(df_all)):\n",
    "    df_all[i] = preprocessing(df_all[i], file_lst_used[i])\n",
    "df_all = pd.concat(df_all, ignore_index = True)\n",
    "df_all.to_csv(\"NMXLNT_df.csv\", index = False)"
   ]
  }
 ],
 "metadata": {
  "kernelspec": {
   "display_name": "Python 3",
   "language": "python",
   "name": "python3"
  },
  "language_info": {
   "codemirror_mode": {
    "name": "ipython",
    "version": 3
   },
   "file_extension": ".py",
   "mimetype": "text/x-python",
   "name": "python",
   "nbconvert_exporter": "python",
   "pygments_lexer": "ipython3",
   "version": "3.11.0"
  }
 },
 "nbformat": 4,
 "nbformat_minor": 5
}
