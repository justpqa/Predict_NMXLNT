{
 "cells": [
  {
   "cell_type": "code",
   "execution_count": null,
   "id": "163185bc",
   "metadata": {},
   "outputs": [],
   "source": [
    "import os\n",
    "from copy import deepcopy\n",
    "from tqdm import tqdm\n",
    "from datetime import date, datetime\n",
    "import pandas as pd\n",
    "import numpy as np"
   ]
  },
  {
   "cell_type": "code",
   "execution_count": null,
   "id": "4bb4f458",
   "metadata": {},
   "outputs": [],
   "source": [
    "df_all = []\n",
    "file_lst_used = []\n",
    "file_lst = os.listdir('NMXLNT')\n",
    "for file_name in file_lst:\n",
    "    if \"VINH NIEM\" not in file_name and \"HO TAY\" not in file_name:\n",
    "        df = pd.read_csv(f\"NMXLNT/{file_name}\")\n",
    "        df = df.drop_duplicates().reset_index().drop(\"index\", axis = 1) # after some inspection, realize there's some duplicates\n",
    "        df_all.append(df)\n",
    "        file_lst_used.append(file_name)\n",
    "        print(file_name)\n",
    "        print(df.columns)"
   ]
  },
  {
   "cell_type": "code",
   "execution_count": null,
   "id": "f54fc7d7",
   "metadata": {},
   "outputs": [],
   "source": [
    "lag_used = [4, 4.5, 5, 5.5, 6, 6.5, 7, 7.5, 8, 8.5, 9, 9.5, 10, 10.5, 11, 11.5, 12]\n",
    "\n",
    "# try to plot cod and find error data in this\n",
    "def find_prev_mean(row, df_copy, num_minutes):\n",
    "    # find the mean of last num_minutes minutes\n",
    "    begin_time, end_time = row[\"datetime\"] - pd.Timedelta(minutes = num_minutes), row[\"datetime\"]\n",
    "    past_mean = df_copy[(df_copy[\"datetime\"] >= begin_time) & (df_copy[\"datetime\"] < end_time)][\"cod\"].mean()\n",
    "    if pd.isna(past_mean) or past_mean == 0:\n",
    "        return True\n",
    "    return abs(row[\"cod\"] / past_mean - 1) > 0.2\n",
    "\n",
    "def preprocessing(df, file_name):\n",
    "    df[\"Location\"] = file_name\n",
    "    df[\"datetime\"] = pd.to_datetime(df[\"datetime\"])\n",
    "    df[\"minute\"] = df[\"datetime\"].dt.minute\n",
    "    df[\"sin_minute\"] = np.sin(df[\"minute\"] / 60 * 2 * np.pi)\n",
    "    df[\"hour\"] = (df[\"datetime\"].dt.hour)\n",
    "    df[\"sin_hour\"] = np.sin(df[\"hour\"] / 24 * 2 * np.pi)\n",
    "    #df[\"dayofweek\"] = (df[\"datetime\"].dt.dayofweek)\n",
    "    df[\"day\"] = (df[\"datetime\"].dt.day)\n",
    "    df[\"sin_day\"] = np.sin(df[\"day\"] / 31 * 2 * np.pi)\n",
    "    df[\"month\"] = (df[\"datetime\"].dt.month)\n",
    "    df[\"sin_month\"] = np.sin(df[\"month\"] / 12 * 2 * np.pi)\n",
    "    df = df[~df[\"cod\"].isna()].reset_index().drop(\"index\", axis = 1)\n",
    "    df = df[df[\"cod\"] > 0].reset_index().drop(\"index\", axis = 1) # assumption of cod > 0\n",
    "    if \"flow_in\" not in df.columns:\n",
    "        df[\"flow_in\"] = df[\"flow_in1\"] + df[\"flow_in2\"]\n",
    "    #print(df[\"cod\"].isna().sum())\n",
    "    df = df.reset_index().drop(\"index\", axis = 1)\n",
    "    temp_df = deepcopy(df)\n",
    "    last_row_with_time_within = {\n",
    "        j: [] for j in lag_used # store between 4 - 8 hours since we are trying to predict the next 4-8 hours\n",
    "    }\n",
    "    curr_row = {\n",
    "        j: 0 for j in lag_used\n",
    "    }\n",
    "    for i in tqdm(range(df.shape[0])):\n",
    "        for j in lag_used:\n",
    "            # we first try to find until we find first instance that is STRICTLY LESS THAN k hours before current time\n",
    "            # then the previous instance is the instance that might before around 4 hours before current time\n",
    "            while curr_row[j] < i and (df.loc[i, \"datetime\"] - df.loc[curr_row[j], \"datetime\"]) / pd.Timedelta(minutes=1) >= 60 * j:\n",
    "                curr_row[j] += 1\n",
    "            # when we stop is when we do not see a fit row, try to check if that fit row actually fit \n",
    "            # a fit would be from k - < k+1 hours before (curr_row - 1 would be our answer)\n",
    "            if curr_row[j] <= i and curr_row[j] >= 1 and \\\n",
    "               (df.loc[i, \"datetime\"] - df.loc[curr_row[j] - 1, \"datetime\"]) / pd.Timedelta(minutes=1) >= 60 * j and \\\n",
    "               (df.loc[i, \"datetime\"] - df.loc[curr_row[j] - 1, \"datetime\"]) / pd.Timedelta(minutes=1) < 60 * (j+1):\n",
    "                last_row_with_time_within[j].append(curr_row[j] - 1)\n",
    "            else:\n",
    "                # we stop because we have no answer\n",
    "                last_row_with_time_within[j].append(None)\n",
    "    for j in lag_used:\n",
    "        df[f\"last_row_with_time_within_{j}hour\"] = last_row_with_time_within[j]\n",
    "    # need to separete these two steps since after we inner join, we will lose some rows\n",
    "    for j in lag_used:\n",
    "        df2 = deepcopy(temp_df.reset_index())\n",
    "        df = df.merge(df2, how = \"inner\", left_on = f\"last_row_with_time_within_{j}hour\", right_on = \"index\", suffixes=(\"\", f\"_prev_{j}\"))\n",
    "        #print(np.mean(((df[\"datetime\"] - df[f\"datetime_prev_{j}\"]) / pd.Timedelta(minutes=1)) >= 60*j))\n",
    "    # print(df.shape[0])\n",
    "    # df[\"zscore\"] = (df[\"cod\"] - df[\"cod\"].rolling(50).mean()) / df[\"cod\"].rolling(50).std()\n",
    "    # df = df[df[\"zscore\"].abs() <= 6.5].reset_index().drop(\"index\", axis = 1)\n",
    "    # print(df.shape[0])\n",
    "    temp = deepcopy(df)\n",
    "    df[\"abnormal\"] = df.apply(lambda x: find_prev_mean(x, temp, 30), axis = 1)\n",
    "    df = df[~df[\"abnormal\"]].reset_index().drop(\"index\", axis = 1)\n",
    "    return df"
   ]
  },
  {
   "cell_type": "code",
   "execution_count": null,
   "id": "eac026d5",
   "metadata": {},
   "outputs": [],
   "source": [
    "for i in range(len(df_all)):\n",
    "    df_all[i] = preprocessing(df_all[i], file_lst_used[i])\n",
    "df_all = pd.concat(df_all, ignore_index = True)\n",
    "df_all.to_csv(\"NMXLNT_df.csv\", index = False)"
   ]
  }
 ],
 "metadata": {
  "kernelspec": {
   "display_name": "Python 3",
   "language": "python",
   "name": "python3"
  },
  "language_info": {
   "codemirror_mode": {
    "name": "ipython",
    "version": 3
   },
   "file_extension": ".py",
   "mimetype": "text/x-python",
   "name": "python",
   "nbconvert_exporter": "python",
   "pygments_lexer": "ipython3",
   "version": "3.11.0"
  }
 },
 "nbformat": 4,
 "nbformat_minor": 5
}
