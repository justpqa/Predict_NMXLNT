{
 "cells": [
  {
   "cell_type": "code",
   "execution_count": null,
   "id": "9764820f",
   "metadata": {},
   "outputs": [],
   "source": [
    "import os\n",
    "import numpy as np\n",
    "import pandas as pd\n",
    "import matplotlib.pyplot as plt\n",
    "import seaborn as sns\n",
    "from copy import deepcopy\n",
    "from tqdm import tqdm"
   ]
  },
  {
   "cell_type": "code",
   "execution_count": null,
   "id": "2d596da0",
   "metadata": {},
   "outputs": [],
   "source": [
    "df_all = []\n",
    "file_lst = os.listdir('NMXLNT')\n",
    "for file_name in file_lst:\n",
    "    df = pd.read_csv(f\"NMXLNT/{file_name}\")\n",
    "    df = df.drop_duplicates().reset_index().drop(\"index\", axis = 1) # after some inspection, realize there's some duplicates\n",
    "    df_all.append(df)\n",
    "    print(file_name)\n",
    "    print(df.columns)"
   ]
  },
  {
   "cell_type": "code",
   "execution_count": null,
   "id": "12d27e81",
   "metadata": {},
   "outputs": [],
   "source": [
    "df_all[0]"
   ]
  },
  {
   "cell_type": "code",
   "execution_count": null,
   "id": "e0943c41",
   "metadata": {},
   "outputs": [],
   "source": [
    "df_all[0].info()"
   ]
  },
  {
   "cell_type": "code",
   "execution_count": null,
   "id": "0f5a4efd",
   "metadata": {},
   "outputs": [],
   "source": [
    "df_all[0][\"datetime\"] = pd.to_datetime(df_all[0][\"datetime\"])"
   ]
  },
  {
   "cell_type": "code",
   "execution_count": null,
   "id": "a39a2fbf",
   "metadata": {},
   "outputs": [],
   "source": [
    "sns.lineplot(df_all[0], x = \"datetime\", y = \"cod\")\n",
    "# seems to have some skip in time?"
   ]
  },
  {
   "cell_type": "code",
   "execution_count": null,
   "id": "9f8410e5",
   "metadata": {},
   "outputs": [],
   "source": [
    "# check if what time do we have\n",
    "for inx, df in enumerate(df_all):\n",
    "    df[\"datetime\"] = pd.to_datetime(df[\"datetime\"])\n",
    "    df = df.sort_values(by = \"datetime\", ascending = True).reset_index().drop(\"index\", axis = 1)\n",
    "    print(file_lst[inx])\n",
    "    print(df[\"datetime\"].min(), df[\"datetime\"].max()) # we have 2024\n",
    "    print(df[\"datetime\"].dt.date.nunique()) # missing a lot of days"
   ]
  },
  {
   "cell_type": "code",
   "execution_count": null,
   "id": "c6b529ba",
   "metadata": {},
   "outputs": [],
   "source": [
    "# try to plot cod against time in all data\n",
    "fig, ax = plt.subplots(nrows = 3, ncols = 3, figsize = (20, 20))\n",
    "for inx, df in enumerate(df_all):\n",
    "    x, y = inx // 3, inx % 3\n",
    "    sns.scatterplot(df, x = \"datetime\", y = \"cod\", ax = ax[x][y])\n",
    "    ax[x][y].set_title(file_lst[inx])\n",
    "plt.show()\n",
    "# missing many dates, might not use lagged date features, lagged in date feature might be preferable"
   ]
  },
  {
   "cell_type": "code",
   "execution_count": null,
   "id": "c6c9f67a",
   "metadata": {},
   "outputs": [],
   "source": [
    "# try to plot cod against time in all data\n",
    "fig, ax = plt.subplots(nrows = 3, ncols = 3, figsize = (20, 20))\n",
    "for inx, df in enumerate(df_all):\n",
    "    x, y = inx // 3, inx % 3\n",
    "    sns.histplot(df[\"cod\"], ax = ax[x][y])\n",
    "    ax[x][y].set_title(file_lst[inx])\n",
    "plt.show()\n",
    "# missing many dates, might not use lagged date features, lagged in date feature might be preferable"
   ]
  },
  {
   "cell_type": "code",
   "execution_count": null,
   "id": "575b7dc5",
   "metadata": {},
   "outputs": [],
   "source": [
    "# check if how many time do we get the datat in a day\n",
    "# assume we collect data every 5 mins, from 12AM to 11:55 PM => we have 288 datapoints per day\n",
    "fig, ax = plt.subplots(nrows = 3, ncols = 3, figsize = (20, 20))\n",
    "for inx, df in enumerate(df_all):\n",
    "    df[\"date\"] = df[\"datetime\"].dt.date\n",
    "    num_cod_per_date = df.groupby(\"date\")[\"datetime\"].count()\n",
    "    x, y = inx // 3, inx % 3\n",
    "    sns.histplot(num_cod_per_date, ax = ax[x][y])\n",
    "    ax[x][y].set_title(file_lst[inx])\n",
    "plt.show()\n",
    "# not always have that, might want to check if the time is equally spaced at 5 min"
   ]
  },
  {
   "cell_type": "code",
   "execution_count": null,
   "id": "9a39104d",
   "metadata": {},
   "outputs": [],
   "source": [
    "# check if how many time do we get the data in a day\n",
    "fig, ax = plt.subplots(nrows = 3, ncols = 3, figsize = (20, 20))\n",
    "for inx, df in enumerate(df_all):\n",
    "    df[\"date\"] = df[\"datetime\"].dt.date\n",
    "    num_cod_per_date = df.groupby(\"date\")[\"datetime\"].apply(lambda x: None if x.count() == 1 else (x.max() - x.min()) / (pd.Timedelta(minutes=1) * (x.count() - 1)))\n",
    "    x, y = inx // 3, inx % 3\n",
    "    sns.histplot(num_cod_per_date, ax = ax[x][y])\n",
    "    ax[x][y].set_title(file_lst[inx])\n",
    "plt.show()\n",
    "# data is equally spaced around 5 min => can use last few timestamps in around 5 mins"
   ]
  },
  {
   "cell_type": "code",
   "execution_count": null,
   "id": "9cf3dd99",
   "metadata": {},
   "outputs": [],
   "source": [
    "fig, ax = plt.subplots(nrows = 3, ncols = 3, figsize = (20, 20))\n",
    "for inx, df in enumerate(df_all):\n",
    "    temp_df = deepcopy(df)\n",
    "    temp_df[\"prev_datetime\"] = temp_df[\"datetime\"].shift(1)\n",
    "    temp_df[\"prev_cod\"] = temp_df[\"cod\"].shift(1)\n",
    "    # filter those in which previous timestap is less than 10 min\n",
    "    temp_df = temp_df[(temp_df[\"datetime\"] - temp_df[\"prev_datetime\"]) / pd.Timedelta(minutes=1) <= 10].reset_index().drop(\"index\", axis = 1)\n",
    "    # plot\n",
    "    x, y = inx // 3, inx % 3\n",
    "    sns.scatterplot(temp_df, x = \"prev_cod\", y = \"cod\", ax = ax[x][y])\n",
    "    ax[x][y].set_title(file_lst[inx])\n",
    "plt.show()"
   ]
  },
  {
   "cell_type": "code",
   "execution_count": null,
   "id": "db0674d6",
   "metadata": {},
   "outputs": [],
   "source": [
    "fig, ax = plt.subplots(nrows = 3, ncols = 3, figsize = (20, 20))\n",
    "for inx, df in enumerate(df_all):\n",
    "    temp_df = deepcopy(df)\n",
    "    temp_df[\"prev_datetime\"] = temp_df[\"datetime\"].shift(2)\n",
    "    temp_df[\"prev_cod_2\"] = temp_df[\"cod\"].shift(2)\n",
    "    # filter those in which previous timestap is less than 10 min\n",
    "    temp_df = temp_df[(temp_df[\"datetime\"] - temp_df[\"prev_datetime\"]) / pd.Timedelta(minutes=1) <= 20].reset_index().drop(\"index\", axis = 1)\n",
    "    # plot\n",
    "    x, y = inx // 3, inx % 3\n",
    "    sns.scatterplot(temp_df, x = \"prev_cod_2\", y = \"cod\", ax = ax[x][y])\n",
    "    ax[x][y].set_title(file_lst[inx])\n",
    "plt.show()"
   ]
  },
  {
   "cell_type": "code",
   "execution_count": null,
   "id": "38eea164",
   "metadata": {},
   "outputs": [],
   "source": [
    "fig, ax = plt.subplots(nrows = 3, ncols = 3, figsize = (20, 20))\n",
    "for inx, df in enumerate(df_all):\n",
    "    temp_df = deepcopy(df)\n",
    "    temp_df[\"prev_datetime\"] = temp_df[\"datetime\"].shift(3)\n",
    "    temp_df[\"prev_cod_3\"] = temp_df[\"cod\"].shift(3)\n",
    "    # filter those in which previous timestap is less than 10 min\n",
    "    temp_df = temp_df[(temp_df[\"datetime\"] - temp_df[\"prev_datetime\"]) / pd.Timedelta(minutes=1) <= 30].reset_index().drop(\"index\", axis = 1)\n",
    "    # plot\n",
    "    x, y = inx // 3, inx % 3\n",
    "    sns.scatterplot(temp_df, x = \"prev_cod_3\", y = \"cod\", ax = ax[x][y])\n",
    "    ax[x][y].set_title(file_lst[inx])\n",
    "plt.show()"
   ]
  },
  {
   "cell_type": "code",
   "execution_count": null,
   "id": "3073f4bc",
   "metadata": {},
   "outputs": [],
   "source": [
    "# fig, ax = plt.subplots(nrows = 3, ncols = 3, figsize = (20, 20))\n",
    "# for inx, df in enumerate(df_all):\n",
    "#     df = df.reset_index().drop(\"index\", axis = 1)\n",
    "#     last_row_with_time_within_1hour = []\n",
    "#     curr_row = 0\n",
    "#     for i in tqdm(range(df.shape[0])):\n",
    "#         while curr_row < i and (df.loc[i, \"datetime\"] - df.loc[curr_row, \"datetime\"]) / pd.Timedelta(minutes=1) > 60:\n",
    "#             curr_row += 1\n",
    "#         # when we stop is when we do not see a fit row, try to check if that fit row actually fit (curr_row - 1 would be our answer)\n",
    "#         if curr_row < i:\n",
    "#             last_row_with_time_within_1hour.append(curr_row)\n",
    "#         else:\n",
    "#             # we stop because we have no answer\n",
    "#             last_row_with_time_within_1hour.append(None)\n",
    "#     df[\"last_row_with_time_within_1hour\"] = last_row_with_time_within_1hour\n",
    "#     df2 = deepcopy(df.reset_index())\n",
    "#     df = df.merge(df2, how = \"inner\", left_on = \"last_row_with_time_within_1hour\", right_on = \"index\", suffixes=(\"\", \"_prev\"))\n",
    "#     x, y = inx // 3, inx % 3\n",
    "#     sns.scatterplot(temp_df, x = \"cod_prev\", y = \"cod\", ax = ax[x][y])\n",
    "#     ax[x][y].set_title(file_lst[inx])          \n",
    "# plt.show()"
   ]
  },
  {
   "cell_type": "code",
   "execution_count": null,
   "id": "4c9643ac",
   "metadata": {},
   "outputs": [],
   "source": [
    "# We will try to get data of around  4-8 hours before current time and see if its has correlation with current data\n",
    "# before around k hours: from k - before k + 1 hours\n",
    "fig, ax = plt.subplots(nrows = 3, ncols = 3, figsize = (20, 20))\n",
    "for inx, df in enumerate(df_all):\n",
    "    print(file_lst[inx])\n",
    "    df = df.reset_index().drop(\"index\", axis = 1)\n",
    "    last_row_with_time_within = {\n",
    "        j: [] for j in range(4, 9) # store between 4 - 8 hours since we are trying to predict the next 4-8 hours\n",
    "    }\n",
    "    curr_row = {\n",
    "        j: 0 for j in range(4, 9)\n",
    "    }\n",
    "    for i in tqdm(range(df.shape[0])):\n",
    "        for j in range(4, 9):\n",
    "            # we first try to find until we find first instance that is STRICTLY LESS THAN k hours before current time\n",
    "            # then the previous instance is the instance that might before around 4 hours before current time\n",
    "            while curr_row[j] < i and (df.loc[i, \"datetime\"] - df.loc[curr_row[j], \"datetime\"]) / pd.Timedelta(minutes=1) >= 60 * j:\n",
    "                curr_row[j] += 1\n",
    "            # when we stop is when we do not see a fit row, try to check if that fit row actually fit \n",
    "            # a fit would be from k - < k+1 hours before (curr_row - 1 would be our answer)\n",
    "            if curr_row[j] <= i and curr_row[j] >= 1 and \\\n",
    "               (df.loc[i, \"datetime\"] - df.loc[curr_row[j] - 1, \"datetime\"]) / pd.Timedelta(minutes=1) >= 60 * j and \\\n",
    "               (df.loc[i, \"datetime\"] - df.loc[curr_row[j] - 1, \"datetime\"]) / pd.Timedelta(minutes=1) < 60 * (j+1):\n",
    "                last_row_with_time_within[j].append(curr_row[j] - 1)\n",
    "            else:\n",
    "                # we stop because we have no answer\n",
    "                last_row_with_time_within[j].append(None)\n",
    "    for j in range(4, 9):\n",
    "        df[f\"last_row_with_time_within_{j}hour\"] = last_row_with_time_within[j]\n",
    "    # need to separete these two steps since after we inner join, we will lose some rows\n",
    "    for j in range(4, 9):\n",
    "        df2 = deepcopy(df_all[inx].reset_index())\n",
    "        df = df.merge(df2, how = \"inner\", left_on = f\"last_row_with_time_within_{j}hour\", right_on = \"index\", suffixes=(\"\", f\"_prev_{j}\"))\n",
    "        print(np.mean(((df[\"datetime\"] - df[f\"datetime_prev_{j}\"]) / pd.Timedelta(minutes=1)) >= 60*j))\n",
    "    df_all[inx] = deepcopy(df)\n",
    "    x, y = inx // 3, inx % 3\n",
    "    sns.scatterplot(df_all[inx], x = \"cod_prev_4\", y = \"cod\", ax = ax[x][y])\n",
    "    ax[x][y].set_title(file_lst[inx])          \n",
    "plt.show()"
   ]
  },
  {
   "cell_type": "code",
   "execution_count": null,
   "id": "3d01b1a6",
   "metadata": {},
   "outputs": [],
   "source": [
    "fig, ax = plt.subplots(nrows = 3, ncols = 3, figsize = (20, 20))\n",
    "for inx, df in enumerate(df_all):\n",
    "    x, y = inx // 3, inx % 3\n",
    "    sns.scatterplot(df_all[inx], x = \"cod_prev_5\", y = \"cod\", ax = ax[x][y])\n",
    "    ax[x][y].set_title(file_lst[inx])          \n",
    "plt.show()"
   ]
  },
  {
   "cell_type": "code",
   "execution_count": null,
   "id": "9ec99a2a",
   "metadata": {},
   "outputs": [],
   "source": [
    "fig, ax = plt.subplots(nrows = 3, ncols = 3, figsize = (20, 20))\n",
    "for inx, df in enumerate(df_all):\n",
    "    x, y = inx // 3, inx % 3\n",
    "    sns.scatterplot(df_all[inx], x = \"cod_prev_6\", y = \"cod\", ax = ax[x][y])\n",
    "    ax[x][y].set_title(file_lst[inx])          \n",
    "plt.show()"
   ]
  },
  {
   "cell_type": "code",
   "execution_count": null,
   "id": "8dbfebd4",
   "metadata": {},
   "outputs": [],
   "source": [
    "fig, ax = plt.subplots(nrows = 3, ncols = 3, figsize = (20, 20))\n",
    "for inx, df in enumerate(df_all):\n",
    "    x, y = inx // 3, inx % 3\n",
    "    sns.scatterplot(df_all[inx], x = \"cod_prev_7\", y = \"cod\", ax = ax[x][y])\n",
    "    ax[x][y].set_title(file_lst[inx])          \n",
    "plt.show()"
   ]
  },
  {
   "cell_type": "markdown",
   "id": "52757034",
   "metadata": {},
   "source": [
    "Flow In"
   ]
  },
  {
   "cell_type": "code",
   "execution_count": null,
   "id": "9779d5bd",
   "metadata": {},
   "outputs": [],
   "source": [
    "fig, ax = plt.subplots(nrows = 3, ncols = 3, figsize = (20, 20))\n",
    "for inx, df in enumerate(df_all):\n",
    "    temp_df = deepcopy(df)\n",
    "    if \"flow_in_prev_4\" not in temp_df.columns:\n",
    "        temp_df[\"flow_in_prev_4\"] = temp_df[\"flow_in1_prev_4\"].fillna(0) + temp_df[\"flow_in2_prev_4\"].fillna(0)\n",
    "    # plot\n",
    "    x, y = inx // 3, inx % 3\n",
    "    sns.scatterplot(temp_df, x = \"flow_in_prev_4\", y = \"cod\", ax = ax[x][y])\n",
    "    ax[x][y].set_title(file_lst[inx])\n",
    "plt.show()\n",
    "# very noisy correlation, cau nga and tu son does not have data"
   ]
  },
  {
   "cell_type": "markdown",
   "id": "64729c7d",
   "metadata": {},
   "source": [
    "Flow out"
   ]
  },
  {
   "cell_type": "code",
   "execution_count": null,
   "id": "2438e725",
   "metadata": {},
   "outputs": [],
   "source": [
    "fig, ax = plt.subplots(nrows = 3, ncols = 3, figsize = (20, 20))\n",
    "for inx, df in enumerate(df_all):\n",
    "    temp_df = deepcopy(df)\n",
    "    # plot\n",
    "    x, y = inx // 3, inx % 3\n",
    "    sns.scatterplot(temp_df, x = \"flow_out1_prev_4\", y = \"cod\", ax = ax[x][y])\n",
    "    ax[x][y].set_title(file_lst[inx])\n",
    "plt.show()\n",
    "# the trends of flow_out vs cod seems to have 2 ways: the U shape or the box as in caunga"
   ]
  },
  {
   "cell_type": "code",
   "execution_count": null,
   "id": "d5738681",
   "metadata": {},
   "outputs": [],
   "source": [
    "fig, ax = plt.subplots(nrows = 3, ncols = 3, figsize = (20, 20))\n",
    "for inx, df in enumerate(df_all):\n",
    "    temp_df = deepcopy(df)\n",
    "    # plot\n",
    "    x, y = inx // 3, inx % 3\n",
    "    sns.scatterplot(temp_df, x = \"flow_out2_prev_4\", y = \"cod\", ax = ax[x][y])\n",
    "    ax[x][y].set_title(file_lst[inx])\n",
    "plt.show()"
   ]
  },
  {
   "cell_type": "code",
   "execution_count": null,
   "id": "7c2c6b18",
   "metadata": {},
   "outputs": [],
   "source": [
    "fig, ax = plt.subplots(nrows = 3, ncols = 3, figsize = (20, 20))\n",
    "for inx, df in enumerate(df_all):\n",
    "    temp_df = deepcopy(df)\n",
    "    # plot\n",
    "    x, y = inx // 3, inx % 3\n",
    "    sns.scatterplot(temp_df, x = \"flow_out3_prev_4\", y = \"cod\", ax = ax[x][y])\n",
    "    ax[x][y].set_title(file_lst[inx])\n",
    "plt.show()"
   ]
  },
  {
   "cell_type": "markdown",
   "id": "d100edca",
   "metadata": {},
   "source": [
    "Temperature"
   ]
  },
  {
   "cell_type": "code",
   "execution_count": null,
   "id": "78f66805",
   "metadata": {},
   "outputs": [],
   "source": [
    "fig, ax = plt.subplots(nrows = 3, ncols = 3, figsize = (20, 20))\n",
    "for inx, df in enumerate(df_all):\n",
    "    temp_df = deepcopy(df)\n",
    "    # plot\n",
    "    x, y = inx // 3, inx % 3\n",
    "    sns.scatterplot(temp_df, x = \"temp_prev_4\", y = \"cod\", ax = ax[x][y])\n",
    "    ax[x][y].set_title(file_lst[inx])\n",
    "plt.show()"
   ]
  },
  {
   "cell_type": "code",
   "execution_count": null,
   "id": "ce43d4b1",
   "metadata": {},
   "outputs": [],
   "source": [
    "fig, ax = plt.subplots(nrows = 3, ncols = 3, figsize = (20, 20))\n",
    "for inx, df in enumerate(df_all):\n",
    "    temp_df = deepcopy(df)\n",
    "    temp_df[\"temp_above_26_prev_4\"] = temp_df[\"temp_prev_4\"] > 26\n",
    "    # plot\n",
    "    x, y = inx // 3, inx % 3\n",
    "    sns.boxplot(temp_df, x = \"temp_above_26_prev_4\", y = \"cod\", ax = ax[x][y])\n",
    "    ax[x][y].set_title(file_lst[inx])\n",
    "plt.show()"
   ]
  },
  {
   "cell_type": "code",
   "execution_count": null,
   "id": "5f906ea1",
   "metadata": {},
   "outputs": [],
   "source": [
    "fig, ax = plt.subplots(nrows = 3, ncols = 3, figsize = (20, 20))\n",
    "for inx, df in enumerate(df_all):\n",
    "    temp_df = deepcopy(df)\n",
    "    # plot\n",
    "    x, y = inx // 3, inx % 3\n",
    "    sns.scatterplot(temp_df, x = \"temp_prev_5\", y = \"cod\", ax = ax[x][y])\n",
    "    ax[x][y].set_title(file_lst[inx])\n",
    "plt.show()"
   ]
  },
  {
   "cell_type": "code",
   "execution_count": null,
   "id": "a11afac1",
   "metadata": {},
   "outputs": [],
   "source": [
    "fig, ax = plt.subplots(nrows = 3, ncols = 3, figsize = (20, 20))\n",
    "for inx, df in enumerate(df_all):\n",
    "    temp_df = deepcopy(df)\n",
    "    # plot\n",
    "    x, y = inx // 3, inx % 3\n",
    "    sns.scatterplot(temp_df, x = \"temp_prev_6\", y = \"cod\", ax = ax[x][y])\n",
    "    ax[x][y].set_title(file_lst[inx])\n",
    "plt.show()"
   ]
  },
  {
   "cell_type": "code",
   "execution_count": null,
   "id": "29673d74",
   "metadata": {},
   "outputs": [],
   "source": [
    "fig, ax = plt.subplots(nrows = 3, ncols = 3, figsize = (20, 20))\n",
    "for inx, df in enumerate(df_all):\n",
    "    temp_df = deepcopy(df)\n",
    "    # plot\n",
    "    x, y = inx // 3, inx % 3\n",
    "    sns.scatterplot(temp_df, x = \"temp_prev_7\", y = \"cod\", ax = ax[x][y])\n",
    "    ax[x][y].set_title(file_lst[inx])\n",
    "plt.show()"
   ]
  },
  {
   "cell_type": "markdown",
   "id": "59234189",
   "metadata": {},
   "source": [
    "PH"
   ]
  },
  {
   "cell_type": "code",
   "execution_count": null,
   "id": "0da2c61a",
   "metadata": {},
   "outputs": [],
   "source": [
    "fig, ax = plt.subplots(nrows = 3, ncols = 3, figsize = (20, 20))\n",
    "for inx, df in enumerate(df_all):\n",
    "    temp_df = deepcopy(df)\n",
    "    # plot\n",
    "    x, y = inx // 3, inx % 3\n",
    "    sns.scatterplot(temp_df, x = \"ph_prev_4\", y = \"cod\", ax = ax[x][y])\n",
    "    ax[x][y].set_title(file_lst[inx])\n",
    "plt.show()\n",
    "# seems to be higher the closer it is to 7"
   ]
  },
  {
   "cell_type": "code",
   "execution_count": null,
   "id": "66764f7f",
   "metadata": {},
   "outputs": [],
   "source": [
    "fig, ax = plt.subplots(nrows = 3, ncols = 3, figsize = (20, 20))\n",
    "for inx, df in enumerate(df_all):\n",
    "    temp_df = deepcopy(df)\n",
    "    # plot\n",
    "    x, y = inx // 3, inx % 3\n",
    "    sns.scatterplot(temp_df, x = \"ph_prev_5\", y = \"cod\", ax = ax[x][y])\n",
    "    ax[x][y].set_title(file_lst[inx])\n",
    "plt.show()\n",
    "# seems to be higher the closer it is to 7"
   ]
  },
  {
   "cell_type": "code",
   "execution_count": null,
   "id": "179f7a88",
   "metadata": {},
   "outputs": [],
   "source": [
    "fig, ax = plt.subplots(nrows = 3, ncols = 3, figsize = (20, 20))\n",
    "for inx, df in enumerate(df_all):\n",
    "    temp_df = deepcopy(df)\n",
    "    # plot\n",
    "    x, y = inx // 3, inx % 3\n",
    "    sns.scatterplot(temp_df, x = \"ph_prev_6\", y = \"cod\", ax = ax[x][y])\n",
    "    ax[x][y].set_title(file_lst[inx])\n",
    "plt.show()\n",
    "# seems to be higher the closer it is to 7"
   ]
  },
  {
   "cell_type": "code",
   "execution_count": null,
   "id": "25018d90",
   "metadata": {},
   "outputs": [],
   "source": [
    "fig, ax = plt.subplots(nrows = 3, ncols = 3, figsize = (20, 20))\n",
    "for inx, df in enumerate(df_all):\n",
    "    temp_df = deepcopy(df)\n",
    "    # plot\n",
    "    x, y = inx // 3, inx % 3\n",
    "    sns.scatterplot(temp_df, x = \"ph_prev_7\", y = \"cod\", ax = ax[x][y])\n",
    "    ax[x][y].set_title(file_lst[inx])\n",
    "plt.show()\n",
    "# seems to be higher the closer it is to 7"
   ]
  },
  {
   "cell_type": "markdown",
   "id": "61a6bff5",
   "metadata": {},
   "source": [
    "TSS"
   ]
  },
  {
   "cell_type": "code",
   "execution_count": null,
   "id": "8b22a49e",
   "metadata": {},
   "outputs": [],
   "source": [
    "fig, ax = plt.subplots(nrows = 3, ncols = 3, figsize = (20, 20))\n",
    "for inx, df in enumerate(df_all):\n",
    "    temp_df = deepcopy(df)\n",
    "    # plot\n",
    "    x, y = inx // 3, inx % 3\n",
    "    sns.scatterplot(temp_df, x = \"tss_prev_4\", y = \"cod\", ax = ax[x][y])\n",
    "    ax[x][y].set_title(file_lst[inx])\n",
    "plt.show()"
   ]
  },
  {
   "cell_type": "code",
   "execution_count": null,
   "id": "2da6c7fd",
   "metadata": {},
   "outputs": [],
   "source": [
    "fig, ax = plt.subplots(nrows = 3, ncols = 3, figsize = (20, 20))\n",
    "for inx, df in enumerate(df_all):\n",
    "    temp_df = deepcopy(df)\n",
    "    # plot\n",
    "    x, y = inx // 3, inx % 3\n",
    "    sns.scatterplot(temp_df, x = \"tss_prev_5\", y = \"cod\", ax = ax[x][y])\n",
    "    ax[x][y].set_title(file_lst[inx])\n",
    "plt.show()"
   ]
  },
  {
   "cell_type": "code",
   "execution_count": null,
   "id": "a87647c1",
   "metadata": {},
   "outputs": [],
   "source": [
    "fig, ax = plt.subplots(nrows = 3, ncols = 3, figsize = (20, 20))\n",
    "for inx, df in enumerate(df_all):\n",
    "    temp_df = deepcopy(df)\n",
    "    # plot\n",
    "    x, y = inx // 3, inx % 3\n",
    "    sns.scatterplot(temp_df, x = \"tss_prev_6\", y = \"cod\", ax = ax[x][y])\n",
    "    ax[x][y].set_title(file_lst[inx])\n",
    "plt.show()"
   ]
  },
  {
   "cell_type": "code",
   "execution_count": null,
   "id": "121ea509",
   "metadata": {},
   "outputs": [],
   "source": [
    "fig, ax = plt.subplots(nrows = 3, ncols = 3, figsize = (20, 20))\n",
    "for inx, df in enumerate(df_all):\n",
    "    temp_df = deepcopy(df)\n",
    "    # plot\n",
    "    x, y = inx // 3, inx % 3\n",
    "    sns.scatterplot(temp_df, x = \"tss_prev_7\", y = \"cod\", ax = ax[x][y])\n",
    "    ax[x][y].set_title(file_lst[inx])\n",
    "plt.show()"
   ]
  },
  {
   "cell_type": "markdown",
   "id": "12b269d5",
   "metadata": {},
   "source": [
    "Do"
   ]
  },
  {
   "cell_type": "code",
   "execution_count": null,
   "id": "576f6a14",
   "metadata": {},
   "outputs": [],
   "source": [
    "fig, ax = plt.subplots(nrows = 3, ncols = 3, figsize = (20, 20))\n",
    "for inx, df in enumerate(df_all):\n",
    "    temp_df = deepcopy(df)\n",
    "    # plot\n",
    "    x, y = inx // 3, inx % 3\n",
    "    sns.scatterplot(temp_df, x = \"do_prev_4\", y = \"cod\", ax = ax[x][y])\n",
    "    ax[x][y].set_title(file_lst[inx])\n",
    "plt.show()\n",
    "# almost missing all in all factories, not really have any correlation"
   ]
  },
  {
   "cell_type": "markdown",
   "id": "01370a3e",
   "metadata": {},
   "source": [
    "No3"
   ]
  },
  {
   "cell_type": "code",
   "execution_count": null,
   "id": "175ffb7c",
   "metadata": {},
   "outputs": [],
   "source": [
    "fig, ax = plt.subplots(nrows = 3, ncols = 3, figsize = (20, 20))\n",
    "for inx, df in enumerate(df_all):\n",
    "    temp_df = deepcopy(df)\n",
    "    # plot\n",
    "    x, y = inx // 3, inx % 3\n",
    "    sns.scatterplot(temp_df, x = \"no3_prev_4\", y = \"cod\", ax = ax[x][y])\n",
    "    ax[x][y].set_title(file_lst[inx])\n",
    "plt.show()\n",
    "# seems to not really have effect?"
   ]
  },
  {
   "cell_type": "markdown",
   "id": "0d6fcfbc",
   "metadata": {},
   "source": [
    "NH4"
   ]
  },
  {
   "cell_type": "code",
   "execution_count": null,
   "id": "4f6affa3",
   "metadata": {},
   "outputs": [],
   "source": [
    "fig, ax = plt.subplots(nrows = 3, ncols = 3, figsize = (20, 20))\n",
    "for inx, df in enumerate(df_all):\n",
    "    temp_df = deepcopy(df)\n",
    "    # plot\n",
    "    x, y = inx // 3, inx % 3\n",
    "    sns.scatterplot(temp_df, x = \"nh4_prev_4\", y = \"cod\", ax = ax[x][y])\n",
    "    ax[x][y].set_title(file_lst[inx])\n",
    "plt.show()\n",
    "# might have a trend but not really work for all factory"
   ]
  },
  {
   "cell_type": "code",
   "execution_count": null,
   "id": "66c71d5d",
   "metadata": {},
   "outputs": [],
   "source": [
    "fig, ax = plt.subplots(nrows = 3, ncols = 3, figsize = (20, 20))\n",
    "for inx, df in enumerate(df_all):\n",
    "    temp_df = deepcopy(df)\n",
    "    # plot\n",
    "    x, y = inx // 3, inx % 3\n",
    "    sns.scatterplot(temp_df, x = \"nh4_prev_5\", y = \"cod\", ax = ax[x][y])\n",
    "    ax[x][y].set_title(file_lst[inx])\n",
    "plt.show()\n",
    "# might have a trend but not really work for all factory"
   ]
  },
  {
   "cell_type": "code",
   "execution_count": null,
   "id": "c7f7b8c6",
   "metadata": {},
   "outputs": [],
   "source": [
    "fig, ax = plt.subplots(nrows = 3, ncols = 3, figsize = (20, 20))\n",
    "for inx, df in enumerate(df_all):\n",
    "    temp_df = deepcopy(df)\n",
    "    # plot\n",
    "    x, y = inx // 3, inx % 3\n",
    "    sns.scatterplot(temp_df, x = \"nh4_prev_6\", y = \"cod\", ax = ax[x][y])\n",
    "    ax[x][y].set_title(file_lst[inx])\n",
    "plt.show()\n",
    "# might have a trend but not really work for all factory"
   ]
  },
  {
   "cell_type": "code",
   "execution_count": null,
   "id": "0f94b9e0",
   "metadata": {},
   "outputs": [],
   "source": [
    "fig, ax = plt.subplots(nrows = 3, ncols = 3, figsize = (20, 20))\n",
    "for inx, df in enumerate(df_all):\n",
    "    temp_df = deepcopy(df)\n",
    "    # plot\n",
    "    x, y = inx // 3, inx % 3\n",
    "    sns.scatterplot(temp_df, x = \"nh4_prev_7\", y = \"cod\", ax = ax[x][y])\n",
    "    ax[x][y].set_title(file_lst[inx])\n",
    "plt.show()\n",
    "# might have a trend but not really work for all factory"
   ]
  },
  {
   "cell_type": "markdown",
   "id": "50048f58",
   "metadata": {},
   "source": [
    "PO4"
   ]
  },
  {
   "cell_type": "code",
   "execution_count": null,
   "id": "2ce22a73",
   "metadata": {},
   "outputs": [],
   "source": [
    "fig, ax = plt.subplots(nrows = 3, ncols = 3, figsize = (20, 20))\n",
    "for inx, df in enumerate(df_all):\n",
    "    temp_df = deepcopy(df)\n",
    "    # plot\n",
    "    x, y = inx // 3, inx % 3\n",
    "    sns.scatterplot(temp_df, x = \"po4_prev_4\", y = \"cod\", ax = ax[x][y])\n",
    "    ax[x][y].set_title(file_lst[inx])\n",
    "plt.show()\n",
    "# only 2 have it, slight trend"
   ]
  },
  {
   "cell_type": "markdown",
   "id": "5c96c213",
   "metadata": {},
   "source": [
    "total_n"
   ]
  },
  {
   "cell_type": "code",
   "execution_count": null,
   "id": "979cbbcf",
   "metadata": {},
   "outputs": [],
   "source": [
    "fig, ax = plt.subplots(nrows = 3, ncols = 3, figsize = (20, 20))\n",
    "for inx, df in enumerate(df_all):\n",
    "    temp_df = deepcopy(df)\n",
    "    # plot\n",
    "    x, y = inx // 3, inx % 3\n",
    "    sns.scatterplot(temp_df, x = \"total_n_prev_4\", y = \"cod\", ax = ax[x][y])\n",
    "    ax[x][y].set_title(file_lst[inx])\n",
    "plt.show()"
   ]
  },
  {
   "cell_type": "markdown",
   "id": "c4865419",
   "metadata": {},
   "source": [
    "total_p"
   ]
  },
  {
   "cell_type": "code",
   "execution_count": null,
   "id": "e23423ff",
   "metadata": {},
   "outputs": [],
   "source": [
    "fig, ax = plt.subplots(nrows = 3, ncols = 3, figsize = (20, 20))\n",
    "for inx, df in enumerate(df_all):\n",
    "    temp_df = deepcopy(df)\n",
    "    # plot\n",
    "    x, y = inx // 3, inx % 3\n",
    "    sns.scatterplot(temp_df, x = \"total_p_prev_4\", y = \"cod\", ax = ax[x][y])\n",
    "    ax[x][y].set_title(file_lst[inx])\n",
    "plt.show()\n",
    "# seems to have a trend"
   ]
  },
  {
   "cell_type": "markdown",
   "id": "e63906b7",
   "metadata": {},
   "source": [
    "Try to look at diff"
   ]
  },
  {
   "cell_type": "code",
   "execution_count": null,
   "id": "201d9d34",
   "metadata": {},
   "outputs": [],
   "source": [
    "fig, ax = plt.subplots(nrows = 3, ncols = 3, figsize = (20, 20))\n",
    "for inx, df in enumerate(df_all):\n",
    "    df_all[inx][\"cod_diff_4\"] = df_all[inx][\"cod\"] - df_all[inx][\"cod_prev_4\"]\n",
    "    temp_df = deepcopy(df_all[inx])\n",
    "    # plot\n",
    "    x, y = inx // 3, inx % 3\n",
    "    sns.scatterplot(temp_df, x = \"ph_prev_4\", y = \"cod_diff_4\", ax = ax[x][y])\n",
    "    ax[x][y].set_title(file_lst[inx])\n",
    "plt.show()"
   ]
  },
  {
   "cell_type": "code",
   "execution_count": null,
   "id": "14456099",
   "metadata": {},
   "outputs": [],
   "source": [
    "fig, ax = plt.subplots(nrows = 3, ncols = 3, figsize = (20, 20))\n",
    "for inx, df in enumerate(df_all):\n",
    "    #df_all[inx][\"cod_diff_4\"] = df_all[inx][\"cod\"] - df_all[inx][\"cod_prev_4\"]\n",
    "    temp_df = deepcopy(df)\n",
    "    # plot\n",
    "    x, y = inx // 3, inx % 3\n",
    "    sns.scatterplot(temp_df, x = \"temp_prev_4\", y = \"cod_diff_4\", ax = ax[x][y])\n",
    "    ax[x][y].set_title(file_lst[inx])\n",
    "plt.show()"
   ]
  },
  {
   "cell_type": "code",
   "execution_count": null,
   "id": "adf67437",
   "metadata": {},
   "outputs": [],
   "source": [
    "fig, ax = plt.subplots(nrows = 3, ncols = 3, figsize = (20, 20))\n",
    "for inx, df in enumerate(df_all):\n",
    "    #df_all[inx][\"cod_diff_4\"] = df_all[inx][\"cod\"] - df_all[inx][\"cod_prev_4\"]\n",
    "    temp_df = deepcopy(df)\n",
    "    # plot\n",
    "    x, y = inx // 3, inx % 3\n",
    "    sns.scatterplot(temp_df, x = \"tss_prev_4\", y = \"cod_diff_4\", ax = ax[x][y])\n",
    "    ax[x][y].set_title(file_lst[inx])\n",
    "plt.show()"
   ]
  },
  {
   "cell_type": "code",
   "execution_count": null,
   "id": "739723d1",
   "metadata": {},
   "outputs": [],
   "source": [
    "fig, ax = plt.subplots(nrows = 3, ncols = 3, figsize = (20, 20))\n",
    "for inx, df in enumerate(df_all):\n",
    "    df_all[inx][\"ph_diff_4\"] = df_all[inx][\"ph\"] - df_all[inx][\"ph_prev_4\"]\n",
    "    temp_df = deepcopy(df_all[inx])\n",
    "    # plot\n",
    "    x, y = inx // 3, inx % 3\n",
    "    sns.scatterplot(temp_df, x = \"ph_diff_4\", y = \"cod\", ax = ax[x][y])\n",
    "    ax[x][y].set_title(file_lst[inx])\n",
    "plt.show()"
   ]
  },
  {
   "cell_type": "code",
   "execution_count": null,
   "id": "23cf7397",
   "metadata": {},
   "outputs": [],
   "source": [
    "fig, ax = plt.subplots(nrows = 3, ncols = 3, figsize = (20, 20))\n",
    "for inx, df in enumerate(df_all):\n",
    "    df_all[inx][\"temp_diff_4\"] = df_all[inx][\"temp\"] - df_all[inx][\"temp_prev_4\"]\n",
    "    temp_df = deepcopy(df_all[inx])\n",
    "    # plot\n",
    "    x, y = inx // 3, inx % 3\n",
    "    sns.scatterplot(temp_df, x = \"temp_diff_4\", y = \"cod\", ax = ax[x][y])\n",
    "    ax[x][y].set_title(file_lst[inx])\n",
    "plt.show()"
   ]
  },
  {
   "cell_type": "code",
   "execution_count": null,
   "id": "fd551e62",
   "metadata": {},
   "outputs": [],
   "source": [
    "fig, ax = plt.subplots(nrows = 3, ncols = 3, figsize = (20, 20))\n",
    "for inx, df in enumerate(df_all):\n",
    "    df_all[inx][\"tss_diff_4\"] = df_all[inx][\"tss\"] - df_all[inx][\"tss_prev_4\"]\n",
    "    temp_df = deepcopy(df_all[inx])\n",
    "    # plot\n",
    "    x, y = inx // 3, inx % 3\n",
    "    sns.scatterplot(temp_df, x = \"tss_diff_4\", y = \"cod\", ax = ax[x][y])\n",
    "    ax[x][y].set_title(file_lst[inx])\n",
    "plt.show()"
   ]
  },
  {
   "cell_type": "code",
   "execution_count": null,
   "id": "5349ba01",
   "metadata": {},
   "outputs": [],
   "source": [
    "fig, ax = plt.subplots(nrows = 3, ncols = 3, figsize = (20, 20))\n",
    "for inx, df in enumerate(df_all):\n",
    "    df_all[inx][\"nh4_diff_4\"] = df_all[inx][\"nh4\"] - df_all[inx][\"nh4_prev_4\"]\n",
    "    temp_df = deepcopy(df_all[inx])\n",
    "    # plot\n",
    "    x, y = inx // 3, inx % 3\n",
    "    sns.scatterplot(temp_df, x = \"nh4_diff_4\", y = \"cod\", ax = ax[x][y])\n",
    "    ax[x][y].set_title(file_lst[inx])\n",
    "plt.show()"
   ]
  },
  {
   "cell_type": "code",
   "execution_count": null,
   "id": "cc01a810",
   "metadata": {},
   "outputs": [],
   "source": []
  }
 ],
 "metadata": {
  "kernelspec": {
   "display_name": "Python 3",
   "language": "python",
   "name": "python3"
  },
  "language_info": {
   "codemirror_mode": {
    "name": "ipython",
    "version": 3
   },
   "file_extension": ".py",
   "mimetype": "text/x-python",
   "name": "python",
   "nbconvert_exporter": "python",
   "pygments_lexer": "ipython3",
   "version": "3.11.0"
  }
 },
 "nbformat": 4,
 "nbformat_minor": 5
}
