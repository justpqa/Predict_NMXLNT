{
 "cells": [
  {
   "cell_type": "code",
   "execution_count": 1,
   "id": "190b9c8a",
   "metadata": {},
   "outputs": [
    {
     "name": "stderr",
     "output_type": "stream",
     "text": [
      "c:\\Users\\Admin\\AppData\\Local\\Programs\\Python\\Python311\\Lib\\site-packages\\tqdm\\auto.py:21: TqdmWarning: IProgress not found. Please update jupyter and ipywidgets. See https://ipywidgets.readthedocs.io/en/stable/user_install.html\n",
      "  from .autonotebook import tqdm as notebook_tqdm\n"
     ]
    }
   ],
   "source": [
    "import os\n",
    "from copy import deepcopy\n",
    "from tqdm import tqdm\n",
    "from datetime import date, datetime\n",
    "import pandas as pd\n",
    "import numpy as np\n",
    "from sklearn.metrics import mean_squared_error, root_mean_squared_error\n",
    "from sklearn.linear_model import LinearRegression, Lasso\n",
    "from xgboost import XGBRegressor\n",
    "from lightgbm import LGBMRegressor\n",
    "import optuna\n",
    "from optuna.samplers import RandomSampler\n",
    "import warnings\n",
    "warnings.filterwarnings(\"ignore\")"
   ]
  },
  {
   "cell_type": "code",
   "execution_count": 2,
   "id": "c6fe051b",
   "metadata": {},
   "outputs": [
    {
     "name": "stdout",
     "output_type": "stream",
     "text": [
      "['BAY MAU.csv' 'BTLVT.csv' 'CAU NGA.csv' 'TU SON.csv' 'YENSO.csv']\n"
     ]
    },
    {
     "data": {
      "text/html": [
       "<div>\n",
       "<style scoped>\n",
       "    .dataframe tbody tr th:only-of-type {\n",
       "        vertical-align: middle;\n",
       "    }\n",
       "\n",
       "    .dataframe tbody tr th {\n",
       "        vertical-align: top;\n",
       "    }\n",
       "\n",
       "    .dataframe thead th {\n",
       "        text-align: right;\n",
       "    }\n",
       "</style>\n",
       "<table border=\"1\" class=\"dataframe\">\n",
       "  <thead>\n",
       "    <tr style=\"text-align: right;\">\n",
       "      <th></th>\n",
       "      <th>datetime</th>\n",
       "      <th>flow_in</th>\n",
       "      <th>flow_out1</th>\n",
       "      <th>flow_out2</th>\n",
       "      <th>flow_out3</th>\n",
       "      <th>temp</th>\n",
       "      <th>ph</th>\n",
       "      <th>tss</th>\n",
       "      <th>do</th>\n",
       "      <th>cod</th>\n",
       "      <th>...</th>\n",
       "      <th>do_prev_8</th>\n",
       "      <th>cod_prev_8</th>\n",
       "      <th>bod_prev_8</th>\n",
       "      <th>toc_prev_8</th>\n",
       "      <th>no3_prev_8</th>\n",
       "      <th>nh4_prev_8</th>\n",
       "      <th>po4_prev_8</th>\n",
       "      <th>total_n_prev_8</th>\n",
       "      <th>total_p_prev_8</th>\n",
       "      <th>Location_prev_8</th>\n",
       "    </tr>\n",
       "  </thead>\n",
       "  <tbody>\n",
       "    <tr>\n",
       "      <th>0</th>\n",
       "      <td>2024-01-01 08:00:00</td>\n",
       "      <td>542.08</td>\n",
       "      <td>129.61</td>\n",
       "      <td>116.77</td>\n",
       "      <td>515.14</td>\n",
       "      <td>26.99</td>\n",
       "      <td>7.19</td>\n",
       "      <td>7.23</td>\n",
       "      <td>NaN</td>\n",
       "      <td>25.36</td>\n",
       "      <td>...</td>\n",
       "      <td>NaN</td>\n",
       "      <td>27.16</td>\n",
       "      <td>NaN</td>\n",
       "      <td>NaN</td>\n",
       "      <td>NaN</td>\n",
       "      <td>0.89</td>\n",
       "      <td>1.00</td>\n",
       "      <td>NaN</td>\n",
       "      <td>NaN</td>\n",
       "      <td>BAY MAU.csv</td>\n",
       "    </tr>\n",
       "    <tr>\n",
       "      <th>1</th>\n",
       "      <td>2024-01-01 08:05:00</td>\n",
       "      <td>538.07</td>\n",
       "      <td>127.68</td>\n",
       "      <td>114.95</td>\n",
       "      <td>510.16</td>\n",
       "      <td>26.99</td>\n",
       "      <td>7.19</td>\n",
       "      <td>7.21</td>\n",
       "      <td>NaN</td>\n",
       "      <td>25.33</td>\n",
       "      <td>...</td>\n",
       "      <td>NaN</td>\n",
       "      <td>27.23</td>\n",
       "      <td>NaN</td>\n",
       "      <td>NaN</td>\n",
       "      <td>NaN</td>\n",
       "      <td>0.89</td>\n",
       "      <td>1.01</td>\n",
       "      <td>NaN</td>\n",
       "      <td>NaN</td>\n",
       "      <td>BAY MAU.csv</td>\n",
       "    </tr>\n",
       "    <tr>\n",
       "      <th>2</th>\n",
       "      <td>2024-01-01 08:10:00</td>\n",
       "      <td>537.03</td>\n",
       "      <td>126.99</td>\n",
       "      <td>113.83</td>\n",
       "      <td>531.90</td>\n",
       "      <td>26.99</td>\n",
       "      <td>7.19</td>\n",
       "      <td>7.18</td>\n",
       "      <td>NaN</td>\n",
       "      <td>25.36</td>\n",
       "      <td>...</td>\n",
       "      <td>NaN</td>\n",
       "      <td>27.27</td>\n",
       "      <td>NaN</td>\n",
       "      <td>NaN</td>\n",
       "      <td>NaN</td>\n",
       "      <td>0.89</td>\n",
       "      <td>1.01</td>\n",
       "      <td>NaN</td>\n",
       "      <td>NaN</td>\n",
       "      <td>BAY MAU.csv</td>\n",
       "    </tr>\n",
       "    <tr>\n",
       "      <th>3</th>\n",
       "      <td>2024-01-01 08:15:00</td>\n",
       "      <td>537.77</td>\n",
       "      <td>125.35</td>\n",
       "      <td>113.12</td>\n",
       "      <td>530.93</td>\n",
       "      <td>26.99</td>\n",
       "      <td>7.20</td>\n",
       "      <td>7.19</td>\n",
       "      <td>NaN</td>\n",
       "      <td>25.37</td>\n",
       "      <td>...</td>\n",
       "      <td>NaN</td>\n",
       "      <td>27.36</td>\n",
       "      <td>NaN</td>\n",
       "      <td>NaN</td>\n",
       "      <td>NaN</td>\n",
       "      <td>0.89</td>\n",
       "      <td>1.00</td>\n",
       "      <td>NaN</td>\n",
       "      <td>NaN</td>\n",
       "      <td>BAY MAU.csv</td>\n",
       "    </tr>\n",
       "    <tr>\n",
       "      <th>4</th>\n",
       "      <td>2024-01-01 08:20:00</td>\n",
       "      <td>537.07</td>\n",
       "      <td>125.23</td>\n",
       "      <td>113.72</td>\n",
       "      <td>531.85</td>\n",
       "      <td>26.99</td>\n",
       "      <td>7.19</td>\n",
       "      <td>7.18</td>\n",
       "      <td>NaN</td>\n",
       "      <td>25.36</td>\n",
       "      <td>...</td>\n",
       "      <td>NaN</td>\n",
       "      <td>27.38</td>\n",
       "      <td>NaN</td>\n",
       "      <td>NaN</td>\n",
       "      <td>NaN</td>\n",
       "      <td>0.88</td>\n",
       "      <td>1.01</td>\n",
       "      <td>NaN</td>\n",
       "      <td>NaN</td>\n",
       "      <td>BAY MAU.csv</td>\n",
       "    </tr>\n",
       "  </tbody>\n",
       "</table>\n",
       "<p>5 rows × 118 columns</p>\n",
       "</div>"
      ],
      "text/plain": [
       "             datetime  flow_in  flow_out1  flow_out2  flow_out3   temp    ph  \\\n",
       "0 2024-01-01 08:00:00   542.08     129.61     116.77     515.14  26.99  7.19   \n",
       "1 2024-01-01 08:05:00   538.07     127.68     114.95     510.16  26.99  7.19   \n",
       "2 2024-01-01 08:10:00   537.03     126.99     113.83     531.90  26.99  7.19   \n",
       "3 2024-01-01 08:15:00   537.77     125.35     113.12     530.93  26.99  7.20   \n",
       "4 2024-01-01 08:20:00   537.07     125.23     113.72     531.85  26.99  7.19   \n",
       "\n",
       "    tss  do    cod  ...  do_prev_8  cod_prev_8  bod_prev_8  toc_prev_8  \\\n",
       "0  7.23 NaN  25.36  ...        NaN       27.16         NaN         NaN   \n",
       "1  7.21 NaN  25.33  ...        NaN       27.23         NaN         NaN   \n",
       "2  7.18 NaN  25.36  ...        NaN       27.27         NaN         NaN   \n",
       "3  7.19 NaN  25.37  ...        NaN       27.36         NaN         NaN   \n",
       "4  7.18 NaN  25.36  ...        NaN       27.38         NaN         NaN   \n",
       "\n",
       "   no3_prev_8  nh4_prev_8  po4_prev_8 total_n_prev_8  total_p_prev_8  \\\n",
       "0         NaN        0.89        1.00            NaN             NaN   \n",
       "1         NaN        0.89        1.01            NaN             NaN   \n",
       "2         NaN        0.89        1.01            NaN             NaN   \n",
       "3         NaN        0.89        1.00            NaN             NaN   \n",
       "4         NaN        0.88        1.01            NaN             NaN   \n",
       "\n",
       "   Location_prev_8  \n",
       "0      BAY MAU.csv  \n",
       "1      BAY MAU.csv  \n",
       "2      BAY MAU.csv  \n",
       "3      BAY MAU.csv  \n",
       "4      BAY MAU.csv  \n",
       "\n",
       "[5 rows x 118 columns]"
      ]
     },
     "execution_count": 2,
     "metadata": {},
     "output_type": "execute_result"
    }
   ],
   "source": [
    "df = pd.read_csv(\"NMXLNT_df.csv\")\n",
    "df[\"datetime\"] = pd.to_datetime(df[\"datetime\"])\n",
    "print(df[\"Location\"].unique())\n",
    "df.head()"
   ]
  },
  {
   "cell_type": "markdown",
   "id": "908e2d67",
   "metadata": {},
   "source": [
    "Make CV split & compare with baseline"
   ]
  },
  {
   "cell_type": "code",
   "execution_count": 3,
   "id": "c5080c2d",
   "metadata": {},
   "outputs": [],
   "source": [
    "def create_cv_split(df, features_used, cv = 5):\n",
    "    X_train_arr = []\n",
    "    X_test_arr = []\n",
    "    Y_train_arr = []\n",
    "    Y_test_arr = []\n",
    "    start_month = 13 - cv\n",
    "    for i in range(cv):\n",
    "        train = deepcopy(df[df[\"datetime\"].dt.month < start_month + i].reset_index().drop(\"index\", axis = 1))\n",
    "        test = deepcopy(df[(df[\"datetime\"].dt.month >= start_month + i) & (df[\"datetime\"].dt.month < start_month + 1 + i)].reset_index().drop(\"index\", axis = 1))\n",
    "        X_train_arr.append(train[features_used])\n",
    "        X_test_arr.append(test[features_used])\n",
    "        Y_train_arr.append(train[\"cod\"])\n",
    "        Y_test_arr.append(test[\"cod\"])\n",
    "    return X_train_arr, X_test_arr, Y_train_arr, Y_test_arr"
   ]
  },
  {
   "cell_type": "code",
   "execution_count": 4,
   "id": "18fbffef",
   "metadata": {},
   "outputs": [],
   "source": [
    "def create_cv_split_location(df, features_used, loc, cv = 5):\n",
    "    df = df[df[\"Location\"] == loc].reset_index().drop(\"index\", axis = 1)\n",
    "    X_train_arr = []\n",
    "    X_test_arr = []\n",
    "    Y_train_arr = []\n",
    "    Y_test_arr = []\n",
    "    start_month = 13 - cv\n",
    "    for i in range(cv):\n",
    "        train = deepcopy(df[df[\"datetime\"].dt.month < start_month + i].reset_index().drop(\"index\", axis = 1))\n",
    "        test = deepcopy(df[(df[\"datetime\"].dt.month >= start_month + i) & (df[\"datetime\"].dt.month < start_month + 1 + i)].reset_index().drop(\"index\", axis = 1))\n",
    "        X_train_arr.append(train[features_used])\n",
    "        X_test_arr.append(test[features_used])\n",
    "        Y_train_arr.append(train[\"cod\"])\n",
    "        Y_test_arr.append(test[\"cod\"])\n",
    "    return X_train_arr, X_test_arr, Y_train_arr, Y_test_arr"
   ]
  },
  {
   "cell_type": "code",
   "execution_count": 5,
   "id": "ce9bb7f0",
   "metadata": {},
   "outputs": [],
   "source": [
    "def create_cv_split_diff(df, features_used, time_diff = 4, cv = 5):\n",
    "    X_train_arr = []\n",
    "    X_test_arr = []\n",
    "    Y_train_arr = []\n",
    "    Y_test_arr = []\n",
    "    start_month = 13 - cv\n",
    "    for i in range(cv):\n",
    "        train = deepcopy(df[df[\"datetime\"].dt.month < start_month + i].reset_index().drop(\"index\", axis = 1))\n",
    "        test = deepcopy(df[(df[\"datetime\"].dt.month >= start_month + i) & (df[\"datetime\"].dt.month < start_month + 1 + i)].reset_index().drop(\"index\", axis = 1))\n",
    "        X_train_arr.append(train[features_used])\n",
    "        X_test_arr.append(test[features_used])\n",
    "        Y_train_arr.append(train[f\"cod_diff_{time_diff}\"])\n",
    "        Y_test_arr.append(test[f\"cod_diff_{time_diff}\"])\n",
    "    return X_train_arr, X_test_arr, Y_train_arr, Y_test_arr"
   ]
  },
  {
   "cell_type": "markdown",
   "id": "ff3e8742",
   "metadata": {},
   "source": [
    "Make the model and finetune"
   ]
  },
  {
   "cell_type": "code",
   "execution_count": 6,
   "id": "1483afd4",
   "metadata": {},
   "outputs": [],
   "source": [
    "# Finetuning XGBoost\n",
    "def objective_xgboost(trial):\n",
    "    params = {\n",
    "        \"n_estimators\": 100,\n",
    "        \"max_depth\": trial.suggest_int(\"max_depth\", 1, 10),\n",
    "        \"learning_rate\": trial.suggest_float(\"learning_rate\", 0.001, 0.1, log = True),\n",
    "        \"verbosity\": 0,\n",
    "        \"subsample\": trial.suggest_float(\"subsample\", 0.05, 1.0),\n",
    "        \"colsample_bytree\": trial.suggest_float(\"colsample_bytree\", 0, 1),\n",
    "        \"min_child_weight\": trial.suggest_int(\"min_child_weight\", 1, 10),\n",
    "        \"enable_categorical\": True,\n",
    "        \"random_state\": 101\n",
    "    }\n",
    "\n",
    "    xgbr = XGBRegressor(**params)\n",
    "    cv_rmse = 0\n",
    "\n",
    "    for i in range(5):\n",
    "        X_train, X_test = X_train_arr[i], X_test_arr[i]\n",
    "        Y_train, Y_test = Y_train_arr[i], Y_test_arr[i]\n",
    "        xgbr.fit(X_train, Y_train)\n",
    "        Y_pred = xgbr.predict(X_test)\n",
    "        cv_rmse += root_mean_squared_error(Y_test, Y_pred)\n",
    "    \n",
    "    return cv_rmse / 5\n",
    "\n",
    "def objective_lightgbm(trial):\n",
    "    params = {\n",
    "        \"n_estimators\": 100,\n",
    "        \"verbosity\": -1,\n",
    "        \"learning_rate\": trial.suggest_float(\"learning_rate\", 0.001, 0.1, log=True),\n",
    "        \"num_leaves\": trial.suggest_int(\"num_leaves\", 2, 2**10),\n",
    "        \"subsample\": trial.suggest_float(\"subsample\", 0.05, 1.0),\n",
    "        \"colsample_bytree\": trial.suggest_float(\"colsample_bytree\", 0.05, 1.0),\n",
    "        \"min_data_in_leaf\": trial.suggest_int(\"min_data_in_leaf\", 1, 100),\n",
    "        \"random_state\": 101\n",
    "    }\n",
    "\n",
    "    lgbr = LGBMRegressor(**params)\n",
    "    cv_rmse = 0\n",
    "\n",
    "    for i in range(5):\n",
    "        X_train, X_test = X_train_arr[i], X_test_arr[i]\n",
    "        Y_train, Y_test = Y_train_arr[i], Y_test_arr[i]\n",
    "        lgbr.fit(X_train, Y_train)\n",
    "        Y_pred = lgbr.predict(X_test)\n",
    "        cv_rmse += root_mean_squared_error(Y_test, Y_pred)\n",
    "    \n",
    "    return cv_rmse / 5"
   ]
  },
  {
   "cell_type": "code",
   "execution_count": 7,
   "id": "a930e7ce",
   "metadata": {},
   "outputs": [],
   "source": [
    "def optimize_xgboost(study_name, storage_name, objective_function=objective_xgboost, n_trials = 50):\n",
    "    print(\"Conduct hyperparam opt for XGBoost\")\n",
    "    study = optuna.create_study(\n",
    "        study_name = study_name,\n",
    "        direction ='minimize',\n",
    "        storage = f\"sqlite:///{storage_name}.db\",\n",
    "        sampler = RandomSampler(seed = 101),\n",
    "        load_if_exists=True\n",
    "    )\n",
    "    study.optimize(objective_function, n_trials=n_trials, n_jobs=-1)\n",
    "    print('Best hyperparameters:', study.best_params)\n",
    "    print('Best RMSE:', study.best_value)\n",
    "    return study.best_params\n",
    "\n",
    "def optimize_lightgbm(study_name, storage_name, objective_function=objective_lightgbm, n_trials = 50):\n",
    "    print(\"Conduct hyperparam opt for LightGBM\")\n",
    "    study = optuna.create_study(\n",
    "        study_name = study_name,\n",
    "        direction='minimize',\n",
    "        storage = f\"sqlite:///{storage_name}.db\",\n",
    "        sampler = RandomSampler(seed = 101),\n",
    "        load_if_exists=True\n",
    "    )\n",
    "    study.optimize(objective_function, n_trials=n_trials, n_jobs=-1)\n",
    "    print('Best hyperparameters:', study.best_params)\n",
    "    print('Best MSE:', study.best_value)\n",
    "    return study.best_params"
   ]
  },
  {
   "cell_type": "code",
   "execution_count": 8,
   "id": "ddad1809",
   "metadata": {},
   "outputs": [
    {
     "data": {
      "text/plain": [
       "{4: np.float64(3.2628565506763394),\n",
       " 5: np.float64(3.4706192048817934),\n",
       " 6: np.float64(3.628221882592013),\n",
       " 7: np.float64(3.7476215562206967),\n",
       " 8: np.float64(3.839878002858179)}"
      ]
     },
     "execution_count": 8,
     "metadata": {},
     "output_type": "execute_result"
    }
   ],
   "source": [
    "# use 1 month for test and previous montsh for predict\n",
    "# Take 1: only use features appear in all data\n",
    "features_used = [f\"cod_prev_{i}\" for i in range(4, 9)] + \\\n",
    "                [f\"temp_prev_{i}\" for i in range(4, 9)] + \\\n",
    "                [f\"ph_prev_{i}\" for i in range(4, 9)] + \\\n",
    "                [f\"tss_prev_{i}\" for i in range(4, 9)] \n",
    "#                [f\"nh4_prev_{i}\" for i in range(4, 9)]\n",
    "X_train_arr, X_test_arr, Y_train_arr, Y_test_arr = create_cv_split(df, features_used)\n",
    "\n",
    "# baseline: using last k hours to predict\n",
    "baseline_score = {\n",
    "    i: 0 for i in range(4, 9)\n",
    "}\n",
    "for j in range(4, 9):\n",
    "    for i in range(5):\n",
    "        baseline_score[j] += np.sqrt(np.mean((Y_test_arr[i] - X_test_arr[i][f\"cod_prev_{j}\"])**2))\n",
    "    baseline_score[j] /= 5\n",
    "baseline_score"
   ]
  },
  {
   "cell_type": "code",
   "execution_count": 9,
   "id": "c14d56f5",
   "metadata": {},
   "outputs": [
    {
     "name": "stdout",
     "output_type": "stream",
     "text": [
      "Conduct hyperparam opt for XGBoost\n"
     ]
    },
    {
     "name": "stderr",
     "output_type": "stream",
     "text": [
      "[I 2025-04-23 23:05:13,230] A new study created in RDB with name: xgboost_study_2025-04-23\n",
      "[I 2025-04-23 23:05:41,200] Trial 3 finished with value: 5.862001733142196 and parameters: {'max_depth': 2, 'learning_rate': 0.001208945601585532, 'subsample': 0.2250882289279471, 'colsample_bytree': 0.6434277655210398, 'min_child_weight': 6}. Best is trial 3 with value: 5.862001733142196.\n",
      "[I 2025-04-23 23:05:57,268] Trial 2 finished with value: 3.602968483867875 and parameters: {'max_depth': 4, 'learning_rate': 0.012039187427908764, 'subsample': 0.5816754324104184, 'colsample_bytree': 0.3723099927909129, 'min_child_weight': 5}. Best is trial 2 with value: 3.602968483867875.\n",
      "[I 2025-04-23 23:06:17,399] Trial 1 finished with value: 5.938270149758241 and parameters: {'max_depth': 6, 'learning_rate': 0.0010670607287452452, 'subsample': 0.7636085127789584, 'colsample_bytree': 0.37868296915944744, 'min_child_weight': 10}. Best is trial 2 with value: 3.602968483867875.\n",
      "[I 2025-04-23 23:06:25,878] Trial 5 finished with value: 5.836558154324757 and parameters: {'max_depth': 2, 'learning_rate': 0.0012602022466916968, 'subsample': 0.17427782198602793, 'colsample_bytree': 0.9081563741180334, 'min_child_weight': 10}. Best is trial 2 with value: 3.602968483867875.\n",
      "[I 2025-04-23 23:06:29,232] Trial 0 finished with value: 5.838778057329032 and parameters: {'max_depth': 7, 'learning_rate': 0.0012785969865828568, 'subsample': 0.819137274004532, 'colsample_bytree': 0.6851108786230616, 'min_child_weight': 4}. Best is trial 2 with value: 3.602968483867875.\n",
      "[I 2025-04-23 23:07:14,423] Trial 8 finished with value: 6.242348157275225 and parameters: {'max_depth': 5, 'learning_rate': 0.001046710611602228, 'subsample': 0.2666387009595332, 'colsample_bytree': 0.05880364216239542, 'min_child_weight': 2}. Best is trial 2 with value: 3.602968483867875.\n",
      "[I 2025-04-23 23:07:16,244] Trial 4 finished with value: 4.334830977627783 and parameters: {'max_depth': 9, 'learning_rate': 0.0070903848275210984, 'subsample': 0.8751160716734564, 'colsample_bytree': 0.6703017336840794, 'min_child_weight': 6}. Best is trial 2 with value: 3.602968483867875.\n",
      "[I 2025-04-23 23:07:23,970] Trial 6 finished with value: 5.353513908240108 and parameters: {'max_depth': 7, 'learning_rate': 0.002666981555307443, 'subsample': 0.11635957920630105, 'colsample_bytree': 0.41415761096018544, 'min_child_weight': 7}. Best is trial 2 with value: 3.602968483867875.\n",
      "[I 2025-04-23 23:07:45,282] Trial 9 finished with value: 5.55903880391741 and parameters: {'max_depth': 2, 'learning_rate': 0.001991898344035988, 'subsample': 0.7940832148556757, 'colsample_bytree': 0.9003449381230438, 'min_child_weight': 2}. Best is trial 2 with value: 3.602968483867875.\n",
      "[I 2025-04-23 23:07:46,183] Trial 10 finished with value: 6.03232246832503 and parameters: {'max_depth': 2, 'learning_rate': 0.001050258042248519, 'subsample': 0.9402266685177325, 'colsample_bytree': 0.22155399334280002, 'min_child_weight': 7}. Best is trial 2 with value: 3.602968483867875.\n",
      "[I 2025-04-23 23:07:55,208] Trial 11 finished with value: 4.556360212153147 and parameters: {'max_depth': 2, 'learning_rate': 0.011941689869488369, 'subsample': 0.180990534668394, 'colsample_bytree': 0.1283483725741681, 'min_child_weight': 3}. Best is trial 2 with value: 3.602968483867875.\n",
      "[I 2025-04-23 23:07:59,258] Trial 7 finished with value: 6.030339365228137 and parameters: {'max_depth': 10, 'learning_rate': 0.002762299634705393, 'subsample': 0.17454251193442288, 'colsample_bytree': 0.06301425867619181, 'min_child_weight': 10}. Best is trial 2 with value: 3.602968483867875.\n",
      "[I 2025-04-23 23:08:05,131] Trial 12 finished with value: 3.72065431985846 and parameters: {'max_depth': 1, 'learning_rate': 0.02530895567811997, 'subsample': 0.11707962114258358, 'colsample_bytree': 0.2064837272772322, 'min_child_weight': 3}. Best is trial 2 with value: 3.602968483867875.\n",
      "[I 2025-04-23 23:08:45,464] Trial 16 finished with value: 5.279569650391116 and parameters: {'max_depth': 4, 'learning_rate': 0.0027098952806704313, 'subsample': 0.9724956715345837, 'colsample_bytree': 0.4922209662189333, 'min_child_weight': 7}. Best is trial 2 with value: 3.602968483867875.\n",
      "[I 2025-04-23 23:08:46,726] Trial 15 finished with value: 3.2682385991208185 and parameters: {'max_depth': 5, 'learning_rate': 0.038249219246606556, 'subsample': 0.4820185087349724, 'colsample_bytree': 0.18504507682309168, 'min_child_weight': 2}. Best is trial 15 with value: 3.2682385991208185.\n",
      "[I 2025-04-23 23:08:56,868] Trial 13 finished with value: 3.482395490954496 and parameters: {'max_depth': 7, 'learning_rate': 0.02006957633969516, 'subsample': 0.9433540429908482, 'colsample_bytree': 0.899008125358934, 'min_child_weight': 8}. Best is trial 15 with value: 3.2682385991208185.\n",
      "[I 2025-04-23 23:09:09,504] Trial 14 finished with value: 3.535230802234073 and parameters: {'max_depth': 8, 'learning_rate': 0.0752274522444292, 'subsample': 0.42516394749296926, 'colsample_bytree': 0.3996990889845292, 'min_child_weight': 4}. Best is trial 15 with value: 3.2682385991208185.\n",
      "[I 2025-04-23 23:09:27,021] Trial 18 finished with value: 3.09429635974743 and parameters: {'max_depth': 4, 'learning_rate': 0.055386993972150605, 'subsample': 0.6018283420701733, 'colsample_bytree': 0.3287412593863468, 'min_child_weight': 7}. Best is trial 18 with value: 3.09429635974743.\n",
      "[I 2025-04-23 23:09:57,383] Trial 17 finished with value: 5.929198097278567 and parameters: {'max_depth': 7, 'learning_rate': 0.0010405387509397736, 'subsample': 0.8679646916784027, 'colsample_bytree': 0.8116585420295416, 'min_child_weight': 1}. Best is trial 18 with value: 3.09429635974743.\n",
      "[I 2025-04-23 23:10:09,714] Trial 21 finished with value: 5.682236550244954 and parameters: {'max_depth': 4, 'learning_rate': 0.0017379153083571077, 'subsample': 0.8331547214003129, 'colsample_bytree': 0.31889770696481234, 'min_child_weight': 2}. Best is trial 18 with value: 3.09429635974743.\n",
      "[I 2025-04-23 23:10:47,645] Trial 19 finished with value: 3.5240489265499066 and parameters: {'max_depth': 10, 'learning_rate': 0.03824226544888596, 'subsample': 0.8840599797509701, 'colsample_bytree': 0.7202627594919367, 'min_child_weight': 6}. Best is trial 18 with value: 3.09429635974743.\n",
      "[I 2025-04-23 23:10:52,638] Trial 23 finished with value: 5.73052609774824 and parameters: {'max_depth': 4, 'learning_rate': 0.001431955857727662, 'subsample': 0.6315166142171735, 'colsample_bytree': 0.7418028671089195, 'min_child_weight': 9}. Best is trial 18 with value: 3.09429635974743.\n",
      "[I 2025-04-23 23:11:03,728] Trial 20 finished with value: 4.834796564770717 and parameters: {'max_depth': 10, 'learning_rate': 0.004613857570167803, 'subsample': 0.898193772411851, 'colsample_bytree': 0.9374392347781966, 'min_child_weight': 3}. Best is trial 18 with value: 3.09429635974743.\n",
      "[I 2025-04-23 23:11:17,236] Trial 22 finished with value: 6.061276477256815 and parameters: {'max_depth': 9, 'learning_rate': 0.0025077858643157884, 'subsample': 0.25030659518344917, 'colsample_bytree': 0.07472524162422167, 'min_child_weight': 8}. Best is trial 18 with value: 3.09429635974743.\n",
      "[I 2025-04-23 23:11:34,426] Trial 26 finished with value: 3.84483807678549 and parameters: {'max_depth': 3, 'learning_rate': 0.020757615978473226, 'subsample': 0.7733819293267028, 'colsample_bytree': 0.14708382536071907, 'min_child_weight': 2}. Best is trial 18 with value: 3.09429635974743.\n",
      "[I 2025-04-23 23:11:48,258] Trial 25 finished with value: 6.081943748562727 and parameters: {'max_depth': 6, 'learning_rate': 0.0010349929063091544, 'subsample': 0.4737337803040932, 'colsample_bytree': 0.1918418149383001, 'min_child_weight': 1}. Best is trial 18 with value: 3.09429635974743.\n",
      "[I 2025-04-23 23:11:52,298] Trial 27 finished with value: 5.123413775745623 and parameters: {'max_depth': 3, 'learning_rate': 0.004187409235982079, 'subsample': 0.4748924940773778, 'colsample_bytree': 0.22623185621862574, 'min_child_weight': 3}. Best is trial 18 with value: 3.09429635974743.\n",
      "[I 2025-04-23 23:12:03,175] Trial 28 finished with value: 5.942397544160912 and parameters: {'max_depth': 2, 'learning_rate': 0.0010382159034697713, 'subsample': 0.7253271321927428, 'colsample_bytree': 0.429805549417584, 'min_child_weight': 9}. Best is trial 18 with value: 3.09429635974743.\n",
      "[I 2025-04-23 23:12:06,831] Trial 24 finished with value: 3.4261096927475116 and parameters: {'max_depth': 8, 'learning_rate': 0.06890411535020338, 'subsample': 0.7198368885969317, 'colsample_bytree': 0.7137216594706633, 'min_child_weight': 10}. Best is trial 18 with value: 3.09429635974743.\n",
      "[I 2025-04-23 23:12:12,384] Trial 30 finished with value: 5.450345002307229 and parameters: {'max_depth': 1, 'learning_rate': 0.0028957403389179856, 'subsample': 0.2606813587315489, 'colsample_bytree': 0.906278501661915, 'min_child_weight': 7}. Best is trial 18 with value: 3.09429635974743.\n",
      "[I 2025-04-23 23:12:36,568] Trial 33 finished with value: 5.4697998709145565 and parameters: {'max_depth': 2, 'learning_rate': 0.002258967414029221, 'subsample': 0.9408079030478445, 'colsample_bytree': 0.6882424039593197, 'min_child_weight': 1}. Best is trial 18 with value: 3.09429635974743.\n",
      "[I 2025-04-23 23:12:53,275] Trial 32 finished with value: 3.2441390236478527 and parameters: {'max_depth': 5, 'learning_rate': 0.08742431335940216, 'subsample': 0.7471839240410205, 'colsample_bytree': 0.6228045441712742, 'min_child_weight': 4}. Best is trial 18 with value: 3.09429635974743.\n",
      "[I 2025-04-23 23:13:14,988] Trial 34 finished with value: 5.935775000780003 and parameters: {'max_depth': 4, 'learning_rate': 0.001935534698002896, 'subsample': 0.7651412490385906, 'colsample_bytree': 0.10133214071359009, 'min_child_weight': 10}. Best is trial 18 with value: 3.09429635974743.\n",
      "[I 2025-04-23 23:13:34,477] Trial 29 finished with value: 3.617594175702858 and parameters: {'max_depth': 10, 'learning_rate': 0.05869835324755608, 'subsample': 0.9444543043564372, 'colsample_bytree': 0.4976152440463968, 'min_child_weight': 2}. Best is trial 18 with value: 3.09429635974743.\n",
      "[I 2025-04-23 23:13:46,495] Trial 31 finished with value: 3.395690891279579 and parameters: {'max_depth': 10, 'learning_rate': 0.02665759837794209, 'subsample': 0.28979397415213337, 'colsample_bytree': 0.9429563880479016, 'min_child_weight': 6}. Best is trial 18 with value: 3.09429635974743.\n",
      "[I 2025-04-23 23:13:49,275] Trial 36 finished with value: 5.639119868683832 and parameters: {'max_depth': 3, 'learning_rate': 0.0016805238989278707, 'subsample': 0.08163767149993276, 'colsample_bytree': 0.9933399133198852, 'min_child_weight': 3}. Best is trial 18 with value: 3.09429635974743.\n",
      "[I 2025-04-23 23:13:52,727] Trial 35 finished with value: 4.974188641088005 and parameters: {'max_depth': 6, 'learning_rate': 0.0037094506798492784, 'subsample': 0.8929856086779782, 'colsample_bytree': 0.5538507911654511, 'min_child_weight': 2}. Best is trial 18 with value: 3.09429635974743.\n",
      "[I 2025-04-23 23:14:15,854] Trial 39 finished with value: 3.2332790123342763 and parameters: {'max_depth': 2, 'learning_rate': 0.019953972508734534, 'subsample': 0.29461319073255304, 'colsample_bytree': 0.407658150717947, 'min_child_weight': 9}. Best is trial 18 with value: 3.09429635974743.\n",
      "[I 2025-04-23 23:15:19,571] Trial 37 finished with value: 5.921223814219836 and parameters: {'max_depth': 10, 'learning_rate': 0.0011073400942238597, 'subsample': 0.5079404437301064, 'colsample_bytree': 0.4647026558399787, 'min_child_weight': 10}. Best is trial 18 with value: 3.09429635974743.\n",
      "[I 2025-04-23 23:15:23,085] Trial 38 finished with value: 4.048475251871975 and parameters: {'max_depth': 9, 'learning_rate': 0.009275657558386984, 'subsample': 0.6250017224285733, 'colsample_bytree': 0.9593024953355228, 'min_child_weight': 3}. Best is trial 18 with value: 3.09429635974743.\n",
      "[I 2025-04-23 23:15:25,483] Trial 40 finished with value: 5.812742979646917 and parameters: {'max_depth': 9, 'learning_rate': 0.0013217060083807537, 'subsample': 0.1449407272171539, 'colsample_bytree': 0.7363956328775172, 'min_child_weight': 7}. Best is trial 18 with value: 3.09429635974743.\n",
      "[I 2025-04-23 23:15:45,125] Trial 41 finished with value: 5.648625486340385 and parameters: {'max_depth': 9, 'learning_rate': 0.0021029286898529343, 'subsample': 0.22800222639858092, 'colsample_bytree': 0.289777583224751, 'min_child_weight': 7}. Best is trial 18 with value: 3.09429635974743.\n",
      "[I 2025-04-23 23:15:55,571] Trial 42 finished with value: 3.1870051103893724 and parameters: {'max_depth': 3, 'learning_rate': 0.01733632572500933, 'subsample': 0.4980139647277186, 'colsample_bytree': 0.7289428287562004, 'min_child_weight': 4}. Best is trial 18 with value: 3.09429635974743.\n",
      "[I 2025-04-23 23:16:03,616] Trial 44 finished with value: 5.640788839039826 and parameters: {'max_depth': 3, 'learning_rate': 0.001677611874089344, 'subsample': 0.6169017529253386, 'colsample_bytree': 0.9287692959862034, 'min_child_weight': 6}. Best is trial 18 with value: 3.09429635974743.\n",
      "[I 2025-04-23 23:16:07,238] Trial 45 finished with value: 6.154882590348694 and parameters: {'max_depth': 1, 'learning_rate': 0.002265357786168732, 'subsample': 0.6038874974766065, 'colsample_bytree': 0.06206156728563328, 'min_child_weight': 10}. Best is trial 18 with value: 3.09429635974743.\n",
      "[I 2025-04-23 23:16:34,402] Trial 48 finished with value: 3.0486235193616094 and parameters: {'max_depth': 2, 'learning_rate': 0.05244989750226547, 'subsample': 0.24394226277371367, 'colsample_bytree': 0.477401488428844, 'min_child_weight': 7}. Best is trial 48 with value: 3.0486235193616094.\n",
      "[I 2025-04-23 23:16:41,761] Trial 46 finished with value: 4.980047906902312 and parameters: {'max_depth': 4, 'learning_rate': 0.0034937565255198657, 'subsample': 0.8989269345026059, 'colsample_bytree': 0.767672986281674, 'min_child_weight': 3}. Best is trial 48 with value: 3.0486235193616094.\n",
      "[I 2025-04-23 23:16:48,139] Trial 43 finished with value: 3.5423670977385227 and parameters: {'max_depth': 8, 'learning_rate': 0.04974676913467507, 'subsample': 0.4437213852250272, 'colsample_bytree': 0.8564887263219154, 'min_child_weight': 5}. Best is trial 48 with value: 3.0486235193616094.\n",
      "[I 2025-04-23 23:16:50,287] Trial 47 finished with value: 3.1613866469863607 and parameters: {'max_depth': 5, 'learning_rate': 0.0640179482754206, 'subsample': 0.3056419072858609, 'colsample_bytree': 0.2803353734147197, 'min_child_weight': 10}. Best is trial 48 with value: 3.0486235193616094.\n",
      "[I 2025-04-23 23:17:01,789] Trial 49 finished with value: 5.763562467561146 and parameters: {'max_depth': 5, 'learning_rate': 0.0013688049399023844, 'subsample': 0.5255962873398549, 'colsample_bytree': 0.8576131312934533, 'min_child_weight': 4}. Best is trial 48 with value: 3.0486235193616094.\n"
     ]
    },
    {
     "name": "stdout",
     "output_type": "stream",
     "text": [
      "Best hyperparameters: {'max_depth': 2, 'learning_rate': 0.05244989750226547, 'subsample': 0.24394226277371367, 'colsample_bytree': 0.477401488428844, 'min_child_weight': 7}\n",
      "Best RMSE: 3.0486235193616094\n"
     ]
    }
   ],
   "source": [
    "best_params_xgboost = optimize_xgboost(\n",
    "    f\"xgboost_study_{str(date.today())}\", \n",
    "    f\"xgboost_study_{str(date.today())}\"\n",
    ")"
   ]
  },
  {
   "cell_type": "code",
   "execution_count": 10,
   "id": "2f33d150",
   "metadata": {},
   "outputs": [
    {
     "name": "stdout",
     "output_type": "stream",
     "text": [
      "Conduct hyperparam opt for LightGBM\n"
     ]
    },
    {
     "name": "stderr",
     "output_type": "stream",
     "text": [
      "[I 2025-04-23 23:17:02,255] A new study created in RDB with name: lightgbm_study_2025-04-23\n",
      "[I 2025-04-23 23:17:16,317] Trial 0 finished with value: 4.6815832221873155 and parameters: {'learning_rate': 0.007885783133805738, 'num_leaves': 13, 'subsample': 0.15693313865647068, 'colsample_bytree': 0.1713134659252067, 'min_data_in_leaf': 73}. Best is trial 0 with value: 4.6815832221873155.\n",
      "[I 2025-04-23 23:17:37,472] Trial 1 finished with value: 3.21730690705608 and parameters: {'learning_rate': 0.03966977160887868, 'num_leaves': 86, 'subsample': 0.6079466170277738, 'colsample_bytree': 0.8988273143956002, 'min_data_in_leaf': 43}. Best is trial 1 with value: 3.21730690705608.\n",
      "[I 2025-04-23 23:17:55,875] Trial 2 finished with value: 3.7078286641480553 and parameters: {'learning_rate': 0.025223110968389743, 'num_leaves': 306, 'subsample': 0.5046030013773114, 'colsample_bytree': 0.20308669603250434, 'min_data_in_leaf': 98}. Best is trial 1 with value: 3.21730690705608.\n",
      "[I 2025-04-23 23:18:35,255] Trial 3 finished with value: 3.68987989401343 and parameters: {'learning_rate': 0.012261951410982868, 'num_leaves': 549, 'subsample': 0.37226201577577694, 'colsample_bytree': 0.6051575339609635, 'min_data_in_leaf': 65}. Best is trial 1 with value: 3.21730690705608.\n",
      "[I 2025-04-23 23:18:49,017] Trial 4 finished with value: 4.787483042907835 and parameters: {'learning_rate': 0.004664314541898013, 'num_leaves': 606, 'subsample': 0.4382340225896457, 'colsample_bytree': 0.5155870908183765, 'min_data_in_leaf': 91}. Best is trial 1 with value: 3.21730690705608.\n",
      "[I 2025-04-23 23:18:49,991] Trial 7 finished with value: 3.5044716889331164 and parameters: {'learning_rate': 0.012208282825106895, 'num_leaves': 7, 'subsample': 0.33332737335961965, 'colsample_bytree': 0.6855130292929826, 'min_data_in_leaf': 23}. Best is trial 1 with value: 3.21730690705608.\n",
      "[I 2025-04-23 23:19:10,791] Trial 6 finished with value: 4.826195083759929 and parameters: {'learning_rate': 0.011551573222103331, 'num_leaves': 545, 'subsample': 0.6268681378941549, 'colsample_bytree': 0.08649152373073973, 'min_data_in_leaf': 39}. Best is trial 1 with value: 3.21730690705608.\n",
      "[I 2025-04-23 23:19:23,351] Trial 9 finished with value: 3.3167597483854836 and parameters: {'learning_rate': 0.019258952700376884, 'num_leaves': 89, 'subsample': 0.8655755301867865, 'colsample_bytree': 0.8223269534833577, 'min_data_in_leaf': 13}. Best is trial 1 with value: 3.21730690705608.\n",
      "[I 2025-04-23 23:19:41,944] Trial 8 finished with value: 5.882046172280303 and parameters: {'learning_rate': 0.0011713847110079417, 'num_leaves': 224, 'subsample': 0.9159444348381778, 'colsample_bytree': 0.5430237927543081, 'min_data_in_leaf': 24}. Best is trial 1 with value: 3.21730690705608.\n",
      "[I 2025-04-23 23:20:29,274] Trial 10 finished with value: 3.4633926002356787 and parameters: {'learning_rate': 0.019156861392714823, 'num_leaves': 399, 'subsample': 0.5454613915653116, 'colsample_bytree': 0.7651840734335351, 'min_data_in_leaf': 63}. Best is trial 1 with value: 3.21730690705608.\n",
      "[I 2025-04-23 23:20:29,789] Trial 5 finished with value: 3.9574557130259165 and parameters: {'learning_rate': 0.010797732598110699, 'num_leaves': 976, 'subsample': 0.576412472854842, 'colsample_bytree': 0.9926770745465929, 'min_data_in_leaf': 25}. Best is trial 1 with value: 3.21730690705608.\n",
      "[I 2025-04-23 23:20:59,363] Trial 11 finished with value: 3.415097765108984 and parameters: {'learning_rate': 0.0467542934731, 'num_leaves': 512, 'subsample': 0.7666080134383036, 'colsample_bytree': 0.5421190202591637, 'min_data_in_leaf': 48}. Best is trial 1 with value: 3.21730690705608.\n",
      "[I 2025-04-23 23:21:11,462] Trial 15 finished with value: 3.432105797113576 and parameters: {'learning_rate': 0.017437181436287943, 'num_leaves': 3, 'subsample': 0.4366822455588602, 'colsample_bytree': 0.4998035110550407, 'min_data_in_leaf': 17}. Best is trial 1 with value: 3.21730690705608.\n",
      "[I 2025-04-23 23:21:18,910] Trial 14 finished with value: 4.470313063571996 and parameters: {'learning_rate': 0.00567686699151725, 'num_leaves': 122, 'subsample': 0.6685358801072311, 'colsample_bytree': 0.9812063078811515, 'min_data_in_leaf': 18}. Best is trial 1 with value: 3.21730690705608.\n",
      "[I 2025-04-23 23:21:44,294] Trial 16 finished with value: 3.2850549701021583 and parameters: {'learning_rate': 0.02311359940485752, 'num_leaves': 97, 'subsample': 0.9359367836094621, 'colsample_bytree': 0.48210268191860856, 'min_data_in_leaf': 53}. Best is trial 1 with value: 3.21730690705608.\n",
      "[I 2025-04-23 23:21:49,761] Trial 13 finished with value: 4.676813799070085 and parameters: {'learning_rate': 0.004680510440147428, 'num_leaves': 278, 'subsample': 0.39466495534512414, 'colsample_bytree': 0.9230449322911166, 'min_data_in_leaf': 89}. Best is trial 1 with value: 3.21730690705608.\n",
      "[I 2025-04-23 23:22:28,340] Trial 18 finished with value: 3.419902296348191 and parameters: {'learning_rate': 0.029263713668942405, 'num_leaves': 187, 'subsample': 0.3934876229620736, 'colsample_bytree': 0.7004056202953053, 'min_data_in_leaf': 6}. Best is trial 1 with value: 3.21730690705608.\n",
      "[I 2025-04-23 23:22:40,771] Trial 12 finished with value: 3.5100933103585974 and parameters: {'learning_rate': 0.07128570270695812, 'num_leaves': 992, 'subsample': 0.19451602027188108, 'colsample_bytree': 0.6941074495905472, 'min_data_in_leaf': 48}. Best is trial 1 with value: 3.21730690705608.\n",
      "[I 2025-04-23 23:22:52,851] Trial 17 finished with value: 5.573193807870136 and parameters: {'learning_rate': 0.0018737220309061613, 'num_leaves': 471, 'subsample': 0.9795153234869927, 'colsample_bytree': 0.8045180212893924, 'min_data_in_leaf': 90}. Best is trial 1 with value: 3.21730690705608.\n",
      "[I 2025-04-23 23:23:02,655] Trial 19 finished with value: 4.195654327177827 and parameters: {'learning_rate': 0.007891146566060069, 'num_leaves': 454, 'subsample': 0.2989345258455507, 'colsample_bytree': 0.3847652741947728, 'min_data_in_leaf': 65}. Best is trial 1 with value: 3.21730690705608.\n",
      "[I 2025-04-23 23:23:43,113] Trial 21 finished with value: 4.081380902999605 and parameters: {'learning_rate': 0.014450261405232515, 'num_leaves': 569, 'subsample': 0.5438718599051541, 'colsample_bytree': 0.1467986403840441, 'min_data_in_leaf': 96}. Best is trial 1 with value: 3.21730690705608.\n",
      "[I 2025-04-23 23:24:19,760] Trial 20 finished with value: 5.454636859764714 and parameters: {'learning_rate': 0.002372508820327806, 'num_leaves': 788, 'subsample': 0.8761776653741112, 'colsample_bytree': 0.6830839955256555, 'min_data_in_leaf': 36}. Best is trial 1 with value: 3.21730690705608.\n",
      "[I 2025-04-23 23:24:25,992] Trial 23 finished with value: 3.4965415634577455 and parameters: {'learning_rate': 0.04765741583544679, 'num_leaves': 718, 'subsample': 0.6364688933009124, 'colsample_bytree': 0.2666110671456731, 'min_data_in_leaf': 6}. Best is trial 1 with value: 3.21730690705608.\n",
      "[I 2025-04-23 23:25:09,646] Trial 22 finished with value: 5.408979449013304 and parameters: {'learning_rate': 0.0025255270199373734, 'num_leaves': 833, 'subsample': 0.34267909537914587, 'colsample_bytree': 0.9847856887521752, 'min_data_in_leaf': 36}. Best is trial 1 with value: 3.21730690705608.\n",
      "[I 2025-04-23 23:25:28,796] Trial 26 finished with value: 3.3298075052167135 and parameters: {'learning_rate': 0.043920103397027996, 'num_leaves': 294, 'subsample': 0.6122045052043817, 'colsample_bytree': 0.8110718555919119, 'min_data_in_leaf': 75}. Best is trial 1 with value: 3.21730690705608.\n",
      "[I 2025-04-23 23:25:50,567] Trial 24 finished with value: 5.062646336122617 and parameters: {'learning_rate': 0.0033950331841050207, 'num_leaves': 774, 'subsample': 0.8920972299610384, 'colsample_bytree': 0.7994976584567799, 'min_data_in_leaf': 87}. Best is trial 1 with value: 3.21730690705608.\n",
      "[I 2025-04-23 23:25:53,986] Trial 25 finished with value: 5.713325896489044 and parameters: {'learning_rate': 0.0016413875581192717, 'num_leaves': 457, 'subsample': 0.6764955012129742, 'colsample_bytree': 0.9475457848021005, 'min_data_in_leaf': 9}. Best is trial 1 with value: 3.21730690705608.\n",
      "[I 2025-04-23 23:26:06,200] Trial 28 finished with value: 5.151638053667549 and parameters: {'learning_rate': 0.008111123362258615, 'num_leaves': 289, 'subsample': 0.7052527979996238, 'colsample_bytree': 0.09363371191482475, 'min_data_in_leaf': 44}. Best is trial 1 with value: 3.21730690705608.\n",
      "[I 2025-04-23 23:27:24,224] Trial 30 finished with value: 5.821164819127403 and parameters: {'learning_rate': 0.0016379749161511757, 'num_leaves': 748, 'subsample': 0.7200227377298565, 'colsample_bytree': 0.2919049593375036, 'min_data_in_leaf': 68}. Best is trial 1 with value: 3.21730690705608.\n",
      "[I 2025-04-23 23:27:33,848] Trial 27 finished with value: 5.17001378860873 and parameters: {'learning_rate': 0.0033126414512287387, 'num_leaves': 952, 'subsample': 0.46689480161425434, 'colsample_bytree': 0.6144605576997254, 'min_data_in_leaf': 33}. Best is trial 1 with value: 3.21730690705608.\n",
      "[I 2025-04-23 23:27:37,516] Trial 31 finished with value: 3.7661407370357467 and parameters: {'learning_rate': 0.012186313775228382, 'num_leaves': 621, 'subsample': 0.814362080010256, 'colsample_bytree': 0.6222845908008853, 'min_data_in_leaf': 36}. Best is trial 1 with value: 3.21730690705608.\n",
      "[I 2025-04-23 23:27:48,438] Trial 29 finished with value: 3.571259235281977 and parameters: {'learning_rate': 0.08313541107231848, 'num_leaves': 815, 'subsample': 0.7575457287326953, 'colsample_bytree': 0.8284491060826779, 'min_data_in_leaf': 33}. Best is trial 1 with value: 3.21730690705608.\n",
      "[I 2025-04-23 23:28:03,058] Trial 32 finished with value: 3.314434286801693 and parameters: {'learning_rate': 0.05248601389814905, 'num_leaves': 193, 'subsample': 0.7048778043424877, 'colsample_bytree': 0.6615833497070851, 'min_data_in_leaf': 69}. Best is trial 1 with value: 3.21730690705608.\n",
      "[I 2025-04-23 23:28:34,791] Trial 33 finished with value: 6.056953452658492 and parameters: {'learning_rate': 0.0017130753638949045, 'num_leaves': 537, 'subsample': 0.8289350982451907, 'colsample_bytree': 0.11789423572313398, 'min_data_in_leaf': 19}. Best is trial 1 with value: 3.21730690705608.\n",
      "[I 2025-04-23 23:28:42,986] Trial 34 finished with value: 4.755570141382677 and parameters: {'learning_rate': 0.004850937347476757, 'num_leaves': 475, 'subsample': 0.18712335748196585, 'colsample_bytree': 0.49254670998077604, 'min_data_in_leaf': 73}. Best is trial 1 with value: 3.21730690705608.\n",
      "[I 2025-04-23 23:29:06,328] Trial 37 finished with value: 4.493331316490499 and parameters: {'learning_rate': 0.01606344481269925, 'num_leaves': 239, 'subsample': 0.9663300541079982, 'colsample_bytree': 0.09975606840020837, 'min_data_in_leaf': 19}. Best is trial 1 with value: 3.21730690705608.\n",
      "[I 2025-04-23 23:29:11,577] Trial 36 finished with value: 5.3811098990210535 and parameters: {'learning_rate': 0.006208910588548319, 'num_leaves': 665, 'subsample': 0.23399078720662725, 'colsample_bytree': 0.09367634343309551, 'min_data_in_leaf': 82}. Best is trial 1 with value: 3.21730690705608.\n",
      "[I 2025-04-23 23:29:40,044] Trial 35 finished with value: 3.4486540235995258 and parameters: {'learning_rate': 0.07891535187823895, 'num_leaves': 813, 'subsample': 0.5968682250156989, 'colsample_bytree': 0.8588476418231032, 'min_data_in_leaf': 79}. Best is trial 1 with value: 3.21730690705608.\n",
      "[I 2025-04-23 23:30:26,667] Trial 38 finished with value: 5.9140556854058675 and parameters: {'learning_rate': 0.001089089460767504, 'num_leaves': 794, 'subsample': 0.984727944827181, 'colsample_bytree': 0.6491481706835868, 'min_data_in_leaf': 49}. Best is trial 1 with value: 3.21730690705608.\n",
      "[I 2025-04-23 23:30:28,775] Trial 39 finished with value: 4.039610785438649 and parameters: {'learning_rate': 0.015763725271965814, 'num_leaves': 726, 'subsample': 0.12885588429959285, 'colsample_bytree': 0.13134310921648562, 'min_data_in_leaf': 20}. Best is trial 1 with value: 3.21730690705608.\n",
      "[I 2025-04-23 23:30:40,548] Trial 41 finished with value: 4.526414683594027 and parameters: {'learning_rate': 0.005820989817743118, 'num_leaves': 342, 'subsample': 0.5009759432205163, 'colsample_bytree': 0.7634505268679208, 'min_data_in_leaf': 30}. Best is trial 1 with value: 3.21730690705608.\n",
      "[I 2025-04-23 23:31:02,336] Trial 42 finished with value: 4.605200176835906 and parameters: {'learning_rate': 0.006856696490207985, 'num_leaves': 169, 'subsample': 0.7792176670319467, 'colsample_bytree': 0.3230199066047402, 'min_data_in_leaf': 51}. Best is trial 1 with value: 3.21730690705608.\n",
      "[I 2025-04-23 23:31:03,675] Trial 40 finished with value: 5.93673102373803 and parameters: {'learning_rate': 0.0010424710158179523, 'num_leaves': 824, 'subsample': 0.2930160624899965, 'colsample_bytree': 0.4899498396361855, 'min_data_in_leaf': 95}. Best is trial 1 with value: 3.21730690705608.\n",
      "[I 2025-04-23 23:31:16,961] Trial 43 finished with value: 4.142495556165724 and parameters: {'learning_rate': 0.008694883395345817, 'num_leaves': 200, 'subsample': 0.31509634456663577, 'colsample_bytree': 0.36207840558727994, 'min_data_in_leaf': 3}. Best is trial 1 with value: 3.21730690705608.\n",
      "[I 2025-04-23 23:31:19,339] Trial 44 finished with value: 5.2978702622243805 and parameters: {'learning_rate': 0.0027204202726670147, 'num_leaves': 125, 'subsample': 0.47614541862632304, 'colsample_bytree': 0.5791979102783578, 'min_data_in_leaf': 67}. Best is trial 1 with value: 3.21730690705608.\n",
      "[I 2025-04-23 23:31:22,867] Trial 46 finished with value: 3.56376435894538 and parameters: {'learning_rate': 0.05514526075173377, 'num_leaves': 60, 'subsample': 0.956624535104366, 'colsample_bytree': 0.08687411663302694, 'min_data_in_leaf': 23}. Best is trial 1 with value: 3.21730690705608.\n",
      "[I 2025-04-23 23:31:41,249] Trial 49 finished with value: 3.25513447049604 and parameters: {'learning_rate': 0.09907037903505127, 'num_leaves': 75, 'subsample': 0.8674927492206674, 'colsample_bytree': 0.373444288080393, 'min_data_in_leaf': 90}. Best is trial 1 with value: 3.21730690705608.\n",
      "[I 2025-04-23 23:32:13,600] Trial 45 finished with value: 4.271828938004335 and parameters: {'learning_rate': 0.006815816559850023, 'num_leaves': 391, 'subsample': 0.7877884942918223, 'colsample_bytree': 0.9616418071433398, 'min_data_in_leaf': 70}. Best is trial 1 with value: 3.21730690705608.\n",
      "[I 2025-04-23 23:32:32,381] Trial 47 finished with value: 5.642339328018075 and parameters: {'learning_rate': 0.0018757866891986115, 'num_leaves': 704, 'subsample': 0.853789283705365, 'colsample_bytree': 0.4525697073042656, 'min_data_in_leaf': 60}. Best is trial 1 with value: 3.21730690705608.\n",
      "[I 2025-04-23 23:32:44,108] Trial 48 finished with value: 5.421897726421262 and parameters: {'learning_rate': 0.0024385047266707797, 'num_leaves': 909, 'subsample': 0.5654660502689173, 'colsample_bytree': 0.7255101063495479, 'min_data_in_leaf': 55}. Best is trial 1 with value: 3.21730690705608.\n"
     ]
    },
    {
     "name": "stdout",
     "output_type": "stream",
     "text": [
      "Best hyperparameters: {'learning_rate': 0.03966977160887868, 'num_leaves': 86, 'subsample': 0.6079466170277738, 'colsample_bytree': 0.8988273143956002, 'min_data_in_leaf': 43}\n",
      "Best MSE: 3.21730690705608\n"
     ]
    }
   ],
   "source": [
    "best_params_lightgbm = optimize_lightgbm(\n",
    "    f\"lightgbm_study_{str(date.today())}\", \n",
    "    f\"lightgbm_study_{str(date.today())}\"\n",
    ")"
   ]
  },
  {
   "cell_type": "markdown",
   "id": "b0ba73d7",
   "metadata": {},
   "source": [
    "Testing on best configuration"
   ]
  },
  {
   "cell_type": "code",
   "execution_count": 11,
   "id": "113b0cbf",
   "metadata": {},
   "outputs": [
    {
     "data": {
      "text/plain": [
       "{'cod_prev_4': 0.8652815669775009,\n",
       " 'cod_prev_5': 1.7632245123386383,\n",
       " 'cod_prev_6': 0.7793352752923965,\n",
       " 'cod_prev_7': 0.560568280518055,\n",
       " 'cod_prev_8': 0.25911475345492363,\n",
       " 'temp_prev_4': 0.04172888211905956,\n",
       " 'temp_prev_5': 0.06516173854470253,\n",
       " 'temp_prev_6': 0.029207467567175627,\n",
       " 'temp_prev_7': 0.03486428735777736,\n",
       " 'temp_prev_8': 0.05589774437248707,\n",
       " 'ph_prev_4': 0.04341968148946762,\n",
       " 'ph_prev_5': 0.09082755912095308,\n",
       " 'ph_prev_6': 0.06169927411247045,\n",
       " 'ph_prev_7': 0.05203904211521149,\n",
       " 'ph_prev_8': 0.03799473727121949,\n",
       " 'tss_prev_4': 0.060369422659277916,\n",
       " 'tss_prev_5': 0.06045685335993767,\n",
       " 'tss_prev_6': 0.05391111923381686,\n",
       " 'tss_prev_7': 0.03782812086865306,\n",
       " 'tss_prev_8': 0.04706973722204566}"
      ]
     },
     "execution_count": 11,
     "metadata": {},
     "output_type": "execute_result"
    }
   ],
   "source": [
    "params = {\n",
    "    \"n_estimators\": 100,\n",
    "    \"verbosity\": 0,\n",
    "    \"enable_categorical\": True,\n",
    "    \"random_state\": 101\n",
    "}\n",
    "for p in best_params_xgboost:\n",
    "    params[p] = best_params_xgboost[p]\n",
    "\n",
    "feature_importances = {}\n",
    "\n",
    "xgbr = XGBRegressor(**params)\n",
    "for i in range(5):\n",
    "    X_train = X_train_arr[i]\n",
    "    Y_train = Y_train_arr[i]\n",
    "    xgbr.fit(X_train, Y_train)\n",
    "    features = xgbr.feature_names_in_.tolist()\n",
    "    features_i = xgbr.feature_importances_.tolist()\n",
    "    for inx, feat in enumerate(features):\n",
    "        feature_importances[feat] = feature_importances.get(feat, 0) + features_i[inx]\n",
    "\n",
    "feature_importances"
   ]
  },
  {
   "cell_type": "code",
   "execution_count": 12,
   "id": "f6582790",
   "metadata": {},
   "outputs": [
    {
     "data": {
      "text/plain": [
       "{'cod_prev_4': 4984,\n",
       " 'cod_prev_5': 1695,\n",
       " 'cod_prev_6': 1334,\n",
       " 'cod_prev_7': 1322,\n",
       " 'cod_prev_8': 3603,\n",
       " 'temp_prev_4': 2438,\n",
       " 'temp_prev_5': 1400,\n",
       " 'temp_prev_6': 1363,\n",
       " 'temp_prev_7': 1520,\n",
       " 'temp_prev_8': 2533,\n",
       " 'ph_prev_4': 3297,\n",
       " 'ph_prev_5': 1908,\n",
       " 'ph_prev_6': 1502,\n",
       " 'ph_prev_7': 1348,\n",
       " 'ph_prev_8': 2515,\n",
       " 'tss_prev_4': 3042,\n",
       " 'tss_prev_5': 1999,\n",
       " 'tss_prev_6': 1305,\n",
       " 'tss_prev_7': 1472,\n",
       " 'tss_prev_8': 1920}"
      ]
     },
     "execution_count": 12,
     "metadata": {},
     "output_type": "execute_result"
    }
   ],
   "source": [
    "params = {\n",
    "    \"n_estimators\": 100,\n",
    "    \"verbosity\": -1,\n",
    "    \"random_state\": 101\n",
    "}\n",
    "for p in best_params_lightgbm:\n",
    "    params[p] = best_params_lightgbm[p]\n",
    "\n",
    "feature_importances = {}\n",
    "\n",
    "lgbr = LGBMRegressor(**params)\n",
    "for i in range(5):\n",
    "    X_train = X_train_arr[i]\n",
    "    Y_train = Y_train_arr[i]\n",
    "    lgbr.fit(X_train, Y_train)\n",
    "    features = lgbr.feature_names_in_.tolist()\n",
    "    features_i = lgbr.feature_importances_.tolist()\n",
    "    for inx, feat in enumerate(features):\n",
    "        feature_importances[feat] = feature_importances.get(feat, 0) + features_i[inx]\n",
    "\n",
    "feature_importances"
   ]
  },
  {
   "cell_type": "markdown",
   "id": "054ba97e",
   "metadata": {},
   "source": [
    "Try to train with only previous CODs insteads"
   ]
  },
  {
   "cell_type": "code",
   "execution_count": 13,
   "id": "1c72a72b",
   "metadata": {},
   "outputs": [],
   "source": [
    "features_used = [f\"cod_prev_{i}\" for i in range(4, 9)]\n",
    "X_train_arr, X_test_arr, Y_train_arr, Y_test_arr = create_cv_split(df, features_used)"
   ]
  },
  {
   "cell_type": "code",
   "execution_count": 14,
   "id": "158cf409",
   "metadata": {},
   "outputs": [
    {
     "name": "stdout",
     "output_type": "stream",
     "text": [
      "Conduct hyperparam opt for XGBoost\n"
     ]
    },
    {
     "name": "stderr",
     "output_type": "stream",
     "text": [
      "[I 2025-04-23 23:33:24,572] A new study created in RDB with name: xgboost_study_only_cod_2025-04-23\n",
      "[I 2025-04-23 23:33:44,086] Trial 0 finished with value: 5.888435618413108 and parameters: {'max_depth': 2, 'learning_rate': 0.0011546592160210291, 'subsample': 0.42678063100026403, 'colsample_bytree': 0.5935492448873017, 'min_child_weight': 4}. Best is trial 0 with value: 5.888435618413108.\n",
      "[I 2025-04-23 23:33:49,712] Trial 3 finished with value: 3.693286319141863 and parameters: {'max_depth': 3, 'learning_rate': 0.011027500056010713, 'subsample': 0.40919916267706463, 'colsample_bytree': 0.37211431959102925, 'min_child_weight': 4}. Best is trial 3 with value: 3.693286319141863.\n",
      "[I 2025-04-23 23:34:00,494] Trial 2 finished with value: 3.176998688311221 and parameters: {'max_depth': 5, 'learning_rate': 0.03578482641148419, 'subsample': 0.7675985633177862, 'colsample_bytree': 0.09327273984634199, 'min_child_weight': 1}. Best is trial 2 with value: 3.176998688311221.\n",
      "[I 2025-04-23 23:34:14,037] Trial 1 finished with value: 2.998455358936062 and parameters: {'max_depth': 7, 'learning_rate': 0.02851771984114781, 'subsample': 0.8451051569483, 'colsample_bytree': 0.8928975655052492, 'min_child_weight': 7}. Best is trial 1 with value: 2.998455358936062.\n",
      "[I 2025-04-23 23:34:18,448] Trial 5 finished with value: 5.879882256582893 and parameters: {'max_depth': 4, 'learning_rate': 0.0010927600087898657, 'subsample': 0.15416266150477986, 'colsample_bytree': 0.508915791324544, 'min_child_weight': 8}. Best is trial 1 with value: 2.998455358936062.\n",
      "[I 2025-04-23 23:34:29,325] Trial 4 finished with value: 5.860351884011231 and parameters: {'max_depth': 7, 'learning_rate': 0.0011806961465083727, 'subsample': 0.9467556426658982, 'colsample_bytree': 0.2745752833496241, 'min_child_weight': 2}. Best is trial 1 with value: 2.998455358936062.\n",
      "[I 2025-04-23 23:34:52,695] Trial 8 finished with value: 3.009041527202213 and parameters: {'max_depth': 5, 'learning_rate': 0.0770343694377677, 'subsample': 0.7606089339593795, 'colsample_bytree': 0.8508921520712758, 'min_child_weight': 1}. Best is trial 1 with value: 2.998455358936062.\n",
      "[I 2025-04-23 23:34:54,225] Trial 9 finished with value: 3.0249919012576187 and parameters: {'max_depth': 3, 'learning_rate': 0.07638542583770822, 'subsample': 0.4798651902235647, 'colsample_bytree': 0.5395936287272439, 'min_child_weight': 9}. Best is trial 1 with value: 2.998455358936062.\n",
      "[I 2025-04-23 23:34:58,978] Trial 7 finished with value: 3.011906703796586 and parameters: {'max_depth': 7, 'learning_rate': 0.05217504047269333, 'subsample': 0.3609951401340676, 'colsample_bytree': 0.5227433888044489, 'min_child_weight': 7}. Best is trial 1 with value: 2.998455358936062.\n",
      "[I 2025-04-23 23:35:00,391] Trial 6 finished with value: 4.303690055449026 and parameters: {'max_depth': 9, 'learning_rate': 0.005988751276516293, 'subsample': 0.055722790187456794, 'colsample_bytree': 0.6142472621443554, 'min_child_weight': 1}. Best is trial 1 with value: 2.998455358936062.\n",
      "[I 2025-04-23 23:35:27,722] Trial 13 finished with value: 5.569836313237046 and parameters: {'max_depth': 4, 'learning_rate': 0.0018299324100322745, 'subsample': 0.6679852193835571, 'colsample_bytree': 0.6105538484891657, 'min_child_weight': 9}. Best is trial 1 with value: 2.998455358936062.\n",
      "[I 2025-04-23 23:35:32,084] Trial 12 finished with value: 3.37268348653956 and parameters: {'max_depth': 5, 'learning_rate': 0.01244979499871575, 'subsample': 0.9427209258145538, 'colsample_bytree': 0.8859654219459865, 'min_child_weight': 1}. Best is trial 1 with value: 2.998455358936062.\n",
      "[I 2025-04-23 23:35:46,867] Trial 14 finished with value: 3.794934000311674 and parameters: {'max_depth': 2, 'learning_rate': 0.01014219250540963, 'subsample': 0.1251647281696926, 'colsample_bytree': 0.7266710724177226, 'min_child_weight': 1}. Best is trial 1 with value: 2.998455358936062.\n",
      "[I 2025-04-23 23:35:52,514] Trial 11 finished with value: 5.567451166592892 and parameters: {'max_depth': 9, 'learning_rate': 0.0018224326162449745, 'subsample': 0.14896014420785197, 'colsample_bytree': 0.7793778482142403, 'min_child_weight': 5}. Best is trial 1 with value: 2.998455358936062.\n",
      "[I 2025-04-23 23:35:52,767] Trial 10 finished with value: 3.0310973913099764 and parameters: {'max_depth': 9, 'learning_rate': 0.037074115169443256, 'subsample': 0.6487709200937577, 'colsample_bytree': 0.8303244094964841, 'min_child_weight': 3}. Best is trial 1 with value: 2.998455358936062.\n",
      "[I 2025-04-23 23:36:14,345] Trial 18 finished with value: 5.226249885600395 and parameters: {'max_depth': 2, 'learning_rate': 0.0030357510086878236, 'subsample': 0.5364959934286219, 'colsample_bytree': 0.5885765854452112, 'min_child_weight': 7}. Best is trial 1 with value: 2.998455358936062.\n",
      "[I 2025-04-23 23:36:14,498] Trial 17 finished with value: 5.123991167383781 and parameters: {'max_depth': 2, 'learning_rate': 0.0033667790342245918, 'subsample': 0.3569057131395645, 'colsample_bytree': 0.5551046056129723, 'min_child_weight': 7}. Best is trial 1 with value: 2.998455358936062.\n",
      "[I 2025-04-23 23:36:22,346] Trial 15 finished with value: 3.547553805814175 and parameters: {'max_depth': 7, 'learning_rate': 0.012605251325466091, 'subsample': 0.15802304264223477, 'colsample_bytree': 0.30628941111732555, 'min_child_weight': 3}. Best is trial 1 with value: 2.998455358936062.\n",
      "[I 2025-04-23 23:36:23,894] Trial 16 finished with value: 3.1751592909172803 and parameters: {'max_depth': 5, 'learning_rate': 0.0832991226527859, 'subsample': 0.8119450393646641, 'colsample_bytree': 0.08734554727742672, 'min_child_weight': 9}. Best is trial 1 with value: 2.998455358936062.\n",
      "[I 2025-04-23 23:36:41,715] Trial 19 finished with value: 5.251191285516254 and parameters: {'max_depth': 4, 'learning_rate': 0.002659686721869668, 'subsample': 0.8072148348041175, 'colsample_bytree': 0.8862244586670308, 'min_child_weight': 3}. Best is trial 1 with value: 2.998455358936062.\n",
      "[I 2025-04-23 23:37:01,846] Trial 23 finished with value: 3.6457892763069935 and parameters: {'max_depth': 2, 'learning_rate': 0.012974314027921999, 'subsample': 0.7061341829874541, 'colsample_bytree': 0.180180808445494, 'min_child_weight': 6}. Best is trial 1 with value: 2.998455358936062.\n",
      "[I 2025-04-23 23:37:07,978] Trial 20 finished with value: 5.897548085689413 and parameters: {'max_depth': 8, 'learning_rate': 0.0010447604487559526, 'subsample': 0.7384749967953393, 'colsample_bytree': 0.545329781745992, 'min_child_weight': 1}. Best is trial 1 with value: 2.998455358936062.\n",
      "[I 2025-04-23 23:37:08,200] Trial 21 finished with value: 4.131579875695169 and parameters: {'max_depth': 7, 'learning_rate': 0.0074703753622977764, 'subsample': 0.30420441637799256, 'colsample_bytree': 0.11313324300007033, 'min_child_weight': 9}. Best is trial 1 with value: 2.998455358936062.\n",
      "[I 2025-04-23 23:37:10,696] Trial 22 finished with value: 5.291542020623106 and parameters: {'max_depth': 7, 'learning_rate': 0.0025902029975253156, 'subsample': 0.29862153785116496, 'colsample_bytree': 0.4314912539564425, 'min_child_weight': 2}. Best is trial 1 with value: 2.998455358936062.\n",
      "[I 2025-04-23 23:37:30,308] Trial 25 finished with value: 3.164980903193638 and parameters: {'max_depth': 3, 'learning_rate': 0.07965502316257027, 'subsample': 0.7179575126137118, 'colsample_bytree': 0.07190257837158298, 'min_child_weight': 3}. Best is trial 1 with value: 2.998455358936062.\n",
      "[I 2025-04-23 23:37:35,448] Trial 26 finished with value: 2.9938251312645523 and parameters: {'max_depth': 4, 'learning_rate': 0.0691311903877274, 'subsample': 0.8866974115295726, 'colsample_bytree': 0.8943338302548924, 'min_child_weight': 2}. Best is trial 26 with value: 2.9938251312645523.\n",
      "[I 2025-04-23 23:37:58,086] Trial 24 finished with value: 5.887310254864571 and parameters: {'max_depth': 10, 'learning_rate': 0.0011162945831918372, 'subsample': 0.12361387575038556, 'colsample_bytree': 0.05196765835870687, 'min_child_weight': 5}. Best is trial 26 with value: 2.9938251312645523.\n",
      "[I 2025-04-23 23:38:01,593] Trial 28 finished with value: 3.6746297223855238 and parameters: {'max_depth': 5, 'learning_rate': 0.009920639472595269, 'subsample': 0.11704937398779444, 'colsample_bytree': 0.4229189027225254, 'min_child_weight': 10}. Best is trial 26 with value: 2.9938251312645523.\n",
      "[I 2025-04-23 23:38:11,606] Trial 27 finished with value: 3.0212032456020426 and parameters: {'max_depth': 10, 'learning_rate': 0.02641522732533907, 'subsample': 0.2307962513010211, 'colsample_bytree': 0.7649489967074433, 'min_child_weight': 10}. Best is trial 26 with value: 2.9938251312645523.\n",
      "[I 2025-04-23 23:38:25,404] Trial 32 finished with value: 5.671938619770404 and parameters: {'max_depth': 1, 'learning_rate': 0.0020836065012213136, 'subsample': 0.9273535571440648, 'colsample_bytree': 0.6419048379312506, 'min_child_weight': 8}. Best is trial 26 with value: 2.9938251312645523.\n",
      "[I 2025-04-23 23:38:30,221] Trial 29 finished with value: 3.0602370359820243 and parameters: {'max_depth': 9, 'learning_rate': 0.06365572590466728, 'subsample': 0.9060300785206884, 'colsample_bytree': 0.8463630441253973, 'min_child_weight': 4}. Best is trial 26 with value: 2.9938251312645523.\n",
      "[I 2025-04-23 23:38:53,499] Trial 31 finished with value: 3.760254951874091 and parameters: {'max_depth': 9, 'learning_rate': 0.010187772652353981, 'subsample': 0.3445796752627544, 'colsample_bytree': 0.12330268166163938, 'min_child_weight': 8}. Best is trial 26 with value: 2.9938251312645523.\n",
      "[I 2025-04-23 23:38:55,937] Trial 30 finished with value: 3.180419534372124 and parameters: {'max_depth': 10, 'learning_rate': 0.040185026883544576, 'subsample': 0.4213605823710089, 'colsample_bytree': 0.18747923832019453, 'min_child_weight': 3}. Best is trial 26 with value: 2.9938251312645523.\n",
      "[I 2025-04-23 23:38:57,501] Trial 34 finished with value: 5.597557417148918 and parameters: {'max_depth': 4, 'learning_rate': 0.0018487067323160822, 'subsample': 0.8184574054854861, 'colsample_bytree': 0.2813539304727082, 'min_child_weight': 10}. Best is trial 26 with value: 2.9938251312645523.\n",
      "[I 2025-04-23 23:38:57,646] Trial 33 finished with value: 3.1666551439384683 and parameters: {'max_depth': 5, 'learning_rate': 0.016474587932908416, 'subsample': 0.959805940323195, 'colsample_bytree': 0.7689865582474955, 'min_child_weight': 7}. Best is trial 26 with value: 2.9938251312645523.\n",
      "[I 2025-04-23 23:39:21,739] Trial 38 finished with value: 5.768915077049392 and parameters: {'max_depth': 4, 'learning_rate': 0.0013573381149299855, 'subsample': 0.8369191535907622, 'colsample_bytree': 0.5612000586252728, 'min_child_weight': 5}. Best is trial 26 with value: 2.9938251312645523.\n",
      "[I 2025-04-23 23:39:33,913] Trial 36 finished with value: 4.580620881493288 and parameters: {'max_depth': 7, 'learning_rate': 0.0052344102695494835, 'subsample': 0.05047678174800308, 'colsample_bytree': 0.3019768577181844, 'min_child_weight': 6}. Best is trial 26 with value: 2.9938251312645523.\n",
      "[I 2025-04-23 23:39:36,832] Trial 37 finished with value: 3.865372091598816 and parameters: {'max_depth': 7, 'learning_rate': 0.008471355083741526, 'subsample': 0.20510809428154175, 'colsample_bytree': 0.5890570472451148, 'min_child_weight': 1}. Best is trial 26 with value: 2.9938251312645523.\n",
      "[I 2025-04-23 23:39:47,318] Trial 35 finished with value: 5.382182744290105 and parameters: {'max_depth': 9, 'learning_rate': 0.0022827387242804697, 'subsample': 0.8038139870468783, 'colsample_bytree': 0.9260591827053727, 'min_child_weight': 2}. Best is trial 26 with value: 2.9938251312645523.\n",
      "[I 2025-04-23 23:39:59,426] Trial 40 finished with value: 3.6498051382381247 and parameters: {'max_depth': 4, 'learning_rate': 0.009941985244241931, 'subsample': 0.07325622121163944, 'colsample_bytree': 0.7274773368370752, 'min_child_weight': 4}. Best is trial 26 with value: 2.9938251312645523.\n",
      "[I 2025-04-23 23:40:13,796] Trial 42 finished with value: 2.986193485263522 and parameters: {'max_depth': 4, 'learning_rate': 0.04106252559374539, 'subsample': 0.8253836496043956, 'colsample_bytree': 0.6570325084686885, 'min_child_weight': 8}. Best is trial 42 with value: 2.986193485263522.\n",
      "[I 2025-04-23 23:40:15,827] Trial 39 finished with value: 3.184193959848906 and parameters: {'max_depth': 10, 'learning_rate': 0.04949298257954508, 'subsample': 0.07519489816337514, 'colsample_bytree': 0.19039068461154773, 'min_child_weight': 1}. Best is trial 42 with value: 2.986193485263522.\n",
      "[I 2025-04-23 23:40:18,651] Trial 41 finished with value: 3.002151096856763 and parameters: {'max_depth': 7, 'learning_rate': 0.026785834359030807, 'subsample': 0.37552564871680416, 'colsample_bytree': 0.6087020036063614, 'min_child_weight': 10}. Best is trial 42 with value: 2.986193485263522.\n",
      "[I 2025-04-23 23:40:28,871] Trial 45 finished with value: 3.5606914507255083 and parameters: {'max_depth': 1, 'learning_rate': 0.024521435239280735, 'subsample': 0.4054423599176051, 'colsample_bytree': 0.0973395287726957, 'min_child_weight': 2}. Best is trial 42 with value: 2.986193485263522.\n",
      "[I 2025-04-23 23:40:42,613] Trial 43 finished with value: 3.039543341576902 and parameters: {'max_depth': 7, 'learning_rate': 0.08194843997617078, 'subsample': 0.16798865325472945, 'colsample_bytree': 0.9579454179256801, 'min_child_weight': 4}. Best is trial 42 with value: 2.986193485263522.\n",
      "[I 2025-04-23 23:40:47,984] Trial 47 finished with value: 5.380718993424312 and parameters: {'max_depth': 2, 'learning_rate': 0.0025241661073814093, 'subsample': 0.7049843097461456, 'colsample_bytree': 0.6889428709566519, 'min_child_weight': 5}. Best is trial 42 with value: 2.986193485263522.\n",
      "[I 2025-04-23 23:40:48,781] Trial 46 finished with value: 4.522316870880667 and parameters: {'max_depth': 4, 'learning_rate': 0.005102271849728992, 'subsample': 0.4205105960759171, 'colsample_bytree': 0.7541819337498098, 'min_child_weight': 1}. Best is trial 42 with value: 2.986193485263522.\n",
      "[I 2025-04-23 23:40:58,071] Trial 48 finished with value: 5.54630391270424 and parameters: {'max_depth': 2, 'learning_rate': 0.002125821092624735, 'subsample': 0.6517846533561545, 'colsample_bytree': 0.2608683693414331, 'min_child_weight': 2}. Best is trial 42 with value: 2.986193485263522.\n",
      "[I 2025-04-23 23:41:04,846] Trial 44 finished with value: 3.2702891924205977 and parameters: {'max_depth': 10, 'learning_rate': 0.019462061027239463, 'subsample': 0.46998001142548135, 'colsample_bytree': 0.2652303742027, 'min_child_weight': 7}. Best is trial 42 with value: 2.986193485263522.\n",
      "[I 2025-04-23 23:41:16,466] Trial 49 finished with value: 4.136956925222894 and parameters: {'max_depth': 10, 'learning_rate': 0.006918403303803381, 'subsample': 0.732634923495474, 'colsample_bytree': 0.5051125079814436, 'min_child_weight': 4}. Best is trial 42 with value: 2.986193485263522.\n"
     ]
    },
    {
     "name": "stdout",
     "output_type": "stream",
     "text": [
      "Best hyperparameters: {'max_depth': 4, 'learning_rate': 0.04106252559374539, 'subsample': 0.8253836496043956, 'colsample_bytree': 0.6570325084686885, 'min_child_weight': 8}\n",
      "Best RMSE: 2.986193485263522\n"
     ]
    }
   ],
   "source": [
    "best_params_xgboost_only_cod = optimize_xgboost(\n",
    "    f\"xgboost_study_only_cod_{str(date.today())}\",\n",
    "    f\"xgboost_study_only_cod_{str(date.today())}\",\n",
    ")"
   ]
  },
  {
   "cell_type": "code",
   "execution_count": 15,
   "id": "9a8559c6",
   "metadata": {},
   "outputs": [
    {
     "data": {
      "text/plain": [
       "{'cod_prev_4': 2.3614585995674133,\n",
       " 'cod_prev_5': 1.4944610893726349,\n",
       " 'cod_prev_6': 0.7436188161373138,\n",
       " 'cod_prev_7': 0.1704165916889906,\n",
       " 'cod_prev_8': 0.2300451174378395}"
      ]
     },
     "execution_count": 15,
     "metadata": {},
     "output_type": "execute_result"
    }
   ],
   "source": [
    "params = {\n",
    "    \"n_estimators\": 100,\n",
    "    \"verbosity\": 0,\n",
    "    \"enable_categorical\": True,\n",
    "    \"random_state\": 101\n",
    "}\n",
    "for p in best_params_xgboost_only_cod:\n",
    "    params[p] = best_params_xgboost_only_cod[p]\n",
    "\n",
    "feature_importances = {}\n",
    "\n",
    "xgbr = XGBRegressor(**params)\n",
    "for i in range(5):\n",
    "    X_train = X_train_arr[i]\n",
    "    Y_train = Y_train_arr[i]\n",
    "    xgbr.fit(X_train, Y_train)\n",
    "    features = xgbr.feature_names_in_.tolist()\n",
    "    features_i = xgbr.feature_importances_.tolist()\n",
    "    for inx, feat in enumerate(features):\n",
    "        feature_importances[feat] = feature_importances.get(feat, 0) + features_i[inx]\n",
    "\n",
    "feature_importances"
   ]
  },
  {
   "cell_type": "markdown",
   "id": "6ad73be5",
   "metadata": {},
   "source": [
    "Try to using only features from last 4 hours, not using earlier features"
   ]
  },
  {
   "cell_type": "code",
   "execution_count": 16,
   "id": "5932a841",
   "metadata": {},
   "outputs": [],
   "source": [
    "# use 1 month for test and previous montsh for predict\n",
    "# Take 1: only use features appear in all data\n",
    "features_used = [\"cod_prev_4\", \"temp_prev_4\", \"ph_prev_4\", \"tss_prev_4\"]\n",
    "X_train_arr, X_test_arr, Y_train_arr, Y_test_arr = create_cv_split(df, features_used)"
   ]
  },
  {
   "cell_type": "code",
   "execution_count": 17,
   "id": "75606df3",
   "metadata": {},
   "outputs": [
    {
     "name": "stdout",
     "output_type": "stream",
     "text": [
      "Conduct hyperparam opt for LightGBM\n"
     ]
    },
    {
     "name": "stderr",
     "output_type": "stream",
     "text": [
      "[I 2025-04-23 23:43:47,888] A new study created in RDB with name: lightgbm_study_only_4h_2025-04-23\n",
      "[I 2025-04-23 23:44:17,697] Trial 2 finished with value: 3.5341175815157326 and parameters: {'learning_rate': 0.05779532690220248, 'num_leaves': 241, 'subsample': 0.6357279193292777, 'colsample_bytree': 0.20239070318581792, 'min_data_in_leaf': 88}. Best is trial 2 with value: 3.5341175815157326.\n",
      "[I 2025-04-23 23:44:20,421] Trial 0 finished with value: 5.190133393887054 and parameters: {'learning_rate': 0.010442644143315872, 'num_leaves': 984, 'subsample': 0.7574435903300136, 'colsample_bytree': 0.11323349666768429, 'min_data_in_leaf': 94}. Best is trial 2 with value: 3.5341175815157326.\n",
      "[I 2025-04-23 23:44:21,087] Trial 3 finished with value: 6.029625298798715 and parameters: {'learning_rate': 0.00255921674064164, 'num_leaves': 815, 'subsample': 0.527350775081116, 'colsample_bytree': 0.2782711075339377, 'min_data_in_leaf': 68}. Best is trial 2 with value: 3.5341175815157326.\n",
      "[I 2025-04-23 23:44:33,650] Trial 4 finished with value: 4.686506965101348 and parameters: {'learning_rate': 0.017019857228436994, 'num_leaves': 99, 'subsample': 0.8487226072128627, 'colsample_bytree': 0.2432527128215231, 'min_data_in_leaf': 72}. Best is trial 2 with value: 3.5341175815157326.\n",
      "[I 2025-04-23 23:44:34,593] Trial 1 finished with value: 3.5948838691308156 and parameters: {'learning_rate': 0.03485055950578775, 'num_leaves': 452, 'subsample': 0.42416082036935665, 'colsample_bytree': 0.8510802969483451, 'min_data_in_leaf': 31}. Best is trial 2 with value: 3.5341175815157326.\n",
      "[I 2025-04-23 23:44:48,225] Trial 5 finished with value: 5.9904334457623385 and parameters: {'learning_rate': 0.002875527875857185, 'num_leaves': 363, 'subsample': 0.8026468153382728, 'colsample_bytree': 0.1035501003827502, 'min_data_in_leaf': 94}. Best is trial 2 with value: 3.5341175815157326.\n",
      "[I 2025-04-23 23:44:59,750] Trial 7 finished with value: 5.098448878097231 and parameters: {'learning_rate': 0.011476986692320442, 'num_leaves': 364, 'subsample': 0.9292010136965977, 'colsample_bytree': 0.10733665432152596, 'min_data_in_leaf': 24}. Best is trial 2 with value: 3.5341175815157326.\n",
      "[I 2025-04-23 23:45:22,712] Trial 6 finished with value: 3.6424209005887014 and parameters: {'learning_rate': 0.05420883205283218, 'num_leaves': 792, 'subsample': 0.8611247796824576, 'colsample_bytree': 0.731983770719004, 'min_data_in_leaf': 38}. Best is trial 2 with value: 3.5341175815157326.\n",
      "[I 2025-04-23 23:45:24,497] Trial 10 finished with value: 3.7654366001132495 and parameters: {'learning_rate': 0.01677939822292276, 'num_leaves': 250, 'subsample': 0.5734554875366144, 'colsample_bytree': 0.8297863076729107, 'min_data_in_leaf': 95}. Best is trial 2 with value: 3.5341175815157326.\n",
      "[I 2025-04-23 23:45:25,278] Trial 9 finished with value: 3.9847449508541133 and parameters: {'learning_rate': 0.01421499918647037, 'num_leaves': 453, 'subsample': 0.3942294423439244, 'colsample_bytree': 0.7802217777507637, 'min_data_in_leaf': 21}. Best is trial 2 with value: 3.5341175815157326.\n",
      "[I 2025-04-23 23:45:43,661] Trial 13 finished with value: 3.539080496652003 and parameters: {'learning_rate': 0.05675207318582976, 'num_leaves': 114, 'subsample': 0.05326139862180584, 'colsample_bytree': 0.19298898359850758, 'min_data_in_leaf': 32}. Best is trial 2 with value: 3.5341175815157326.\n",
      "[I 2025-04-23 23:45:47,715] Trial 12 finished with value: 3.5813817669017154 and parameters: {'learning_rate': 0.025281698500079247, 'num_leaves': 184, 'subsample': 0.6608009554762168, 'colsample_bytree': 0.7709658482581716, 'min_data_in_leaf': 50}. Best is trial 2 with value: 3.5341175815157326.\n",
      "[I 2025-04-23 23:45:50,401] Trial 11 finished with value: 5.827626950678696 and parameters: {'learning_rate': 0.001610985953121954, 'num_leaves': 240, 'subsample': 0.9874938031377031, 'colsample_bytree': 0.8355825486158324, 'min_data_in_leaf': 66}. Best is trial 2 with value: 3.5341175815157326.\n",
      "[I 2025-04-23 23:45:51,690] Trial 8 finished with value: 4.012178464874738 and parameters: {'learning_rate': 0.058260565613414625, 'num_leaves': 974, 'subsample': 0.1526911933261103, 'colsample_bytree': 0.42801639566528854, 'min_data_in_leaf': 15}. Best is trial 2 with value: 3.5341175815157326.\n",
      "[I 2025-04-23 23:46:12,421] Trial 16 finished with value: 5.808123543291157 and parameters: {'learning_rate': 0.003164053947892668, 'num_leaves': 186, 'subsample': 0.08248143596379585, 'colsample_bytree': 0.5533848117320105, 'min_data_in_leaf': 28}. Best is trial 2 with value: 3.5341175815157326.\n",
      "[I 2025-04-23 23:46:14,286] Trial 14 finished with value: 4.815487020291068 and parameters: {'learning_rate': 0.015182124790774394, 'num_leaves': 350, 'subsample': 0.062086009431066166, 'colsample_bytree': 0.06350122739411468, 'min_data_in_leaf': 19}. Best is trial 2 with value: 3.5341175815157326.\n",
      "[I 2025-04-23 23:46:20,159] Trial 15 finished with value: 4.345006528319663 and parameters: {'learning_rate': 0.023316478325564362, 'num_leaves': 863, 'subsample': 0.1533637688933921, 'colsample_bytree': 0.22768073807138728, 'min_data_in_leaf': 67}. Best is trial 2 with value: 3.5341175815157326.\n",
      "[I 2025-04-23 23:46:21,993] Trial 17 finished with value: 4.77870366207227 and parameters: {'learning_rate': 0.012344738627045734, 'num_leaves': 264, 'subsample': 0.23272953408939262, 'colsample_bytree': 0.37571414985665996, 'min_data_in_leaf': 98}. Best is trial 2 with value: 3.5341175815157326.\n",
      "[I 2025-04-23 23:46:25,391] Trial 19 finished with value: 4.944958084257984 and parameters: {'learning_rate': 0.003728577566058963, 'num_leaves': 39, 'subsample': 0.7062959191727417, 'colsample_bytree': 0.9081370516258559, 'min_data_in_leaf': 90}. Best is trial 2 with value: 3.5341175815157326.\n",
      "[I 2025-04-23 23:46:37,474] Trial 20 finished with value: 5.322194813981477 and parameters: {'learning_rate': 0.00344545549073975, 'num_leaves': 127, 'subsample': 0.37715706478127325, 'colsample_bytree': 0.8694711600744025, 'min_data_in_leaf': 46}. Best is trial 2 with value: 3.5341175815157326.\n",
      "[I 2025-04-23 23:46:49,569] Trial 21 finished with value: 6.038821750230878 and parameters: {'learning_rate': 0.0024896803508324427, 'num_leaves': 415, 'subsample': 0.47318379203785216, 'colsample_bytree': 0.13576325244872922, 'min_data_in_leaf': 7}. Best is trial 2 with value: 3.5341175815157326.\n",
      "[I 2025-04-23 23:47:06,296] Trial 24 finished with value: 6.20253712478445 and parameters: {'learning_rate': 0.00125495704494919, 'num_leaves': 122, 'subsample': 0.07212746746046209, 'colsample_bytree': 0.14838690035593247, 'min_data_in_leaf': 99}. Best is trial 2 with value: 3.5341175815157326.\n",
      "[I 2025-04-23 23:47:07,124] Trial 23 finished with value: 3.478896693589154 and parameters: {'learning_rate': 0.06372289493829554, 'num_leaves': 726, 'subsample': 0.7361205237020157, 'colsample_bytree': 0.15596739919834596, 'min_data_in_leaf': 75}. Best is trial 23 with value: 3.478896693589154.\n",
      "[I 2025-04-23 23:47:25,192] Trial 18 finished with value: 4.022140605853073 and parameters: {'learning_rate': 0.041929490355862416, 'num_leaves': 877, 'subsample': 0.9190347769641409, 'colsample_bytree': 0.45057096898400856, 'min_data_in_leaf': 44}. Best is trial 23 with value: 3.478896693589154.\n",
      "[I 2025-04-23 23:47:31,055] Trial 22 finished with value: 5.84205661421502 and parameters: {'learning_rate': 0.0029816295552277843, 'num_leaves': 869, 'subsample': 0.45980404476365994, 'colsample_bytree': 0.4164967761186749, 'min_data_in_leaf': 5}. Best is trial 23 with value: 3.478896693589154.\n",
      "[I 2025-04-23 23:47:32,949] Trial 26 finished with value: 6.116494978770783 and parameters: {'learning_rate': 0.0013532059970343658, 'num_leaves': 308, 'subsample': 0.4744515382631364, 'colsample_bytree': 0.4421978935835288, 'min_data_in_leaf': 18}. Best is trial 23 with value: 3.478896693589154.\n",
      "[I 2025-04-23 23:47:50,690] Trial 27 finished with value: 5.970539483354216 and parameters: {'learning_rate': 0.0030247676179255825, 'num_leaves': 457, 'subsample': 0.5979081663055337, 'colsample_bytree': 0.3084413468052744, 'min_data_in_leaf': 90}. Best is trial 23 with value: 3.478896693589154.\n",
      "[I 2025-04-23 23:48:09,879] Trial 28 finished with value: 3.6053108664892237 and parameters: {'learning_rate': 0.059823627274685924, 'num_leaves': 497, 'subsample': 0.8246456314294618, 'colsample_bytree': 0.8574245180240322, 'min_data_in_leaf': 53}. Best is trial 23 with value: 3.478896693589154.\n",
      "[I 2025-04-23 23:48:21,568] Trial 25 finished with value: 4.11259783664649 and parameters: {'learning_rate': 0.02606021607471984, 'num_leaves': 1007, 'subsample': 0.40825261569844423, 'colsample_bytree': 0.9580174982356453, 'min_data_in_leaf': 8}. Best is trial 23 with value: 3.478896693589154.\n",
      "[I 2025-04-23 23:48:36,356] Trial 31 finished with value: 5.787581853586206 and parameters: {'learning_rate': 0.001770004689185448, 'num_leaves': 252, 'subsample': 0.186167260718121, 'colsample_bytree': 0.8588797560443245, 'min_data_in_leaf': 41}. Best is trial 23 with value: 3.478896693589154.\n",
      "[I 2025-04-23 23:48:36,565] Trial 32 finished with value: 5.199201303398022 and parameters: {'learning_rate': 0.0029838203649972628, 'num_leaves': 88, 'subsample': 0.8636030322153376, 'colsample_bytree': 0.9045328469112187, 'min_data_in_leaf': 64}. Best is trial 23 with value: 3.478896693589154.\n",
      "[I 2025-04-23 23:48:47,285] Trial 29 finished with value: 4.192909737041806 and parameters: {'learning_rate': 0.027978237214891635, 'num_leaves': 967, 'subsample': 0.8352093406423143, 'colsample_bytree': 0.48192338214618435, 'min_data_in_leaf': 60}. Best is trial 23 with value: 3.478896693589154.\n",
      "[I 2025-04-23 23:48:53,909] Trial 30 finished with value: 4.321850745849734 and parameters: {'learning_rate': 0.022198604960011702, 'num_leaves': 869, 'subsample': 0.8176707812008422, 'colsample_bytree': 0.5597886644179666, 'min_data_in_leaf': 71}. Best is trial 23 with value: 3.478896693589154.\n",
      "[I 2025-04-23 23:49:07,553] Trial 33 finished with value: 5.539409957066917 and parameters: {'learning_rate': 0.002013578940304609, 'num_leaves': 372, 'subsample': 0.19045868484699957, 'colsample_bytree': 0.9655454768924012, 'min_data_in_leaf': 75}. Best is trial 23 with value: 3.478896693589154.\n",
      "[I 2025-04-23 23:49:09,956] Trial 35 finished with value: 3.8037221104761016 and parameters: {'learning_rate': 0.015913423958291314, 'num_leaves': 233, 'subsample': 0.524914915004802, 'colsample_bytree': 0.794149602012057, 'min_data_in_leaf': 93}. Best is trial 23 with value: 3.478896693589154.\n",
      "[I 2025-04-23 23:49:30,160] Trial 37 finished with value: 6.22113521602357 and parameters: {'learning_rate': 0.0011172405008449573, 'num_leaves': 492, 'subsample': 0.8348994524395673, 'colsample_bytree': 0.0941373069331764, 'min_data_in_leaf': 37}. Best is trial 23 with value: 3.478896693589154.\n",
      "[I 2025-04-23 23:49:30,369] Trial 34 finished with value: 6.030887552454531 and parameters: {'learning_rate': 0.001801729075529548, 'num_leaves': 765, 'subsample': 0.38704328713794395, 'colsample_bytree': 0.4270059345217023, 'min_data_in_leaf': 50}. Best is trial 23 with value: 3.478896693589154.\n",
      "[I 2025-04-23 23:49:44,570] Trial 39 finished with value: 3.5302996924394803 and parameters: {'learning_rate': 0.02353979104925468, 'num_leaves': 112, 'subsample': 0.061247946809326076, 'colsample_bytree': 0.815405340321136, 'min_data_in_leaf': 98}. Best is trial 23 with value: 3.478896693589154.\n",
      "[I 2025-04-23 23:49:48,665] Trial 36 finished with value: 5.008967376993239 and parameters: {'learning_rate': 0.0036335511722189193, 'num_leaves': 703, 'subsample': 0.2602120542284783, 'colsample_bytree': 0.9506897978731662, 'min_data_in_leaf': 96}. Best is trial 23 with value: 3.478896693589154.\n",
      "[I 2025-04-23 23:50:07,157] Trial 40 finished with value: 5.57579730232002 and parameters: {'learning_rate': 0.002507574937240131, 'num_leaves': 472, 'subsample': 0.05535942520436938, 'colsample_bytree': 0.73251037102036, 'min_data_in_leaf': 39}. Best is trial 23 with value: 3.478896693589154.\n",
      "[I 2025-04-23 23:50:09,387] Trial 38 finished with value: 4.407855800322356 and parameters: {'learning_rate': 0.020884454657744807, 'num_leaves': 863, 'subsample': 0.14156782948278057, 'colsample_bytree': 0.6022541915061759, 'min_data_in_leaf': 30}. Best is trial 23 with value: 3.478896693589154.\n",
      "[I 2025-04-23 23:50:12,580] Trial 42 finished with value: 6.179605205576054 and parameters: {'learning_rate': 0.0014225245558254006, 'num_leaves': 310, 'subsample': 0.8306241851107153, 'colsample_bytree': 0.3126087800454235, 'min_data_in_leaf': 8}. Best is trial 23 with value: 3.478896693589154.\n",
      "[I 2025-04-23 23:50:30,806] Trial 41 finished with value: 4.836068291270774 and parameters: {'learning_rate': 0.007156046394059118, 'num_leaves': 600, 'subsample': 0.85616868666807, 'colsample_bytree': 0.6583820473708385, 'min_data_in_leaf': 1}. Best is trial 23 with value: 3.478896693589154.\n",
      "[I 2025-04-23 23:50:33,608] Trial 43 finished with value: 3.992485494953743 and parameters: {'learning_rate': 0.03262821043825341, 'num_leaves': 779, 'subsample': 0.854144102993462, 'colsample_bytree': 0.23831032626483672, 'min_data_in_leaf': 75}. Best is trial 23 with value: 3.478896693589154.\n",
      "[I 2025-04-23 23:50:38,390] Trial 45 finished with value: 3.7928827864955137 and parameters: {'learning_rate': 0.040644103956150576, 'num_leaves': 614, 'subsample': 0.3466878534591638, 'colsample_bytree': 0.1774939571270076, 'min_data_in_leaf': 26}. Best is trial 23 with value: 3.478896693589154.\n",
      "[I 2025-04-23 23:50:45,559] Trial 47 finished with value: 5.551024879049845 and parameters: {'learning_rate': 0.002585230563724802, 'num_leaves': 73, 'subsample': 0.3239565212808913, 'colsample_bytree': 0.8747928573302729, 'min_data_in_leaf': 89}. Best is trial 23 with value: 3.478896693589154.\n",
      "[I 2025-04-23 23:51:08,241] Trial 44 finished with value: 3.612738272589138 and parameters: {'learning_rate': 0.03134626061553701, 'num_leaves': 780, 'subsample': 0.3388039304243926, 'colsample_bytree': 0.9137566081923983, 'min_data_in_leaf': 75}. Best is trial 23 with value: 3.478896693589154.\n",
      "[I 2025-04-23 23:51:09,975] Trial 46 finished with value: 3.5542111726370607 and parameters: {'learning_rate': 0.04883639173119886, 'num_leaves': 487, 'subsample': 0.18801574607096433, 'colsample_bytree': 0.9916814128426232, 'min_data_in_leaf': 85}. Best is trial 23 with value: 3.478896693589154.\n",
      "[I 2025-04-23 23:51:14,493] Trial 49 finished with value: 5.089473129375899 and parameters: {'learning_rate': 0.008878222584638322, 'num_leaves': 424, 'subsample': 0.7888993189027437, 'colsample_bytree': 0.5929101412031221, 'min_data_in_leaf': 69}. Best is trial 23 with value: 3.478896693589154.\n",
      "[I 2025-04-23 23:51:23,657] Trial 48 finished with value: 4.32169947509917 and parameters: {'learning_rate': 0.011313548058597798, 'num_leaves': 934, 'subsample': 0.28762076122052566, 'colsample_bytree': 0.6332250221523374, 'min_data_in_leaf': 6}. Best is trial 23 with value: 3.478896693589154.\n"
     ]
    },
    {
     "name": "stdout",
     "output_type": "stream",
     "text": [
      "Best hyperparameters: {'learning_rate': 0.06372289493829554, 'num_leaves': 726, 'subsample': 0.7361205237020157, 'colsample_bytree': 0.15596739919834596, 'min_data_in_leaf': 75}\n",
      "Best MSE: 3.478896693589154\n"
     ]
    }
   ],
   "source": [
    "best_params_lightgbm_only_4h = optimize_lightgbm(\n",
    "    f\"lightgbm_study_only_4h_{str(date.today())}\",\n",
    "    f\"lightgbm_study_only_4h_{str(date.today())}\"\n",
    ")"
   ]
  },
  {
   "cell_type": "code",
   "execution_count": 18,
   "id": "12a76b66",
   "metadata": {},
   "outputs": [
    {
     "data": {
      "text/plain": [
       "{'cod_prev_4': 31750,\n",
       " 'temp_prev_4': 31625,\n",
       " 'ph_prev_4': 28242,\n",
       " 'tss_prev_4': 31750}"
      ]
     },
     "execution_count": 18,
     "metadata": {},
     "output_type": "execute_result"
    }
   ],
   "source": [
    "params = {\n",
    "    \"n_estimators\": 100,\n",
    "    \"verbosity\": -1,\n",
    "    \"random_state\": 101\n",
    "}\n",
    "for p in best_params_lightgbm_only_4h:\n",
    "    params[p] = best_params_lightgbm_only_4h[p]\n",
    "\n",
    "feature_importances = {}\n",
    "\n",
    "lgbr = LGBMRegressor(**params)\n",
    "for i in range(5):\n",
    "    X_train = X_train_arr[i]\n",
    "    Y_train = Y_train_arr[i]\n",
    "    lgbr.fit(X_train, Y_train)\n",
    "    features = lgbr.feature_names_in_.tolist()\n",
    "    features_i = lgbr.feature_importances_.tolist()\n",
    "    for inx, feat in enumerate(features):\n",
    "        feature_importances[feat] = feature_importances.get(feat, 0) + features_i[inx]\n",
    "\n",
    "feature_importances"
   ]
  },
  {
   "cell_type": "markdown",
   "id": "8e6175d9",
   "metadata": {},
   "source": [
    "Idea: try to use LGBM specifically on difference from 1 cod to the other due to the leaf growth of lgbm can handle this"
   ]
  },
  {
   "cell_type": "code",
   "execution_count": 19,
   "id": "d6fe6c10",
   "metadata": {},
   "outputs": [
    {
     "data": {
      "text/plain": [
       "np.float64(3.2628565506763394)"
      ]
     },
     "execution_count": 19,
     "metadata": {},
     "output_type": "execute_result"
    }
   ],
   "source": [
    "df[\"cod_diff_4\"] = df[\"cod\"] - df[\"cod_prev_4\"]\n",
    "features_used = [\"ph_prev_4\", \"tss_prev_4\", \"temp_prev_4\", \"nh4_prev_4\"]\n",
    "X_train_arr, X_test_arr, Y_train_arr, Y_test_arr = create_cv_split_diff(df, features_used)\n",
    "\n",
    "# baseline\n",
    "baseline_score = 0\n",
    "for i in range(5):\n",
    "    baseline_score += np.sqrt(np.mean(Y_test_arr[i]**2))\n",
    "baseline_score / 5"
   ]
  },
  {
   "cell_type": "code",
   "execution_count": 20,
   "id": "2070502f",
   "metadata": {},
   "outputs": [
    {
     "name": "stdout",
     "output_type": "stream",
     "text": [
      "Conduct hyperparam opt for LightGBM\n"
     ]
    },
    {
     "name": "stderr",
     "output_type": "stream",
     "text": [
      "[I 2025-04-23 23:58:37,841] A new study created in RDB with name: lightgbm_study_diff_4_2025-04-23\n",
      "[I 2025-04-23 23:58:42,541] Trial 0 finished with value: 3.269485173747525 and parameters: {'learning_rate': 0.05178649238948697, 'num_leaves': 3, 'subsample': 0.6911526225996422, 'colsample_bytree': 0.46559941707321767, 'min_data_in_leaf': 68}. Best is trial 0 with value: 3.269485173747525.\n",
      "[I 2025-04-23 23:59:04,005] Trial 1 finished with value: 3.262880530212185 and parameters: {'learning_rate': 0.0011253913145589203, 'num_leaves': 205, 'subsample': 0.16950093940830574, 'colsample_bytree': 0.6415555833246097, 'min_data_in_leaf': 22}. Best is trial 1 with value: 3.262880530212185.\n",
      "[I 2025-04-23 23:59:06,904] Trial 2 finished with value: 3.514967505906623 and parameters: {'learning_rate': 0.05955822034174013, 'num_leaves': 216, 'subsample': 0.5119559242557542, 'colsample_bytree': 0.47177545799503795, 'min_data_in_leaf': 96}. Best is trial 1 with value: 3.262880530212185.\n",
      "[I 2025-04-23 23:59:11,975] Trial 4 finished with value: 3.506400208600816 and parameters: {'learning_rate': 0.04794220034835917, 'num_leaves': 253, 'subsample': 0.47862937505295355, 'colsample_bytree': 0.8236567923210244, 'min_data_in_leaf': 36}. Best is trial 1 with value: 3.262880530212185.\n",
      "[I 2025-04-23 23:59:13,109] Trial 3 finished with value: 3.3156528977239232 and parameters: {'learning_rate': 0.06774292011476905, 'num_leaves': 561, 'subsample': 0.0961039598343288, 'colsample_bytree': 0.2735886316649456, 'min_data_in_leaf': 30}. Best is trial 1 with value: 3.262880530212185.\n",
      "[I 2025-04-23 23:59:20,773] Trial 6 finished with value: 3.4791019164576342 and parameters: {'learning_rate': 0.09756596844244551, 'num_leaves': 98, 'subsample': 0.8064589423063725, 'colsample_bytree': 0.6946685302584054, 'min_data_in_leaf': 85}. Best is trial 1 with value: 3.262880530212185.\n",
      "[I 2025-04-23 23:59:37,129] Trial 8 finished with value: 3.261106010531799 and parameters: {'learning_rate': 0.005371972623445997, 'num_leaves': 175, 'subsample': 0.16536343074572246, 'colsample_bytree': 0.1357546773502321, 'min_data_in_leaf': 99}. Best is trial 8 with value: 3.261106010531799.\n",
      "[I 2025-04-23 23:59:40,537] Trial 5 finished with value: 3.271771175679901 and parameters: {'learning_rate': 0.0010262215420337479, 'num_leaves': 333, 'subsample': 0.7662968854082854, 'colsample_bytree': 0.9806574380997136, 'min_data_in_leaf': 29}. Best is trial 8 with value: 3.261106010531799.\n",
      "[I 2025-04-23 23:59:43,717] Trial 7 finished with value: 3.2802365470943053 and parameters: {'learning_rate': 0.006060612872507614, 'num_leaves': 307, 'subsample': 0.10745474824052317, 'colsample_bytree': 0.4930436493947677, 'min_data_in_leaf': 76}. Best is trial 8 with value: 3.261106010531799.\n",
      "[I 2025-04-23 23:59:49,697] Trial 9 finished with value: 3.262114378913298 and parameters: {'learning_rate': 0.0011338495766702184, 'num_leaves': 313, 'subsample': 0.3362126787236816, 'colsample_bytree': 0.18762074948128782, 'min_data_in_leaf': 21}. Best is trial 8 with value: 3.261106010531799.\n",
      "[I 2025-04-23 23:59:55,267] Trial 13 finished with value: 3.2767501884109094 and parameters: {'learning_rate': 0.01898025438211278, 'num_leaves': 11, 'subsample': 0.10725124766966905, 'colsample_bytree': 0.9787656791455918, 'min_data_in_leaf': 17}. Best is trial 8 with value: 3.261106010531799.\n",
      "[I 2025-04-24 00:00:12,093] Trial 12 finished with value: 3.2612555482786734 and parameters: {'learning_rate': 0.0031128572031680463, 'num_leaves': 934, 'subsample': 0.6827028290333644, 'colsample_bytree': 0.19211014834168727, 'min_data_in_leaf': 61}. Best is trial 8 with value: 3.261106010531799.\n",
      "[I 2025-04-24 00:00:30,390] Trial 11 finished with value: 3.375491168692738 and parameters: {'learning_rate': 0.004591720568642889, 'num_leaves': 609, 'subsample': 0.4247916078391312, 'colsample_bytree': 0.9975174717314332, 'min_data_in_leaf': 36}. Best is trial 8 with value: 3.261106010531799.\n",
      "[I 2025-04-24 00:00:35,835] Trial 14 finished with value: 3.4131532274219394 and parameters: {'learning_rate': 0.024669461285421978, 'num_leaves': 487, 'subsample': 0.32422595413646543, 'colsample_bytree': 0.419256094209158, 'min_data_in_leaf': 92}. Best is trial 8 with value: 3.261106010531799.\n",
      "[I 2025-04-24 00:00:45,726] Trial 10 finished with value: 3.632033047205988 and parameters: {'learning_rate': 0.050691931643329455, 'num_leaves': 903, 'subsample': 0.5504227935790305, 'colsample_bytree': 0.6951000491556927, 'min_data_in_leaf': 22}. Best is trial 8 with value: 3.261106010531799.\n",
      "[I 2025-04-24 00:01:00,651] Trial 17 finished with value: 3.315053052416187 and parameters: {'learning_rate': 0.06720922429872911, 'num_leaves': 209, 'subsample': 0.8050896537601467, 'colsample_bytree': 0.15745588842251632, 'min_data_in_leaf': 51}. Best is trial 8 with value: 3.261106010531799.\n",
      "[I 2025-04-24 00:01:06,675] Trial 16 finished with value: 3.5419962515454118 and parameters: {'learning_rate': 0.0334576920368948, 'num_leaves': 379, 'subsample': 0.4527702996427755, 'colsample_bytree': 0.9772169219877941, 'min_data_in_leaf': 52}. Best is trial 8 with value: 3.261106010531799.\n",
      "[I 2025-04-24 00:01:11,840] Trial 15 finished with value: 3.3603701874283076 and parameters: {'learning_rate': 0.015613259960095768, 'num_leaves': 750, 'subsample': 0.6637129434571474, 'colsample_bytree': 0.7958537432960819, 'min_data_in_leaf': 84}. Best is trial 8 with value: 3.261106010531799.\n",
      "[I 2025-04-24 00:01:15,663] Trial 18 finished with value: 3.418868190375393 and parameters: {'learning_rate': 0.028419194005024285, 'num_leaves': 312, 'subsample': 0.8882424800094968, 'colsample_bytree': 0.4436761538420014, 'min_data_in_leaf': 94}. Best is trial 8 with value: 3.261106010531799.\n",
      "[I 2025-04-24 00:01:22,152] Trial 19 finished with value: 3.3049447016848945 and parameters: {'learning_rate': 0.01113646728096223, 'num_leaves': 213, 'subsample': 0.6125355000640362, 'colsample_bytree': 0.5953959573564642, 'min_data_in_leaf': 48}. Best is trial 8 with value: 3.261106010531799.\n",
      "[I 2025-04-24 00:01:45,379] Trial 23 finished with value: 3.2621210643001604 and parameters: {'learning_rate': 0.0011291084063039534, 'num_leaves': 273, 'subsample': 0.22179925248060167, 'colsample_bytree': 0.27122234234537584, 'min_data_in_leaf': 53}. Best is trial 8 with value: 3.261106010531799.\n",
      "[I 2025-04-24 00:02:01,572] Trial 24 finished with value: 3.262029193550424 and parameters: {'learning_rate': 0.001216260855628867, 'num_leaves': 115, 'subsample': 0.6940304576374989, 'colsample_bytree': 0.28752951733705023, 'min_data_in_leaf': 64}. Best is trial 8 with value: 3.261106010531799.\n",
      "[I 2025-04-24 00:02:03,611] Trial 21 finished with value: 3.3079324469463858 and parameters: {'learning_rate': 0.009981338717202507, 'num_leaves': 680, 'subsample': 0.6994146435529186, 'colsample_bytree': 0.38791356362237045, 'min_data_in_leaf': 68}. Best is trial 8 with value: 3.261106010531799.\n",
      "[I 2025-04-24 00:02:11,835] Trial 22 finished with value: 3.2678566178406285 and parameters: {'learning_rate': 0.0037599674387321425, 'num_leaves': 706, 'subsample': 0.8051438844181948, 'colsample_bytree': 0.7868456677498236, 'min_data_in_leaf': 99}. Best is trial 8 with value: 3.261106010531799.\n",
      "[I 2025-04-24 00:02:13,747] Trial 25 finished with value: 3.2610113178545097 and parameters: {'learning_rate': 0.003180087028423869, 'num_leaves': 64, 'subsample': 0.6134094820495632, 'colsample_bytree': 0.2648641353141975, 'min_data_in_leaf': 62}. Best is trial 25 with value: 3.2610113178545097.\n",
      "[I 2025-04-24 00:02:26,640] Trial 27 finished with value: 3.3725975943517694 and parameters: {'learning_rate': 0.027863895116699993, 'num_leaves': 110, 'subsample': 0.4855789892448502, 'colsample_bytree': 0.699798268022263, 'min_data_in_leaf': 57}. Best is trial 25 with value: 3.2610113178545097.\n",
      "[I 2025-04-24 00:02:26,835] Trial 28 finished with value: 3.5196422975877284 and parameters: {'learning_rate': 0.09805830726132875, 'num_leaves': 103, 'subsample': 0.6837270128060645, 'colsample_bytree': 0.4902238820132984, 'min_data_in_leaf': 69}. Best is trial 25 with value: 3.2610113178545097.\n",
      "[I 2025-04-24 00:02:34,209] Trial 20 finished with value: 3.265134481255566 and parameters: {'learning_rate': 0.0012390323194504452, 'num_leaves': 1002, 'subsample': 0.7924075183669709, 'colsample_bytree': 0.6159286705414774, 'min_data_in_leaf': 35}. Best is trial 25 with value: 3.2610113178545097.\n",
      "[I 2025-04-24 00:02:35,007] Trial 29 finished with value: 3.3183804514836153 and parameters: {'learning_rate': 0.02586984076496768, 'num_leaves': 43, 'subsample': 0.8846206481056773, 'colsample_bytree': 0.6589982982922823, 'min_data_in_leaf': 7}. Best is trial 25 with value: 3.2610113178545097.\n",
      "[I 2025-04-24 00:02:40,551] Trial 32 finished with value: 3.285291644998108 and parameters: {'learning_rate': 0.010051428222488234, 'num_leaves': 14, 'subsample': 0.09743196501685139, 'colsample_bytree': 0.6023720132314415, 'min_data_in_leaf': 56}. Best is trial 25 with value: 3.2610113178545097.\n",
      "[I 2025-04-24 00:02:50,509] Trial 26 finished with value: 3.3910945657386096 and parameters: {'learning_rate': 0.01721909687271817, 'num_leaves': 548, 'subsample': 0.21253016163080646, 'colsample_bytree': 0.38265610750868717, 'min_data_in_leaf': 15}. Best is trial 25 with value: 3.2610113178545097.\n",
      "[I 2025-04-24 00:03:12,837] Trial 30 finished with value: 3.6350241668613967 and parameters: {'learning_rate': 0.06428374755885548, 'num_leaves': 636, 'subsample': 0.29712770580396264, 'colsample_bytree': 0.6559704427410176, 'min_data_in_leaf': 35}. Best is trial 25 with value: 3.2610113178545097.\n",
      "[I 2025-04-24 00:03:39,173] Trial 35 finished with value: 3.3243167060947165 and parameters: {'learning_rate': 0.08227935457513028, 'num_leaves': 912, 'subsample': 0.5082052019829052, 'colsample_bytree': 0.17257253919731874, 'min_data_in_leaf': 19}. Best is trial 25 with value: 3.2610113178545097.\n",
      "[I 2025-04-24 00:03:42,430] Trial 31 finished with value: 3.2977945810568974 and parameters: {'learning_rate': 0.00852314748606441, 'num_leaves': 956, 'subsample': 0.6255724926050755, 'colsample_bytree': 0.5503879380887884, 'min_data_in_leaf': 92}. Best is trial 25 with value: 3.2610113178545097.\n",
      "[I 2025-04-24 00:03:51,870] Trial 33 finished with value: 3.291594711735397 and parameters: {'learning_rate': 0.0014255191426696496, 'num_leaves': 963, 'subsample': 0.22917216507460603, 'colsample_bytree': 0.9355214062302258, 'min_data_in_leaf': 44}. Best is trial 25 with value: 3.2610113178545097.\n",
      "[I 2025-04-24 00:03:54,737] Trial 34 finished with value: 3.5961022431706304 and parameters: {'learning_rate': 0.014392266649769336, 'num_leaves': 854, 'subsample': 0.6527233645824265, 'colsample_bytree': 0.8847678049922508, 'min_data_in_leaf': 33}. Best is trial 25 with value: 3.2610113178545097.\n",
      "[I 2025-04-24 00:04:19,130] Trial 38 finished with value: 3.262073810868243 and parameters: {'learning_rate': 0.0012320200990898734, 'num_leaves': 954, 'subsample': 0.8391599601131638, 'colsample_bytree': 0.24462517842724812, 'min_data_in_leaf': 6}. Best is trial 25 with value: 3.2610113178545097.\n",
      "[I 2025-04-24 00:04:21,296] Trial 36 finished with value: 3.4427489304239645 and parameters: {'learning_rate': 0.027035065389177097, 'num_leaves': 533, 'subsample': 0.9824859599060387, 'colsample_bytree': 0.4748914188127153, 'min_data_in_leaf': 47}. Best is trial 25 with value: 3.2610113178545097.\n",
      "[I 2025-04-24 00:04:21,602] Trial 39 finished with value: 3.2621368117833107 and parameters: {'learning_rate': 0.0011173808480434357, 'num_leaves': 1017, 'subsample': 0.07461198767752353, 'colsample_bytree': 0.083450985539153, 'min_data_in_leaf': 1}. Best is trial 25 with value: 3.2610113178545097.\n",
      "[I 2025-04-24 00:04:30,306] Trial 37 finished with value: 3.2620905748125693 and parameters: {'learning_rate': 0.0010735886726859242, 'num_leaves': 637, 'subsample': 0.6854091619830858, 'colsample_bytree': 0.7570340834782611, 'min_data_in_leaf': 67}. Best is trial 25 with value: 3.2610113178545097.\n",
      "[I 2025-04-24 00:04:45,682] Trial 42 finished with value: 3.565691395681481 and parameters: {'learning_rate': 0.03534436645089669, 'num_leaves': 289, 'subsample': 0.7334803441934492, 'colsample_bytree': 0.9244917854393757, 'min_data_in_leaf': 46}. Best is trial 25 with value: 3.2610113178545097.\n",
      "[I 2025-04-24 00:04:53,001] Trial 40 finished with value: 3.2613598848542713 and parameters: {'learning_rate': 0.0017491810057560164, 'num_leaves': 431, 'subsample': 0.07454765184284516, 'colsample_bytree': 0.7453636835551485, 'min_data_in_leaf': 88}. Best is trial 25 with value: 3.2610113178545097.\n",
      "[I 2025-04-24 00:05:12,136] Trial 41 finished with value: 3.313044340832481 and parameters: {'learning_rate': 0.002606171109653382, 'num_leaves': 682, 'subsample': 0.32241372617819564, 'colsample_bytree': 0.8866818850650787, 'min_data_in_leaf': 57}. Best is trial 25 with value: 3.2610113178545097.\n",
      "[I 2025-04-24 00:05:14,669] Trial 43 finished with value: 3.5727675143266837 and parameters: {'learning_rate': 0.04384118850691829, 'num_leaves': 606, 'subsample': 0.5240330957436573, 'colsample_bytree': 0.5345465312373541, 'min_data_in_leaf': 25}. Best is trial 25 with value: 3.2610113178545097.\n",
      "[I 2025-04-24 00:05:18,372] Trial 45 finished with value: 3.266160777710526 and parameters: {'learning_rate': 0.0166997664740193, 'num_leaves': 747, 'subsample': 0.19900003655993775, 'colsample_bytree': 0.2110523627380942, 'min_data_in_leaf': 38}. Best is trial 25 with value: 3.2610113178545097.\n",
      "[I 2025-04-24 00:05:33,161] Trial 48 finished with value: 3.275887245935364 and parameters: {'learning_rate': 0.029122571331434824, 'num_leaves': 104, 'subsample': 0.6265881666843309, 'colsample_bytree': 0.230167375505349, 'min_data_in_leaf': 27}. Best is trial 25 with value: 3.2610113178545097.\n",
      "[I 2025-04-24 00:05:40,135] Trial 47 finished with value: 3.301468748018892 and parameters: {'learning_rate': 0.051220450781151644, 'num_leaves': 234, 'subsample': 0.78337238993317, 'colsample_bytree': 0.1650462712848736, 'min_data_in_leaf': 65}. Best is trial 25 with value: 3.2610113178545097.\n",
      "[I 2025-04-24 00:05:43,231] Trial 46 finished with value: 3.6260517806816006 and parameters: {'learning_rate': 0.05106346315860155, 'num_leaves': 374, 'subsample': 0.6369432153596337, 'colsample_bytree': 0.5597692622074663, 'min_data_in_leaf': 3}. Best is trial 25 with value: 3.2610113178545097.\n",
      "[I 2025-04-24 00:05:52,337] Trial 44 finished with value: 3.6656647478014834 and parameters: {'learning_rate': 0.0789576331096732, 'num_leaves': 980, 'subsample': 0.32661616328813864, 'colsample_bytree': 0.8084626435305116, 'min_data_in_leaf': 69}. Best is trial 25 with value: 3.2610113178545097.\n",
      "[I 2025-04-24 00:05:53,091] Trial 49 finished with value: 3.263302995997221 and parameters: {'learning_rate': 0.012678196990439589, 'num_leaves': 755, 'subsample': 0.7800211295861967, 'colsample_bytree': 0.28929937818107476, 'min_data_in_leaf': 63}. Best is trial 25 with value: 3.2610113178545097.\n"
     ]
    },
    {
     "name": "stdout",
     "output_type": "stream",
     "text": [
      "Best hyperparameters: {'learning_rate': 0.003180087028423869, 'num_leaves': 64, 'subsample': 0.6134094820495632, 'colsample_bytree': 0.2648641353141975, 'min_data_in_leaf': 62}\n",
      "Best MSE: 3.2610113178545097\n"
     ]
    }
   ],
   "source": [
    "best_params = optimize_lightgbm(\n",
    "    f\"lightgbm_study_diff_4_{str(date.today())}\",\n",
    "    f\"lightgbm_study_diff_4_{str(date.today())}\",\n",
    ") "
   ]
  },
  {
   "cell_type": "markdown",
   "id": "e1302395",
   "metadata": {},
   "source": [
    "Try to look at specific region"
   ]
  },
  {
   "cell_type": "code",
   "execution_count": 21,
   "id": "0b9f2898",
   "metadata": {},
   "outputs": [],
   "source": [
    "baymau_df = df[df[\"Location\"] == \"BAY MAU.csv\"].reset_index().drop(\"index\", axis = 1)"
   ]
  },
  {
   "cell_type": "code",
   "execution_count": 22,
   "id": "93cf7ca7",
   "metadata": {},
   "outputs": [
    {
     "data": {
      "text/plain": [
       "np.float64(2.744651352208893)"
      ]
     },
     "execution_count": 22,
     "metadata": {},
     "output_type": "execute_result"
    }
   ],
   "source": [
    "features_used = [f\"cod_prev_{i}\" for i in range(4, 9)]\n",
    "X_train_arr, X_test_arr, Y_train_arr, Y_test_arr = create_cv_split(baymau_df, features_used)\n",
    "\n",
    "# baseline\n",
    "baseline_score = 0\n",
    "for i in range(5):\n",
    "    baseline_score += np.sqrt(np.mean((Y_test_arr[i] - X_test_arr[i][f\"cod_prev_4\"])**2))\n",
    "baseline_score / 5"
   ]
  },
  {
   "cell_type": "code",
   "execution_count": 23,
   "id": "e98043ca",
   "metadata": {},
   "outputs": [
    {
     "name": "stdout",
     "output_type": "stream",
     "text": [
      "Conduct hyperparam opt for XGBoost\n"
     ]
    },
    {
     "name": "stderr",
     "output_type": "stream",
     "text": [
      "[I 2025-04-24 00:05:54,987] A new study created in RDB with name: xgboost_study_only_cod_baymau_2025-04-24\n",
      "[I 2025-04-24 00:06:01,605] Trial 3 finished with value: 2.7059896830176355 and parameters: {'max_depth': 4, 'learning_rate': 0.020531424268661596, 'subsample': 0.3122913048836874, 'colsample_bytree': 0.38858669511539023, 'min_child_weight': 5}. Best is trial 3 with value: 2.7059896830176355.\n",
      "[I 2025-04-24 00:06:01,961] Trial 2 finished with value: 2.5701873448538266 and parameters: {'max_depth': 4, 'learning_rate': 0.0832651530658168, 'subsample': 0.1552719985865663, 'colsample_bytree': 0.8661047111537575, 'min_child_weight': 1}. Best is trial 2 with value: 2.5701873448538266.\n",
      "[I 2025-04-24 00:06:04,926] Trial 1 finished with value: 4.15674962810595 and parameters: {'max_depth': 6, 'learning_rate': 0.0011251283180771982, 'subsample': 0.9866719944502651, 'colsample_bytree': 0.4643543031080264, 'min_child_weight': 6}. Best is trial 2 with value: 2.5701873448538266.\n",
      "[I 2025-04-24 00:06:08,084] Trial 5 finished with value: 2.63725295699385 and parameters: {'max_depth': 3, 'learning_rate': 0.026510365230924503, 'subsample': 0.35886637333985066, 'colsample_bytree': 0.23683367738876238, 'min_child_weight': 1}. Best is trial 2 with value: 2.5701873448538266.\n",
      "[I 2025-04-24 00:06:08,779] Trial 6 finished with value: 4.131754516332466 and parameters: {'max_depth': 1, 'learning_rate': 0.0015720438187628654, 'subsample': 0.723709133534685, 'colsample_bytree': 0.8462889372226906, 'min_child_weight': 3}. Best is trial 2 with value: 2.5701873448538266.\n",
      "[I 2025-04-24 00:06:10,965] Trial 0 finished with value: 3.7678939149487647 and parameters: {'max_depth': 9, 'learning_rate': 0.0030198696454728606, 'subsample': 0.538695533528271, 'colsample_bytree': 0.6443140787361527, 'min_child_weight': 4}. Best is trial 2 with value: 2.5701873448538266.\n",
      "[I 2025-04-24 00:06:13,359] Trial 8 finished with value: 2.620607343972001 and parameters: {'max_depth': 2, 'learning_rate': 0.035964026627536165, 'subsample': 0.13013273076979986, 'colsample_bytree': 0.21091449704654186, 'min_child_weight': 8}. Best is trial 2 with value: 2.5701873448538266.\n",
      "[I 2025-04-24 00:06:16,917] Trial 9 finished with value: 3.687479265758108 and parameters: {'max_depth': 3, 'learning_rate': 0.0033886854368404785, 'subsample': 0.8775070565464396, 'colsample_bytree': 0.8667603750668106, 'min_child_weight': 10}. Best is trial 2 with value: 2.5701873448538266.\n",
      "[I 2025-04-24 00:06:18,700] Trial 4 finished with value: 2.689429845244409 and parameters: {'max_depth': 10, 'learning_rate': 0.01643114121839882, 'subsample': 0.15848203249162335, 'colsample_bytree': 0.6102210833226145, 'min_child_weight': 4}. Best is trial 2 with value: 2.5701873448538266.\n",
      "[I 2025-04-24 00:06:22,459] Trial 12 finished with value: 3.716088659358907 and parameters: {'max_depth': 1, 'learning_rate': 0.00480440863153841, 'subsample': 0.19095786366849254, 'colsample_bytree': 0.5732164225649794, 'min_child_weight': 9}. Best is trial 2 with value: 2.5701873448538266.\n",
      "[I 2025-04-24 00:06:24,268] Trial 7 finished with value: 3.0794538510956153 and parameters: {'max_depth': 9, 'learning_rate': 0.008661276093787184, 'subsample': 0.5998613548173879, 'colsample_bytree': 0.4299258390456876, 'min_child_weight': 3}. Best is trial 2 with value: 2.5701873448538266.\n",
      "[I 2025-04-24 00:06:24,471] Trial 11 finished with value: 2.6585405434871694 and parameters: {'max_depth': 4, 'learning_rate': 0.08848439248544747, 'subsample': 0.9323474071246838, 'colsample_bytree': 0.17703036475927503, 'min_child_weight': 6}. Best is trial 2 with value: 2.5701873448538266.\n",
      "[I 2025-04-24 00:06:27,623] Trial 10 finished with value: 3.6509902741198585 and parameters: {'max_depth': 8, 'learning_rate': 0.0037740699534808348, 'subsample': 0.9395823157059224, 'colsample_bytree': 0.47489919678615244, 'min_child_weight': 1}. Best is trial 2 with value: 2.5701873448538266.\n",
      "[I 2025-04-24 00:06:28,556] Trial 13 finished with value: 2.630927217411871 and parameters: {'max_depth': 3, 'learning_rate': 0.027135715284536465, 'subsample': 0.9611912404787475, 'colsample_bytree': 0.3982063512303021, 'min_child_weight': 6}. Best is trial 2 with value: 2.5701873448538266.\n",
      "[I 2025-04-24 00:06:31,538] Trial 15 finished with value: 2.5367407480329787 and parameters: {'max_depth': 4, 'learning_rate': 0.06916388237937654, 'subsample': 0.38968037525812527, 'colsample_bytree': 0.8072223250551891, 'min_child_weight': 10}. Best is trial 15 with value: 2.5367407480329787.\n",
      "[I 2025-04-24 00:06:36,839] Trial 17 finished with value: 3.220766087380111 and parameters: {'max_depth': 5, 'learning_rate': 0.006854877812191056, 'subsample': 0.26340021099652844, 'colsample_bytree': 0.6610338998668315, 'min_child_weight': 8}. Best is trial 15 with value: 2.5367407480329787.\n",
      "[I 2025-04-24 00:06:37,576] Trial 16 finished with value: 3.9949239056029646 and parameters: {'max_depth': 6, 'learning_rate': 0.0018216163133518736, 'subsample': 0.3109963862884419, 'colsample_bytree': 0.8344012057226335, 'min_child_weight': 5}. Best is trial 15 with value: 2.5367407480329787.\n",
      "[I 2025-04-24 00:06:40,369] Trial 14 finished with value: 3.876329985471704 and parameters: {'max_depth': 9, 'learning_rate': 0.0024206919597710348, 'subsample': 0.9899624157667045, 'colsample_bytree': 0.980074792189501, 'min_child_weight': 1}. Best is trial 15 with value: 2.5367407480329787.\n",
      "[I 2025-04-24 00:06:45,977] Trial 18 finished with value: 2.6787017244648377 and parameters: {'max_depth': 10, 'learning_rate': 0.04371339475768265, 'subsample': 0.9614581672182055, 'colsample_bytree': 0.3484106118994883, 'min_child_weight': 9}. Best is trial 15 with value: 2.5367407480329787.\n",
      "[I 2025-04-24 00:06:49,408] Trial 20 finished with value: 3.800720950836502 and parameters: {'max_depth': 9, 'learning_rate': 0.0031331147149647174, 'subsample': 0.07508648486741556, 'colsample_bytree': 0.16880598305026961, 'min_child_weight': 9}. Best is trial 15 with value: 2.5367407480329787.\n",
      "[I 2025-04-24 00:06:52,877] Trial 21 finished with value: 2.7056709615082624 and parameters: {'max_depth': 8, 'learning_rate': 0.016030947785472822, 'subsample': 0.348112813473671, 'colsample_bytree': 0.4059643718204985, 'min_child_weight': 1}. Best is trial 15 with value: 2.5367407480329787.\n",
      "[I 2025-04-24 00:06:54,331] Trial 19 finished with value: 2.775041753464829 and parameters: {'max_depth': 10, 'learning_rate': 0.015140656172359573, 'subsample': 0.8957418665347465, 'colsample_bytree': 0.9059446783872481, 'min_child_weight': 4}. Best is trial 15 with value: 2.5367407480329787.\n",
      "[I 2025-04-24 00:06:59,482] Trial 22 finished with value: 4.132441076466195 and parameters: {'max_depth': 8, 'learning_rate': 0.0012140237561300918, 'subsample': 0.7454824646645691, 'colsample_bytree': 0.6934436462566377, 'min_child_weight': 2}. Best is trial 15 with value: 2.5367407480329787.\n",
      "[I 2025-04-24 00:07:00,082] Trial 24 finished with value: 3.65813377317115 and parameters: {'max_depth': 4, 'learning_rate': 0.0035628638579948413, 'subsample': 0.5653182350302137, 'colsample_bytree': 0.7484571487732343, 'min_child_weight': 8}. Best is trial 15 with value: 2.5367407480329787.\n",
      "[I 2025-04-24 00:07:02,419] Trial 23 finished with value: 4.036919824673662 and parameters: {'max_depth': 8, 'learning_rate': 0.0016465233247532564, 'subsample': 0.2863432429093445, 'colsample_bytree': 0.7767033064858415, 'min_child_weight': 10}. Best is trial 15 with value: 2.5367407480329787.\n",
      "[I 2025-04-24 00:07:07,327] Trial 28 finished with value: 3.254692177478983 and parameters: {'max_depth': 2, 'learning_rate': 0.007245145585928823, 'subsample': 0.1313890312768874, 'colsample_bytree': 0.46303391277524497, 'min_child_weight': 7}. Best is trial 15 with value: 2.5367407480329787.\n",
      "[I 2025-04-24 00:07:08,745] Trial 27 finished with value: 4.179246210452282 and parameters: {'max_depth': 5, 'learning_rate': 0.001107770036037331, 'subsample': 0.696819042716566, 'colsample_bytree': 0.1052404980834667, 'min_child_weight': 1}. Best is trial 15 with value: 2.5367407480329787.\n",
      "[I 2025-04-24 00:07:09,726] Trial 26 finished with value: 2.5923721634605945 and parameters: {'max_depth': 6, 'learning_rate': 0.057054024355035024, 'subsample': 0.5896735555542301, 'colsample_bytree': 0.8022559812003519, 'min_child_weight': 2}. Best is trial 15 with value: 2.5367407480329787.\n",
      "[I 2025-04-24 00:07:09,897] Trial 25 finished with value: 2.604687493208883 and parameters: {'max_depth': 9, 'learning_rate': 0.04829890907261933, 'subsample': 0.7736618059024623, 'colsample_bytree': 0.4937593585352946, 'min_child_weight': 3}. Best is trial 15 with value: 2.5367407480329787.\n",
      "[I 2025-04-24 00:07:18,422] Trial 31 finished with value: 2.651043935920185 and parameters: {'max_depth': 6, 'learning_rate': 0.01755564894051727, 'subsample': 0.8991864646255167, 'colsample_bytree': 0.45157161970858717, 'min_child_weight': 10}. Best is trial 15 with value: 2.5367407480329787.\n",
      "[I 2025-04-24 00:07:21,438] Trial 29 finished with value: 3.0281110204885806 and parameters: {'max_depth': 10, 'learning_rate': 0.010697083910584224, 'subsample': 0.7481953605191328, 'colsample_bytree': 0.3785716450661748, 'min_child_weight': 5}. Best is trial 15 with value: 2.5367407480329787.\n",
      "[I 2025-04-24 00:07:22,047] Trial 30 finished with value: 4.158574341871266 and parameters: {'max_depth': 10, 'learning_rate': 0.0012074295217146386, 'subsample': 0.28560970599083557, 'colsample_bytree': 0.2710748184268299, 'min_child_weight': 8}. Best is trial 15 with value: 2.5367407480329787.\n",
      "[I 2025-04-24 00:07:23,417] Trial 33 finished with value: 4.181978761078322 and parameters: {'max_depth': 2, 'learning_rate': 0.0010973128827394397, 'subsample': 0.2004263794428373, 'colsample_bytree': 0.7147279588075997, 'min_child_weight': 1}. Best is trial 15 with value: 2.5367407480329787.\n",
      "[I 2025-04-24 00:07:24,887] Trial 32 finished with value: 3.450308675724382 and parameters: {'max_depth': 9, 'learning_rate': 0.005074972440088339, 'subsample': 0.40942163345844645, 'colsample_bytree': 0.7213281942966765, 'min_child_weight': 2}. Best is trial 15 with value: 2.5367407480329787.\n",
      "[I 2025-04-24 00:07:26,345] Trial 34 finished with value: 3.524611107787552 and parameters: {'max_depth': 2, 'learning_rate': 0.005337027195121345, 'subsample': 0.5226115256598577, 'colsample_bytree': 0.19897792554801907, 'min_child_weight': 7}. Best is trial 15 with value: 2.5367407480329787.\n",
      "[I 2025-04-24 00:07:30,337] Trial 37 finished with value: 2.6371114107709355 and parameters: {'max_depth': 3, 'learning_rate': 0.049478785296231564, 'subsample': 0.08697139651750155, 'colsample_bytree': 0.3270041265455834, 'min_child_weight': 8}. Best is trial 15 with value: 2.5367407480329787.\n",
      "[I 2025-04-24 00:07:35,580] Trial 35 finished with value: 2.5882665113753496 and parameters: {'max_depth': 8, 'learning_rate': 0.042867013137016026, 'subsample': 0.8198743367839486, 'colsample_bytree': 0.6914999129574811, 'min_child_weight': 5}. Best is trial 15 with value: 2.5367407480329787.\n",
      "[I 2025-04-24 00:07:37,162] Trial 36 finished with value: 2.680422183190364 and parameters: {'max_depth': 9, 'learning_rate': 0.04166478378606693, 'subsample': 0.581995513010193, 'colsample_bytree': 0.34022439966465257, 'min_child_weight': 1}. Best is trial 15 with value: 2.5367407480329787.\n",
      "[I 2025-04-24 00:07:39,583] Trial 38 finished with value: 2.613463151746082 and parameters: {'max_depth': 8, 'learning_rate': 0.04259500180204002, 'subsample': 0.5866196930442182, 'colsample_bytree': 0.9450460068277898, 'min_child_weight': 5}. Best is trial 15 with value: 2.5367407480329787.\n",
      "[I 2025-04-24 00:07:39,994] Trial 39 finished with value: 2.614489845853865 and parameters: {'max_depth': 6, 'learning_rate': 0.018923175248697667, 'subsample': 0.7422456806020138, 'colsample_bytree': 0.6082417489186723, 'min_child_weight': 7}. Best is trial 15 with value: 2.5367407480329787.\n",
      "[I 2025-04-24 00:07:46,252] Trial 41 finished with value: 2.668333517892455 and parameters: {'max_depth': 6, 'learning_rate': 0.056105938439654994, 'subsample': 0.9040566527696267, 'colsample_bytree': 0.2630867813516836, 'min_child_weight': 7}. Best is trial 15 with value: 2.5367407480329787.\n",
      "[I 2025-04-24 00:07:47,595] Trial 40 finished with value: 3.890053495679736 and parameters: {'max_depth': 8, 'learning_rate': 0.002601691889329028, 'subsample': 0.5905647520750607, 'colsample_bytree': 0.28565255887889796, 'min_child_weight': 9}. Best is trial 15 with value: 2.5367407480329787.\n",
      "[I 2025-04-24 00:07:48,001] Trial 42 finished with value: 3.9322776421596 and parameters: {'max_depth': 5, 'learning_rate': 0.002103554699907183, 'subsample': 0.3477038788363993, 'colsample_bytree': 0.937910960663024, 'min_child_weight': 4}. Best is trial 15 with value: 2.5367407480329787.\n",
      "[I 2025-04-24 00:07:52,586] Trial 44 finished with value: 2.996643776151272 and parameters: {'max_depth': 3, 'learning_rate': 0.009146570040314859, 'subsample': 0.6629586070139806, 'colsample_bytree': 0.7221665513841875, 'min_child_weight': 4}. Best is trial 15 with value: 2.5367407480329787.\n",
      "[I 2025-04-24 00:07:54,432] Trial 46 finished with value: 4.1684320487468325 and parameters: {'max_depth': 3, 'learning_rate': 0.0011306188137956985, 'subsample': 0.4957026817343721, 'colsample_bytree': 0.1369619891885907, 'min_child_weight': 8}. Best is trial 15 with value: 2.5367407480329787.\n",
      "[I 2025-04-24 00:07:54,651] Trial 43 finished with value: 2.601107938145671 and parameters: {'max_depth': 8, 'learning_rate': 0.028435026133991244, 'subsample': 0.8732200209929641, 'colsample_bytree': 0.9983074805794184, 'min_child_weight': 7}. Best is trial 15 with value: 2.5367407480329787.\n",
      "[I 2025-04-24 00:07:55,650] Trial 45 finished with value: 2.7093630055321913 and parameters: {'max_depth': 4, 'learning_rate': 0.02046185899777044, 'subsample': 0.2539189966088543, 'colsample_bytree': 0.1658190862068668, 'min_child_weight': 4}. Best is trial 15 with value: 2.5367407480329787.\n",
      "[I 2025-04-24 00:07:56,476] Trial 47 finished with value: 3.7717128365209986 and parameters: {'max_depth': 1, 'learning_rate': 0.004599234106891843, 'subsample': 0.9855769957624155, 'colsample_bytree': 0.1088538055535293, 'min_child_weight': 2}. Best is trial 15 with value: 2.5367407480329787.\n",
      "[I 2025-04-24 00:07:57,712] Trial 49 finished with value: 4.150817568793531 and parameters: {'max_depth': 1, 'learning_rate': 0.0016023072801990253, 'subsample': 0.9489243116580942, 'colsample_bytree': 0.3561745231542859, 'min_child_weight': 3}. Best is trial 15 with value: 2.5367407480329787.\n",
      "[I 2025-04-24 00:08:00,187] Trial 48 finished with value: 4.195611532100084 and parameters: {'max_depth': 7, 'learning_rate': 0.001026046780977729, 'subsample': 0.7164467614551833, 'colsample_bytree': 0.00027086033518186614, 'min_child_weight': 7}. Best is trial 15 with value: 2.5367407480329787.\n"
     ]
    },
    {
     "name": "stdout",
     "output_type": "stream",
     "text": [
      "Best hyperparameters: {'max_depth': 4, 'learning_rate': 0.06916388237937654, 'subsample': 0.38968037525812527, 'colsample_bytree': 0.8072223250551891, 'min_child_weight': 10}\n",
      "Best RMSE: 2.5367407480329787\n"
     ]
    }
   ],
   "source": [
    "best_params_xgboost_only_cod_baymau = optimize_xgboost(\n",
    "    f\"xgboost_study_only_cod_baymau_{str(date.today())}\",\n",
    "    f\"xgboost_study_only_cod_baymau_{str(date.today())}\",\n",
    ")"
   ]
  },
  {
   "cell_type": "code",
   "execution_count": 24,
   "id": "76617e8d",
   "metadata": {},
   "outputs": [],
   "source": [
    "btlvt_df = df[df[\"Location\"] == \"BTLVT.csv\"].reset_index().drop(\"index\", axis = 1)"
   ]
  },
  {
   "cell_type": "code",
   "execution_count": 25,
   "id": "ba4d4171",
   "metadata": {},
   "outputs": [
    {
     "data": {
      "text/plain": [
       "np.float64(2.3756942826068537)"
      ]
     },
     "execution_count": 25,
     "metadata": {},
     "output_type": "execute_result"
    }
   ],
   "source": [
    "features_used = [f\"cod_prev_{i}\" for i in range(4, 9)]\n",
    "X_train_arr, X_test_arr, Y_train_arr, Y_test_arr = create_cv_split(btlvt_df, features_used)\n",
    "\n",
    "# baseline\n",
    "baseline_score = 0\n",
    "for i in range(5):\n",
    "    baseline_score += np.sqrt(np.mean((Y_test_arr[i] - X_test_arr[i][f\"cod_prev_4\"])**2))\n",
    "baseline_score / 5"
   ]
  },
  {
   "cell_type": "code",
   "execution_count": 26,
   "id": "550a82a3",
   "metadata": {},
   "outputs": [
    {
     "name": "stdout",
     "output_type": "stream",
     "text": [
      "Conduct hyperparam opt for XGBoost\n"
     ]
    },
    {
     "name": "stderr",
     "output_type": "stream",
     "text": [
      "[I 2025-04-24 00:08:02,059] A new study created in RDB with name: xgboost_study_only_cod_btlvt_2025-04-24\n",
      "[I 2025-04-24 00:08:07,929] Trial 3 finished with value: 1.852482534023587 and parameters: {'max_depth': 4, 'learning_rate': 0.00592905167573085, 'subsample': 0.829776803366005, 'colsample_bytree': 0.5795259287251285, 'min_child_weight': 9}. Best is trial 3 with value: 1.852482534023587.\n",
      "[I 2025-04-24 00:08:09,584] Trial 2 finished with value: 1.9012281413965 and parameters: {'max_depth': 5, 'learning_rate': 0.0015086311330384542, 'subsample': 0.15732194835487834, 'colsample_bytree': 0.7248578950580455, 'min_child_weight': 4}. Best is trial 3 with value: 1.852482534023587.\n",
      "[I 2025-04-24 00:08:16,861] Trial 5 finished with value: 1.8657700652970206 and parameters: {'max_depth': 4, 'learning_rate': 0.003562928693756486, 'subsample': 0.7606584009424804, 'colsample_bytree': 0.9372667665766923, 'min_child_weight': 8}. Best is trial 3 with value: 1.852482534023587.\n",
      "[I 2025-04-24 00:08:17,137] Trial 1 finished with value: 1.8244929899041005 and parameters: {'max_depth': 10, 'learning_rate': 0.020796245825808506, 'subsample': 0.17647439567670908, 'colsample_bytree': 0.13263332323992816, 'min_child_weight': 8}. Best is trial 1 with value: 1.8244929899041005.\n",
      "[I 2025-04-24 00:08:17,494] Trial 0 finished with value: 1.911062603897858 and parameters: {'max_depth': 10, 'learning_rate': 0.0017999287077214105, 'subsample': 0.9621333441170967, 'colsample_bytree': 0.3789861094736491, 'min_child_weight': 5}. Best is trial 1 with value: 1.8244929899041005.\n",
      "[I 2025-04-24 00:08:22,672] Trial 7 finished with value: 1.8652671626254995 and parameters: {'max_depth': 3, 'learning_rate': 0.007219994250149061, 'subsample': 0.05609749744833503, 'colsample_bytree': 0.18311095348686823, 'min_child_weight': 7}. Best is trial 1 with value: 1.8244929899041005.\n",
      "[I 2025-04-24 00:08:25,274] Trial 6 finished with value: 1.8738771981767524 and parameters: {'max_depth': 5, 'learning_rate': 0.0058338283563366365, 'subsample': 0.9307887033013295, 'colsample_bytree': 0.27394264084873576, 'min_child_weight': 8}. Best is trial 1 with value: 1.8244929899041005.\n",
      "[I 2025-04-24 00:08:25,734] Trial 8 finished with value: 1.8113852502705128 and parameters: {'max_depth': 5, 'learning_rate': 0.04000667665022797, 'subsample': 0.7994197736972326, 'colsample_bytree': 0.3136847459435428, 'min_child_weight': 8}. Best is trial 8 with value: 1.8113852502705128.\n",
      "[I 2025-04-24 00:08:28,612] Trial 4 finished with value: 1.8393649123099238 and parameters: {'max_depth': 10, 'learning_rate': 0.022613924396914006, 'subsample': 0.8588249740972409, 'colsample_bytree': 0.926688281558759, 'min_child_weight': 3}. Best is trial 8 with value: 1.8113852502705128.\n",
      "[I 2025-04-24 00:08:31,654] Trial 11 finished with value: 1.8092428030821897 and parameters: {'max_depth': 3, 'learning_rate': 0.06241570996109115, 'subsample': 0.7857071432089701, 'colsample_bytree': 0.014217217282034178, 'min_child_weight': 7}. Best is trial 11 with value: 1.8092428030821897.\n",
      "[I 2025-04-24 00:08:32,325] Trial 12 finished with value: 1.808493292518527 and parameters: {'max_depth': 1, 'learning_rate': 0.04575005509819121, 'subsample': 0.9585084603263623, 'colsample_bytree': 0.7489236399085537, 'min_child_weight': 8}. Best is trial 12 with value: 1.808493292518527.\n",
      "[I 2025-04-24 00:08:34,806] Trial 9 finished with value: 1.904717189701777 and parameters: {'max_depth': 7, 'learning_rate': 0.0023792593774204507, 'subsample': 0.44303266346875675, 'colsample_bytree': 0.14156666535178342, 'min_child_weight': 3}. Best is trial 12 with value: 1.808493292518527.\n",
      "[I 2025-04-24 00:08:39,398] Trial 13 finished with value: 1.874839474879026 and parameters: {'max_depth': 4, 'learning_rate': 0.005713563061296252, 'subsample': 0.4033793378570969, 'colsample_bytree': 0.1680936609131216, 'min_child_weight': 5}. Best is trial 12 with value: 1.808493292518527.\n",
      "[I 2025-04-24 00:08:39,752] Trial 15 finished with value: 1.8634713150718727 and parameters: {'max_depth': 2, 'learning_rate': 0.007931329627072646, 'subsample': 0.07547909609133317, 'colsample_bytree': 0.17325381819775798, 'min_child_weight': 10}. Best is trial 12 with value: 1.808493292518527.\n",
      "[I 2025-04-24 00:08:44,502] Trial 17 finished with value: 1.802203177165166 and parameters: {'max_depth': 2, 'learning_rate': 0.03873415390648434, 'subsample': 0.984743826401194, 'colsample_bytree': 0.4704691594653049, 'min_child_weight': 6}. Best is trial 17 with value: 1.802203177165166.\n",
      "[I 2025-04-24 00:08:46,797] Trial 10 finished with value: 1.8671449338200077 and parameters: {'max_depth': 10, 'learning_rate': 0.0036118557951165227, 'subsample': 0.7625493016673969, 'colsample_bytree': 0.7987186269088511, 'min_child_weight': 5}. Best is trial 17 with value: 1.802203177165166.\n",
      "[I 2025-04-24 00:08:48,612] Trial 16 finished with value: 1.8044550167160562 and parameters: {'max_depth': 5, 'learning_rate': 0.027692872181117295, 'subsample': 0.6862929129100072, 'colsample_bytree': 0.8240899915308123, 'min_child_weight': 5}. Best is trial 17 with value: 1.802203177165166.\n",
      "[I 2025-04-24 00:08:51,958] Trial 18 finished with value: 1.8134395115952562 and parameters: {'max_depth': 4, 'learning_rate': 0.07692350898749603, 'subsample': 0.8389813554189726, 'colsample_bytree': 0.8290053509911958, 'min_child_weight': 3}. Best is trial 17 with value: 1.802203177165166.\n",
      "[I 2025-04-24 00:08:53,720] Trial 20 finished with value: 1.911740981425289 and parameters: {'max_depth': 2, 'learning_rate': 0.0018650403817677456, 'subsample': 0.525301214514656, 'colsample_bytree': 0.13286557715767933, 'min_child_weight': 4}. Best is trial 17 with value: 1.802203177165166.\n",
      "[I 2025-04-24 00:08:54,377] Trial 14 finished with value: 1.8568572318060839 and parameters: {'max_depth': 10, 'learning_rate': 0.0045142267887160765, 'subsample': 0.5266140087726165, 'colsample_bytree': 0.6040864228726567, 'min_child_weight': 2}. Best is trial 17 with value: 1.802203177165166.\n",
      "[I 2025-04-24 00:08:54,606] Trial 19 finished with value: 1.8375380167117368 and parameters: {'max_depth': 4, 'learning_rate': 0.007953227888802082, 'subsample': 0.8452633643357337, 'colsample_bytree': 0.40597755528394563, 'min_child_weight': 2}. Best is trial 17 with value: 1.802203177165166.\n",
      "[I 2025-04-24 00:08:57,770] Trial 23 finished with value: 1.9180455859097436 and parameters: {'max_depth': 1, 'learning_rate': 0.0014522826342479875, 'subsample': 0.16037186796968203, 'colsample_bytree': 0.5601555788160925, 'min_child_weight': 2}. Best is trial 17 with value: 1.802203177165166.\n",
      "[I 2025-04-24 00:08:59,087] Trial 24 finished with value: 1.808048035455355 and parameters: {'max_depth': 2, 'learning_rate': 0.08240461836206862, 'subsample': 0.7805666798144909, 'colsample_bytree': 0.08008321005768093, 'min_child_weight': 6}. Best is trial 17 with value: 1.802203177165166.\n",
      "[I 2025-04-24 00:09:02,657] Trial 26 finished with value: 1.8937826807322211 and parameters: {'max_depth': 1, 'learning_rate': 0.004964033032452664, 'subsample': 0.9746339602588708, 'colsample_bytree': 0.39902827659700757, 'min_child_weight': 7}. Best is trial 17 with value: 1.802203177165166.\n",
      "[I 2025-04-24 00:09:06,339] Trial 21 finished with value: 1.8098901327390056 and parameters: {'max_depth': 8, 'learning_rate': 0.01817653995112055, 'subsample': 0.6508605928642621, 'colsample_bytree': 0.4376543709660935, 'min_child_weight': 5}. Best is trial 17 with value: 1.802203177165166.\n",
      "[I 2025-04-24 00:09:07,774] Trial 25 finished with value: 1.8257954139185597 and parameters: {'max_depth': 6, 'learning_rate': 0.009677254949761165, 'subsample': 0.6001016004412368, 'colsample_bytree': 0.5327391466863356, 'min_child_weight': 7}. Best is trial 17 with value: 1.802203177165166.\n",
      "[I 2025-04-24 00:09:08,070] Trial 22 finished with value: 1.8172140069124851 and parameters: {'max_depth': 8, 'learning_rate': 0.023780732972005725, 'subsample': 0.400421128423087, 'colsample_bytree': 0.9344873727610761, 'min_child_weight': 8}. Best is trial 17 with value: 1.802203177165166.\n",
      "[I 2025-04-24 00:09:12,322] Trial 30 finished with value: 1.8988238188758388 and parameters: {'max_depth': 2, 'learning_rate': 0.002355866607120441, 'subsample': 0.8791135031369227, 'colsample_bytree': 0.4996666833695378, 'min_child_weight': 10}. Best is trial 17 with value: 1.802203177165166.\n",
      "[I 2025-04-24 00:09:14,916] Trial 28 finished with value: 1.8416628648164077 and parameters: {'max_depth': 5, 'learning_rate': 0.007109348767311673, 'subsample': 0.7121466712412907, 'colsample_bytree': 0.5685909489102188, 'min_child_weight': 9}. Best is trial 17 with value: 1.802203177165166.\n",
      "[I 2025-04-24 00:09:17,156] Trial 31 finished with value: 1.89715930053396 and parameters: {'max_depth': 2, 'learning_rate': 0.0033245025341479073, 'subsample': 0.47650045834105964, 'colsample_bytree': 0.19471466901881485, 'min_child_weight': 6}. Best is trial 17 with value: 1.802203177165166.\n",
      "[I 2025-04-24 00:09:19,595] Trial 32 finished with value: 1.8293318084384744 and parameters: {'max_depth': 2, 'learning_rate': 0.017622570640592288, 'subsample': 0.7126987061919499, 'colsample_bytree': 0.33533138977044374, 'min_child_weight': 1}. Best is trial 17 with value: 1.802203177165166.\n",
      "[I 2025-04-24 00:09:22,457] Trial 27 finished with value: 1.8698900913660175 and parameters: {'max_depth': 10, 'learning_rate': 0.04631151547438986, 'subsample': 0.3375642889089175, 'colsample_bytree': 0.8583175563384097, 'min_child_weight': 1}. Best is trial 17 with value: 1.802203177165166.\n",
      "[I 2025-04-24 00:09:23,776] Trial 29 finished with value: 1.9182635467727647 and parameters: {'max_depth': 10, 'learning_rate': 0.0011922979354094113, 'subsample': 0.8274014050525842, 'colsample_bytree': 0.24387028438953684, 'min_child_weight': 8}. Best is trial 17 with value: 1.802203177165166.\n",
      "[I 2025-04-24 00:09:28,424] Trial 34 finished with value: 1.9042436706959591 and parameters: {'max_depth': 6, 'learning_rate': 0.002416183386444928, 'subsample': 0.7818060044567169, 'colsample_bytree': 0.29494325270625266, 'min_child_weight': 1}. Best is trial 17 with value: 1.802203177165166.\n",
      "[I 2025-04-24 00:09:28,859] Trial 35 finished with value: 1.902766073244215 and parameters: {'max_depth': 4, 'learning_rate': 0.0025595793513004577, 'subsample': 0.419377903234205, 'colsample_bytree': 0.06919814619552678, 'min_child_weight': 4}. Best is trial 17 with value: 1.802203177165166.\n",
      "[I 2025-04-24 00:09:31,755] Trial 37 finished with value: 1.9084014373715745 and parameters: {'max_depth': 1, 'learning_rate': 0.0022527346454749605, 'subsample': 0.7666579450944987, 'colsample_bytree': 0.9391649290661304, 'min_child_weight': 4}. Best is trial 17 with value: 1.802203177165166.\n",
      "[I 2025-04-24 00:09:31,945] Trial 33 finished with value: 1.8222709343493464 and parameters: {'max_depth': 10, 'learning_rate': 0.09945496949987011, 'subsample': 0.5459606833118239, 'colsample_bytree': 0.39945085855882145, 'min_child_weight': 4}. Best is trial 17 with value: 1.802203177165166.\n",
      "[I 2025-04-24 00:09:38,205] Trial 40 finished with value: 1.8046592177739385 and parameters: {'max_depth': 4, 'learning_rate': 0.05078617325918354, 'subsample': 0.5102349458984385, 'colsample_bytree': 0.9812549234137423, 'min_child_weight': 8}. Best is trial 17 with value: 1.802203177165166.\n",
      "[I 2025-04-24 00:09:38,636] Trial 36 finished with value: 1.8190079425364183 and parameters: {'max_depth': 9, 'learning_rate': 0.033535921099711055, 'subsample': 0.7515752226937824, 'colsample_bytree': 0.4578206490766066, 'min_child_weight': 8}. Best is trial 17 with value: 1.802203177165166.\n",
      "[I 2025-04-24 00:09:42,046] Trial 42 finished with value: 1.8572412178325997 and parameters: {'max_depth': 1, 'learning_rate': 0.010292166538807606, 'subsample': 0.8098240755692347, 'colsample_bytree': 0.7827655162703177, 'min_child_weight': 8}. Best is trial 17 with value: 1.802203177165166.\n",
      "[I 2025-04-24 00:09:43,597] Trial 39 finished with value: 1.8173584507625116 and parameters: {'max_depth': 8, 'learning_rate': 0.09997635410810571, 'subsample': 0.9394804489415637, 'colsample_bytree': 0.3815558508850796, 'min_child_weight': 2}. Best is trial 17 with value: 1.802203177165166.\n",
      "[I 2025-04-24 00:09:44,051] Trial 38 finished with value: 1.8743345651512393 and parameters: {'max_depth': 10, 'learning_rate': 0.005852420833234508, 'subsample': 0.285945459665771, 'colsample_bytree': 0.22183175461091376, 'min_child_weight': 7}. Best is trial 17 with value: 1.802203177165166.\n",
      "[I 2025-04-24 00:09:44,197] Trial 41 finished with value: 1.820908517346286 and parameters: {'max_depth': 3, 'learning_rate': 0.010493132391681982, 'subsample': 0.8319139750860921, 'colsample_bytree': 0.6603328343797781, 'min_child_weight': 5}. Best is trial 17 with value: 1.802203177165166.\n",
      "[I 2025-04-24 00:09:49,421] Trial 43 finished with value: 1.8121466244172115 and parameters: {'max_depth': 5, 'learning_rate': 0.03941473362582489, 'subsample': 0.3473706280018102, 'colsample_bytree': 0.12851568713820327, 'min_child_weight': 9}. Best is trial 17 with value: 1.802203177165166.\n",
      "[I 2025-04-24 00:09:49,784] Trial 44 finished with value: 1.8397095992248342 and parameters: {'max_depth': 4, 'learning_rate': 0.012484533789196499, 'subsample': 0.594909937565669, 'colsample_bytree': 0.21686658612417287, 'min_child_weight': 6}. Best is trial 17 with value: 1.802203177165166.\n",
      "[I 2025-04-24 00:09:52,638] Trial 45 finished with value: 1.83114511508747 and parameters: {'max_depth': 6, 'learning_rate': 0.01554019544567621, 'subsample': 0.5889591378639204, 'colsample_bytree': 0.12584369843817644, 'min_child_weight': 10}. Best is trial 17 with value: 1.802203177165166.\n",
      "[I 2025-04-24 00:09:55,022] Trial 48 finished with value: 1.8873197577509242 and parameters: {'max_depth': 3, 'learning_rate': 0.004218501463174756, 'subsample': 0.05706960998116736, 'colsample_bytree': 0.09185805655115808, 'min_child_weight': 5}. Best is trial 17 with value: 1.802203177165166.\n",
      "[I 2025-04-24 00:09:56,667] Trial 46 finished with value: 1.9127683355257297 and parameters: {'max_depth': 9, 'learning_rate': 0.0016746388797298875, 'subsample': 0.21024967525848498, 'colsample_bytree': 0.07655829013900028, 'min_child_weight': 1}. Best is trial 17 with value: 1.802203177165166.\n",
      "[I 2025-04-24 00:09:58,902] Trial 47 finished with value: 1.89706248867988 and parameters: {'max_depth': 7, 'learning_rate': 0.0015340761632389693, 'subsample': 0.8879742040151758, 'colsample_bytree': 0.811597208801091, 'min_child_weight': 6}. Best is trial 17 with value: 1.802203177165166.\n",
      "[I 2025-04-24 00:10:01,937] Trial 49 finished with value: 1.8692548985375652 and parameters: {'max_depth': 9, 'learning_rate': 0.05650930239067357, 'subsample': 0.5534938320455742, 'colsample_bytree': 0.8723782552045037, 'min_child_weight': 1}. Best is trial 17 with value: 1.802203177165166.\n"
     ]
    },
    {
     "name": "stdout",
     "output_type": "stream",
     "text": [
      "Best hyperparameters: {'max_depth': 2, 'learning_rate': 0.03873415390648434, 'subsample': 0.984743826401194, 'colsample_bytree': 0.4704691594653049, 'min_child_weight': 6}\n",
      "Best RMSE: 1.802203177165166\n"
     ]
    }
   ],
   "source": [
    "best_params_xgboost_only_cod_btlvt = optimize_xgboost(\n",
    "    f\"xgboost_study_only_cod_btlvt_{str(date.today())}\",\n",
    "    f\"xgboost_study_only_cod_btlvt_{str(date.today())}\",\n",
    ")"
   ]
  },
  {
   "cell_type": "code",
   "execution_count": 27,
   "id": "844af8a2",
   "metadata": {},
   "outputs": [],
   "source": [
    "caunga_df = df[df[\"Location\"] == \"CAU NGA.csv\"].reset_index().drop(\"index\", axis = 1)"
   ]
  },
  {
   "cell_type": "code",
   "execution_count": 28,
   "id": "b168fb02",
   "metadata": {},
   "outputs": [
    {
     "data": {
      "text/plain": [
       "np.float64(3.4733060948212384)"
      ]
     },
     "execution_count": 28,
     "metadata": {},
     "output_type": "execute_result"
    }
   ],
   "source": [
    "features_used = [f\"cod_prev_{i}\" for i in range(4, 9)]\n",
    "X_train_arr, X_test_arr, Y_train_arr, Y_test_arr = create_cv_split(caunga_df, features_used)\n",
    "\n",
    "# baseline\n",
    "baseline_score = 0\n",
    "for i in range(5):\n",
    "    baseline_score += np.sqrt(np.mean((Y_test_arr[i] - X_test_arr[i][f\"cod_prev_4\"])**2))\n",
    "baseline_score / 5"
   ]
  },
  {
   "cell_type": "code",
   "execution_count": 29,
   "id": "42a3f779",
   "metadata": {},
   "outputs": [
    {
     "name": "stdout",
     "output_type": "stream",
     "text": [
      "Conduct hyperparam opt for XGBoost\n"
     ]
    },
    {
     "name": "stderr",
     "output_type": "stream",
     "text": [
      "[I 2025-04-24 00:10:03,753] A new study created in RDB with name: xgboost_study_only_cod_caunga_2025-04-24\n",
      "[I 2025-04-24 00:10:06,873] Trial 2 finished with value: 3.8128656857411003 and parameters: {'max_depth': 1, 'learning_rate': 0.07369375931334861, 'subsample': 0.234304999183157, 'colsample_bytree': 0.3626635681960755, 'min_child_weight': 6}. Best is trial 2 with value: 3.8128656857411003.\n",
      "[I 2025-04-24 00:10:11,704] Trial 1 finished with value: 3.4717979073954885 and parameters: {'max_depth': 5, 'learning_rate': 0.0244454389558755, 'subsample': 0.613274555264901, 'colsample_bytree': 0.5039247118954308, 'min_child_weight': 2}. Best is trial 1 with value: 3.4717979073954885.\n",
      "[I 2025-04-24 00:10:12,001] Trial 4 finished with value: 3.687768439405359 and parameters: {'max_depth': 3, 'learning_rate': 0.052197416676250684, 'subsample': 0.4277505699909304, 'colsample_bytree': 0.12775850795279653, 'min_child_weight': 3}. Best is trial 1 with value: 3.4717979073954885.\n",
      "[I 2025-04-24 00:10:12,823] Trial 3 finished with value: 4.7281459176358345 and parameters: {'max_depth': 6, 'learning_rate': 0.00861290065647403, 'subsample': 0.41139332623003966, 'colsample_bytree': 0.2045277938617197, 'min_child_weight': 2}. Best is trial 1 with value: 3.4717979073954885.\n",
      "[I 2025-04-24 00:10:15,954] Trial 7 finished with value: 5.604820588035366 and parameters: {'max_depth': 1, 'learning_rate': 0.009194736647292595, 'subsample': 0.26789417439484775, 'colsample_bytree': 0.7701629230476106, 'min_child_weight': 7}. Best is trial 1 with value: 3.4717979073954885.\n",
      "[I 2025-04-24 00:10:16,659] Trial 0 finished with value: 3.4728146381273057 and parameters: {'max_depth': 8, 'learning_rate': 0.023123679296193744, 'subsample': 0.302332890045904, 'colsample_bytree': 0.7169331175381719, 'min_child_weight': 2}. Best is trial 1 with value: 3.4717979073954885.\n",
      "[I 2025-04-24 00:10:19,418] Trial 5 finished with value: 3.380735169769376 and parameters: {'max_depth': 5, 'learning_rate': 0.04468277328656316, 'subsample': 0.7309124336933613, 'colsample_bytree': 0.6625120494601392, 'min_child_weight': 2}. Best is trial 5 with value: 3.380735169769376.\n",
      "[I 2025-04-24 00:10:21,019] Trial 8 finished with value: 5.266006021826668 and parameters: {'max_depth': 3, 'learning_rate': 0.006485132435544141, 'subsample': 0.13271289866323424, 'colsample_bytree': 0.19884439815555843, 'min_child_weight': 4}. Best is trial 5 with value: 3.380735169769376.\n",
      "[I 2025-04-24 00:10:25,240] Trial 6 finished with value: 5.559017511652132 and parameters: {'max_depth': 9, 'learning_rate': 0.004539555883778015, 'subsample': 0.0777754844618868, 'colsample_bytree': 0.6885150304889931, 'min_child_weight': 1}. Best is trial 5 with value: 3.380735169769376.\n",
      "[I 2025-04-24 00:10:29,667] Trial 9 finished with value: 5.38461437602214 and parameters: {'max_depth': 10, 'learning_rate': 0.005573091049940164, 'subsample': 0.7169985537290053, 'colsample_bytree': 0.1394372128397393, 'min_child_weight': 3}. Best is trial 5 with value: 3.380735169769376.\n",
      "[I 2025-04-24 00:10:31,097] Trial 10 finished with value: 3.9745934030460845 and parameters: {'max_depth': 8, 'learning_rate': 0.0128079767272078, 'subsample': 0.8839094070966386, 'colsample_bytree': 0.4902698341842262, 'min_child_weight': 4}. Best is trial 5 with value: 3.380735169769376.\n",
      "[I 2025-04-24 00:10:31,749] Trial 12 finished with value: 6.472949537573669 and parameters: {'max_depth': 4, 'learning_rate': 0.002164835694363906, 'subsample': 0.13313240365271706, 'colsample_bytree': 0.7934508210677779, 'min_child_weight': 9}. Best is trial 5 with value: 3.380735169769376.\n",
      "[I 2025-04-24 00:10:34,478] Trial 14 finished with value: 7.0104570326833215 and parameters: {'max_depth': 1, 'learning_rate': 0.0016586651731758234, 'subsample': 0.5641359321017101, 'colsample_bytree': 0.8989540705485609, 'min_child_weight': 8}. Best is trial 5 with value: 3.380735169769376.\n",
      "[I 2025-04-24 00:10:36,393] Trial 13 finished with value: 5.947669136366291 and parameters: {'max_depth': 4, 'learning_rate': 0.0038219753431852775, 'subsample': 0.2916617895288551, 'colsample_bytree': 0.05025832725199797, 'min_child_weight': 10}. Best is trial 5 with value: 3.380735169769376.\n",
      "[I 2025-04-24 00:10:36,570] Trial 11 finished with value: 5.206137050149768 and parameters: {'max_depth': 10, 'learning_rate': 0.0055751526730540325, 'subsample': 0.11275773035729435, 'colsample_bytree': 0.9821893021751555, 'min_child_weight': 4}. Best is trial 5 with value: 3.380735169769376.\n",
      "[I 2025-04-24 00:10:40,620] Trial 18 finished with value: 6.371403747555391 and parameters: {'max_depth': 2, 'learning_rate': 0.002765950851578209, 'subsample': 0.4267313667671939, 'colsample_bytree': 0.6424140992338885, 'min_child_weight': 2}. Best is trial 5 with value: 3.380735169769376.\n",
      "[I 2025-04-24 00:10:40,890] Trial 15 finished with value: 3.9712608829923837 and parameters: {'max_depth': 6, 'learning_rate': 0.016233505934466923, 'subsample': 0.3467461385248317, 'colsample_bytree': 0.2456327621897918, 'min_child_weight': 2}. Best is trial 5 with value: 3.380735169769376.\n",
      "[I 2025-04-24 00:10:41,959] Trial 16 finished with value: 4.370499685643322 and parameters: {'max_depth': 5, 'learning_rate': 0.011176597334344526, 'subsample': 0.6749246395152312, 'colsample_bytree': 0.07324458804449996, 'min_child_weight': 2}. Best is trial 5 with value: 3.380735169769376.\n",
      "[I 2025-04-24 00:10:45,103] Trial 21 finished with value: 3.59749903721618 and parameters: {'max_depth': 1, 'learning_rate': 0.048380743263695576, 'subsample': 0.09477864984333446, 'colsample_bytree': 0.6683977124464419, 'min_child_weight': 4}. Best is trial 5 with value: 3.380735169769376.\n",
      "[I 2025-04-24 00:10:47,084] Trial 17 finished with value: 6.960315351555674 and parameters: {'max_depth': 7, 'learning_rate': 0.001114816898538091, 'subsample': 0.06601788716889119, 'colsample_bytree': 0.8180000724731225, 'min_child_weight': 7}. Best is trial 5 with value: 3.380735169769376.\n",
      "[I 2025-04-24 00:10:47,400] Trial 20 finished with value: 4.074331015224661 and parameters: {'max_depth': 4, 'learning_rate': 0.014942803626210914, 'subsample': 0.948668440983572, 'colsample_bytree': 0.30622642274350564, 'min_child_weight': 8}. Best is trial 5 with value: 3.380735169769376.\n",
      "[I 2025-04-24 00:10:51,113] Trial 19 finished with value: 6.44433577117542 and parameters: {'max_depth': 7, 'learning_rate': 0.002181586283593705, 'subsample': 0.6369013816541491, 'colsample_bytree': 0.7725670678775177, 'min_child_weight': 6}. Best is trial 5 with value: 3.380735169769376.\n",
      "[I 2025-04-24 00:10:53,711] Trial 22 finished with value: 3.4096273966530104 and parameters: {'max_depth': 6, 'learning_rate': 0.04125892199713477, 'subsample': 0.7643834879212991, 'colsample_bytree': 0.6442860493355429, 'min_child_weight': 3}. Best is trial 5 with value: 3.380735169769376.\n",
      "[I 2025-04-24 00:10:55,200] Trial 25 finished with value: 6.465353339393928 and parameters: {'max_depth': 2, 'learning_rate': 0.002751976008468085, 'subsample': 0.31684440163798394, 'colsample_bytree': 0.18561050591437256, 'min_child_weight': 2}. Best is trial 5 with value: 3.380735169769376.\n",
      "[I 2025-04-24 00:10:56,980] Trial 23 finished with value: 5.300720243182738 and parameters: {'max_depth': 7, 'learning_rate': 0.005325662817755424, 'subsample': 0.08911843304043834, 'colsample_bytree': 0.775203318705127, 'min_child_weight': 1}. Best is trial 5 with value: 3.380735169769376.\n",
      "[I 2025-04-24 00:10:57,823] Trial 24 finished with value: 3.808859314382824 and parameters: {'max_depth': 8, 'learning_rate': 0.021709678063246227, 'subsample': 0.0775711682358325, 'colsample_bytree': 0.2566324118730803, 'min_child_weight': 9}. Best is trial 5 with value: 3.380735169769376.\n",
      "[I 2025-04-24 00:11:01,852] Trial 28 finished with value: 6.879451330152902 and parameters: {'max_depth': 3, 'learning_rate': 0.001472943716250458, 'subsample': 0.9955629270992831, 'colsample_bytree': 0.3005039916211678, 'min_child_weight': 6}. Best is trial 5 with value: 3.380735169769376.\n",
      "[I 2025-04-24 00:11:03,493] Trial 26 finished with value: 3.7470938675801597 and parameters: {'max_depth': 7, 'learning_rate': 0.026041100235879536, 'subsample': 0.9665395058754463, 'colsample_bytree': 0.31386335610572114, 'min_child_weight': 2}. Best is trial 5 with value: 3.380735169769376.\n",
      "[I 2025-04-24 00:11:06,514] Trial 29 finished with value: 3.4353097210757015 and parameters: {'max_depth': 6, 'learning_rate': 0.09381055659222745, 'subsample': 0.8370613709687854, 'colsample_bytree': 0.6683142545529701, 'min_child_weight': 9}. Best is trial 5 with value: 3.380735169769376.\n",
      "[I 2025-04-24 00:11:07,351] Trial 30 finished with value: 6.955046449317569 and parameters: {'max_depth': 3, 'learning_rate': 0.001303805455951211, 'subsample': 0.6903312328218647, 'colsample_bytree': 0.05668555764284011, 'min_child_weight': 2}. Best is trial 5 with value: 3.380735169769376.\n",
      "[I 2025-04-24 00:11:07,934] Trial 31 finished with value: 3.39097678736603 and parameters: {'max_depth': 2, 'learning_rate': 0.041838279028102374, 'subsample': 0.954143073860623, 'colsample_bytree': 0.9002587678492955, 'min_child_weight': 1}. Best is trial 5 with value: 3.380735169769376.\n",
      "[I 2025-04-24 00:11:11,137] Trial 27 finished with value: 3.4866950787962168 and parameters: {'max_depth': 10, 'learning_rate': 0.03392301008839653, 'subsample': 0.15751467636622052, 'colsample_bytree': 0.6050430685058384, 'min_child_weight': 1}. Best is trial 5 with value: 3.380735169769376.\n",
      "[I 2025-04-24 00:11:15,013] Trial 34 finished with value: 3.3838290826101973 and parameters: {'max_depth': 5, 'learning_rate': 0.029836497912934003, 'subsample': 0.45419744584288607, 'colsample_bytree': 0.9688116021871626, 'min_child_weight': 7}. Best is trial 5 with value: 3.380735169769376.\n",
      "[I 2025-04-24 00:11:18,158] Trial 36 finished with value: 3.426119621723015 and parameters: {'max_depth': 1, 'learning_rate': 0.09407006596005117, 'subsample': 0.7314916954650652, 'colsample_bytree': 0.7869399013431109, 'min_child_weight': 5}. Best is trial 5 with value: 3.380735169769376.\n",
      "[I 2025-04-24 00:11:19,102] Trial 33 finished with value: 6.487258764230508 and parameters: {'max_depth': 8, 'learning_rate': 0.0021317587559166557, 'subsample': 0.9944694628150736, 'colsample_bytree': 0.5916509048870678, 'min_child_weight': 4}. Best is trial 5 with value: 3.380735169769376.\n",
      "[I 2025-04-24 00:11:19,570] Trial 32 finished with value: 3.716034399125635 and parameters: {'max_depth': 10, 'learning_rate': 0.08173601622730707, 'subsample': 0.5642444103392642, 'colsample_bytree': 0.00995763905448932, 'min_child_weight': 4}. Best is trial 5 with value: 3.380735169769376.\n",
      "[I 2025-04-24 00:11:23,338] Trial 35 finished with value: 3.5383344774726666 and parameters: {'max_depth': 9, 'learning_rate': 0.07693957570017194, 'subsample': 0.1254999143790117, 'colsample_bytree': 0.49908564172436454, 'min_child_weight': 1}. Best is trial 5 with value: 3.380735169769376.\n",
      "[I 2025-04-24 00:11:24,879] Trial 38 finished with value: 5.0476488450963926 and parameters: {'max_depth': 4, 'learning_rate': 0.0071770906730882125, 'subsample': 0.2514412618972549, 'colsample_bytree': 0.2699931254649406, 'min_child_weight': 3}. Best is trial 5 with value: 3.380735169769376.\n",
      "[I 2025-04-24 00:11:27,506] Trial 39 finished with value: 6.508316401799476 and parameters: {'max_depth': 6, 'learning_rate': 0.0022331002562077074, 'subsample': 0.14123584332185984, 'colsample_bytree': 0.06133842828845215, 'min_child_weight': 10}. Best is trial 5 with value: 3.380735169769376.\n",
      "[I 2025-04-24 00:11:29,903] Trial 40 finished with value: 5.2951774111850325 and parameters: {'max_depth': 4, 'learning_rate': 0.005353589534309643, 'subsample': 0.8711278282306698, 'colsample_bytree': 0.6708203402247225, 'min_child_weight': 10}. Best is trial 5 with value: 3.380735169769376.\n",
      "[I 2025-04-24 00:11:30,941] Trial 42 finished with value: 3.7614158213521356 and parameters: {'max_depth': 1, 'learning_rate': 0.043286491124161275, 'subsample': 0.44377032882038664, 'colsample_bytree': 0.5029014408210936, 'min_child_weight': 6}. Best is trial 5 with value: 3.380735169769376.\n",
      "[I 2025-04-24 00:11:33,390] Trial 37 finished with value: 4.630702901540087 and parameters: {'max_depth': 10, 'learning_rate': 0.008293347968456545, 'subsample': 0.3263674080445485, 'colsample_bytree': 0.5112530861372998, 'min_child_weight': 10}. Best is trial 5 with value: 3.380735169769376.\n",
      "[I 2025-04-24 00:11:34,382] Trial 43 finished with value: 3.5069366725450224 and parameters: {'max_depth': 2, 'learning_rate': 0.026571266414080582, 'subsample': 0.6403879696229536, 'colsample_bytree': 0.8915007417527906, 'min_child_weight': 6}. Best is trial 5 with value: 3.380735169769376.\n",
      "[I 2025-04-24 00:11:34,816] Trial 41 finished with value: 5.669783892391907 and parameters: {'max_depth': 6, 'learning_rate': 0.004052788338880714, 'subsample': 0.9115049317530757, 'colsample_bytree': 0.8669312703089966, 'min_child_weight': 4}. Best is trial 5 with value: 3.380735169769376.\n",
      "[I 2025-04-24 00:11:38,888] Trial 46 finished with value: 3.3749010776733868 and parameters: {'max_depth': 2, 'learning_rate': 0.05342931709957374, 'subsample': 0.5302279061353488, 'colsample_bytree': 0.8877678962147231, 'min_child_weight': 9}. Best is trial 46 with value: 3.3749010776733868.\n",
      "[I 2025-04-24 00:11:39,370] Trial 47 finished with value: 7.020472421439685 and parameters: {'max_depth': 2, 'learning_rate': 0.0011921333156896046, 'subsample': 0.6284672348573858, 'colsample_bytree': 0.4480829633154201, 'min_child_weight': 4}. Best is trial 46 with value: 3.3749010776733868.\n",
      "[I 2025-04-24 00:11:40,611] Trial 45 finished with value: 5.37125604647138 and parameters: {'max_depth': 4, 'learning_rate': 0.0057922000941903005, 'subsample': 0.4803601242517651, 'colsample_bytree': 0.06983051210582414, 'min_child_weight': 8}. Best is trial 46 with value: 3.3749010776733868.\n",
      "[I 2025-04-24 00:11:42,062] Trial 48 finished with value: 6.767024500457792 and parameters: {'max_depth': 1, 'learning_rate': 0.0025693127470830966, 'subsample': 0.7430144609535817, 'colsample_bytree': 0.8686163484357265, 'min_child_weight': 8}. Best is trial 46 with value: 3.3749010776733868.\n",
      "[I 2025-04-24 00:11:44,346] Trial 44 finished with value: 5.375975956049514 and parameters: {'max_depth': 9, 'learning_rate': 0.004946615709099985, 'subsample': 0.43051454131427214, 'colsample_bytree': 0.9353915764012899, 'min_child_weight': 9}. Best is trial 46 with value: 3.3749010776733868.\n",
      "[I 2025-04-24 00:11:45,508] Trial 49 finished with value: 6.865589497936442 and parameters: {'max_depth': 7, 'learning_rate': 0.001302286605639944, 'subsample': 0.8619365653626234, 'colsample_bytree': 0.6140061951911174, 'min_child_weight': 3}. Best is trial 46 with value: 3.3749010776733868.\n"
     ]
    },
    {
     "name": "stdout",
     "output_type": "stream",
     "text": [
      "Best hyperparameters: {'max_depth': 2, 'learning_rate': 0.05342931709957374, 'subsample': 0.5302279061353488, 'colsample_bytree': 0.8877678962147231, 'min_child_weight': 9}\n",
      "Best RMSE: 3.3749010776733868\n"
     ]
    }
   ],
   "source": [
    "best_params_xgboost_only_cod_caunga = optimize_xgboost(\n",
    "    f\"xgboost_study_only_cod_caunga_{str(date.today())}\",\n",
    "    f\"xgboost_study_only_cod_caunga_{str(date.today())}\",\n",
    ")"
   ]
  },
  {
   "cell_type": "markdown",
   "id": "c367db9b",
   "metadata": {},
   "source": [
    "Try to combine 4 hour features + pastcods"
   ]
  },
  {
   "cell_type": "code",
   "execution_count": 30,
   "id": "eadf2d68",
   "metadata": {},
   "outputs": [],
   "source": [
    "features_used = [f\"cod_prev_{i}\" for i in range(4, 9)] + [\"tss_prev_4\", \"temp_prev_4\", \"ph_prev_4\"]\n",
    "X_train_arr, X_test_arr, Y_train_arr, Y_test_arr = create_cv_split(df, features_used)"
   ]
  },
  {
   "cell_type": "code",
   "execution_count": 31,
   "id": "46364af1",
   "metadata": {},
   "outputs": [
    {
     "name": "stdout",
     "output_type": "stream",
     "text": [
      "Conduct hyperparam opt for XGBoost\n"
     ]
    },
    {
     "name": "stderr",
     "output_type": "stream",
     "text": [
      "[I 2025-04-24 00:29:23,746] A new study created in RDB with name: xgboost_study_only_cod_and_4h_2025-04-24\n",
      "[I 2025-04-24 00:29:49,530] Trial 0 finished with value: 3.212559309586676 and parameters: {'max_depth': 3, 'learning_rate': 0.09947730437578066, 'subsample': 0.6219620362216319, 'colsample_bytree': 0.037627881734031865, 'min_child_weight': 1}. Best is trial 0 with value: 3.212559309586676.\n",
      "[I 2025-04-24 00:29:56,557] Trial 2 finished with value: 5.8461335219769115 and parameters: {'max_depth': 4, 'learning_rate': 0.0013043325862234089, 'subsample': 0.2552504519794591, 'colsample_bytree': 0.334954140726881, 'min_child_weight': 4}. Best is trial 0 with value: 3.212559309586676.\n",
      "[I 2025-04-24 00:30:03,295] Trial 1 finished with value: 3.393527314728393 and parameters: {'max_depth': 5, 'learning_rate': 0.013935972746705669, 'subsample': 0.7826469542705068, 'colsample_bytree': 0.80633075259131, 'min_child_weight': 5}. Best is trial 0 with value: 3.212559309586676.\n",
      "[I 2025-04-24 00:30:16,370] Trial 3 finished with value: 3.127044190215603 and parameters: {'max_depth': 7, 'learning_rate': 0.02355416998041185, 'subsample': 0.8875712967001628, 'colsample_bytree': 0.4940821704734688, 'min_child_weight': 3}. Best is trial 3 with value: 3.127044190215603.\n",
      "[I 2025-04-24 00:30:22,992] Trial 5 finished with value: 3.2593830024898303 and parameters: {'max_depth': 3, 'learning_rate': 0.018264917396146173, 'subsample': 0.38720861950579855, 'colsample_bytree': 0.3018810389135934, 'min_child_weight': 7}. Best is trial 3 with value: 3.127044190215603.\n",
      "[I 2025-04-24 00:30:40,631] Trial 6 finished with value: 5.934746264315 and parameters: {'max_depth': 5, 'learning_rate': 0.0013564399369671632, 'subsample': 0.3001638687393796, 'colsample_bytree': 0.15677419662696235, 'min_child_weight': 3}. Best is trial 3 with value: 3.127044190215603.\n",
      "[I 2025-04-24 00:30:42,115] Trial 4 finished with value: 3.551957561578179 and parameters: {'max_depth': 7, 'learning_rate': 0.011718404195892304, 'subsample': 0.26022085095530084, 'colsample_bytree': 0.554861659599714, 'min_child_weight': 4}. Best is trial 3 with value: 3.127044190215603.\n",
      "[I 2025-04-24 00:31:00,888] Trial 8 finished with value: 4.926307799757394 and parameters: {'max_depth': 5, 'learning_rate': 0.00373965077863476, 'subsample': 0.270970383006866, 'colsample_bytree': 0.5334788654846718, 'min_child_weight': 8}. Best is trial 3 with value: 3.127044190215603.\n",
      "[I 2025-04-24 00:31:08,772] Trial 10 finished with value: 4.701521735574444 and parameters: {'max_depth': 3, 'learning_rate': 0.004548349176803331, 'subsample': 0.37011721059218894, 'colsample_bytree': 0.6912684534228857, 'min_child_weight': 5}. Best is trial 3 with value: 3.127044190215603.\n",
      "[I 2025-04-24 00:31:19,362] Trial 9 finished with value: 3.0396041444350628 and parameters: {'max_depth': 5, 'learning_rate': 0.03324453661494865, 'subsample': 0.050335868506721976, 'colsample_bytree': 0.7173152967907563, 'min_child_weight': 6}. Best is trial 9 with value: 3.0396041444350628.\n",
      "[I 2025-04-24 00:31:27,638] Trial 11 finished with value: 3.3310952754919443 and parameters: {'max_depth': 3, 'learning_rate': 0.014157097169547578, 'subsample': 0.9374139553580059, 'colsample_bytree': 0.7355234004018159, 'min_child_weight': 8}. Best is trial 9 with value: 3.0396041444350628.\n",
      "[I 2025-04-24 00:31:30,121] Trial 7 finished with value: 5.733352327810086 and parameters: {'max_depth': 10, 'learning_rate': 0.0014753538370575873, 'subsample': 0.05994781705847376, 'colsample_bytree': 0.5137316418793225, 'min_child_weight': 9}. Best is trial 9 with value: 3.0396041444350628.\n",
      "[I 2025-04-24 00:31:42,631] Trial 14 finished with value: 3.3003898966665473 and parameters: {'max_depth': 1, 'learning_rate': 0.032567335466284986, 'subsample': 0.40702575116181117, 'colsample_bytree': 0.866277286846632, 'min_child_weight': 6}. Best is trial 9 with value: 3.0396041444350628.\n",
      "[I 2025-04-24 00:32:09,534] Trial 16 finished with value: 3.017517712708816 and parameters: {'max_depth': 3, 'learning_rate': 0.04392763980967041, 'subsample': 0.9160986578677838, 'colsample_bytree': 0.4672474311855018, 'min_child_weight': 2}. Best is trial 16 with value: 3.017517712708816.\n",
      "[I 2025-04-24 00:32:11,795] Trial 12 finished with value: 3.9619182787942235 and parameters: {'max_depth': 8, 'learning_rate': 0.008977634300527915, 'subsample': 0.15899523675350036, 'colsample_bytree': 0.9895919669509039, 'min_child_weight': 5}. Best is trial 16 with value: 3.017517712708816.\n",
      "[I 2025-04-24 00:32:17,457] Trial 15 finished with value: 3.763515113103547 and parameters: {'max_depth': 6, 'learning_rate': 0.010056598946265798, 'subsample': 0.8443782302654107, 'colsample_bytree': 0.9658586952826572, 'min_child_weight': 8}. Best is trial 16 with value: 3.017517712708816.\n",
      "[I 2025-04-24 00:32:20,122] Trial 13 finished with value: 5.930324010264237 and parameters: {'max_depth': 8, 'learning_rate': 0.00101797999154531, 'subsample': 0.49536734825209394, 'colsample_bytree': 0.4940044166972647, 'min_child_weight': 2}. Best is trial 16 with value: 3.017517712708816.\n",
      "[I 2025-04-24 00:32:55,588] Trial 17 finished with value: 5.458970311525033 and parameters: {'max_depth': 7, 'learning_rate': 0.002211701212254999, 'subsample': 0.8426399131126164, 'colsample_bytree': 0.7379451209302595, 'min_child_weight': 8}. Best is trial 16 with value: 3.017517712708816.\n",
      "[I 2025-04-24 00:33:04,368] Trial 18 finished with value: 5.574723533023757 and parameters: {'max_depth': 8, 'learning_rate': 0.001918370467997479, 'subsample': 0.09864715002137356, 'colsample_bytree': 0.9119949604078817, 'min_child_weight': 8}. Best is trial 16 with value: 3.017517712708816.\n",
      "[I 2025-04-24 00:33:18,588] Trial 19 finished with value: 5.929096166811241 and parameters: {'max_depth': 10, 'learning_rate': 0.0013744885967659946, 'subsample': 0.9775464117015671, 'colsample_bytree': 0.22262065362581418, 'min_child_weight': 8}. Best is trial 16 with value: 3.017517712708816.\n",
      "[I 2025-04-24 00:33:31,171] Trial 20 finished with value: 4.958063867524272 and parameters: {'max_depth': 10, 'learning_rate': 0.003751255144724412, 'subsample': 0.340721203127284, 'colsample_bytree': 0.5621724683914495, 'min_child_weight': 7}. Best is trial 16 with value: 3.017517712708816.\n",
      "[I 2025-04-24 00:33:36,266] Trial 22 finished with value: 3.8886026721079907 and parameters: {'max_depth': 4, 'learning_rate': 0.008616052134428346, 'subsample': 0.5978537190006442, 'colsample_bytree': 0.4206553181202499, 'min_child_weight': 8}. Best is trial 16 with value: 3.017517712708816.\n",
      "[I 2025-04-24 00:33:40,388] Trial 21 finished with value: 5.748488434607571 and parameters: {'max_depth': 6, 'learning_rate': 0.0014229908212561083, 'subsample': 0.9573174255157393, 'colsample_bytree': 0.6297094378820117, 'min_child_weight': 7}. Best is trial 16 with value: 3.017517712708816.\n",
      "[I 2025-04-24 00:33:56,181] Trial 24 finished with value: 3.1846326019930453 and parameters: {'max_depth': 3, 'learning_rate': 0.056920840464597576, 'subsample': 0.5030643928411391, 'colsample_bytree': 0.19839266940725553, 'min_child_weight': 8}. Best is trial 16 with value: 3.017517712708816.\n",
      "[I 2025-04-24 00:34:16,021] Trial 23 finished with value: 3.1023532650024785 and parameters: {'max_depth': 8, 'learning_rate': 0.029865518201462826, 'subsample': 0.6356779191422469, 'colsample_bytree': 0.2615562800963187, 'min_child_weight': 4}. Best is trial 16 with value: 3.017517712708816.\n",
      "[I 2025-04-24 00:34:27,084] Trial 25 finished with value: 3.56167759883314 and parameters: {'max_depth': 7, 'learning_rate': 0.011724232584714531, 'subsample': 0.5016788814414797, 'colsample_bytree': 0.5238608640907968, 'min_child_weight': 2}. Best is trial 16 with value: 3.017517712708816.\n",
      "[I 2025-04-24 00:34:30,803] Trial 26 finished with value: 4.801063903360683 and parameters: {'max_depth': 7, 'learning_rate': 0.00433195877446595, 'subsample': 0.6995877625359322, 'colsample_bytree': 0.47426618499417694, 'min_child_weight': 4}. Best is trial 16 with value: 3.017517712708816.\n",
      "[I 2025-04-24 00:34:52,562] Trial 28 finished with value: 3.2037018169113347 and parameters: {'max_depth': 5, 'learning_rate': 0.06315293468255254, 'subsample': 0.29893466405177316, 'colsample_bytree': 0.20379654693999905, 'min_child_weight': 8}. Best is trial 16 with value: 3.017517712708816.\n",
      "[I 2025-04-24 00:35:03,118] Trial 27 finished with value: 3.229589015185186 and parameters: {'max_depth': 10, 'learning_rate': 0.07923027726610277, 'subsample': 0.5039635101628815, 'colsample_bytree': 0.1453115303926682, 'min_child_weight': 4}. Best is trial 16 with value: 3.017517712708816.\n",
      "[I 2025-04-24 00:35:03,931] Trial 29 finished with value: 3.177435877859662 and parameters: {'max_depth': 5, 'learning_rate': 0.020797319223575535, 'subsample': 0.3830927012854161, 'colsample_bytree': 0.30305746469898753, 'min_child_weight': 2}. Best is trial 16 with value: 3.017517712708816.\n",
      "[I 2025-04-24 00:35:17,887] Trial 30 finished with value: 5.908275547178244 and parameters: {'max_depth': 7, 'learning_rate': 0.001444368984916511, 'subsample': 0.2628766900694859, 'colsample_bytree': 0.01996452900494583, 'min_child_weight': 5}. Best is trial 16 with value: 3.017517712708816.\n",
      "[I 2025-04-24 00:35:27,032] Trial 31 finished with value: 5.749532742042855 and parameters: {'max_depth': 5, 'learning_rate': 0.001395865694107423, 'subsample': 0.8226189117669623, 'colsample_bytree': 0.6363348230375614, 'min_child_weight': 6}. Best is trial 16 with value: 3.017517712708816.\n",
      "[I 2025-04-24 00:35:41,057] Trial 35 finished with value: 5.780995095424716 and parameters: {'max_depth': 1, 'learning_rate': 0.0017439995268571957, 'subsample': 0.2186957681223986, 'colsample_bytree': 0.44857336417157345, 'min_child_weight': 4}. Best is trial 16 with value: 3.017517712708816.\n",
      "[I 2025-04-24 00:35:57,314] Trial 33 finished with value: 4.695097348426195 and parameters: {'max_depth': 8, 'learning_rate': 0.0051880775806945195, 'subsample': 0.5275933968010904, 'colsample_bytree': 0.2978999151011068, 'min_child_weight': 2}. Best is trial 16 with value: 3.017517712708816.\n",
      "[I 2025-04-24 00:36:05,550] Trial 32 finished with value: 3.2023442892491625 and parameters: {'max_depth': 10, 'learning_rate': 0.046254428339119316, 'subsample': 0.298492827391596, 'colsample_bytree': 0.04485941653986669, 'min_child_weight': 8}. Best is trial 16 with value: 3.017517712708816.\n",
      "[I 2025-04-24 00:36:12,100] Trial 34 finished with value: 3.4087310360800016 and parameters: {'max_depth': 8, 'learning_rate': 0.015182949747760806, 'subsample': 0.7153310633499222, 'colsample_bytree': 0.36450929175622593, 'min_child_weight': 8}. Best is trial 16 with value: 3.017517712708816.\n",
      "[I 2025-04-24 00:36:25,719] Trial 38 finished with value: 3.028041892594634 and parameters: {'max_depth': 2, 'learning_rate': 0.0977131880553713, 'subsample': 0.9330482649041112, 'colsample_bytree': 0.40198066670130506, 'min_child_weight': 10}. Best is trial 16 with value: 3.017517712708816.\n",
      "[I 2025-04-24 00:36:33,768] Trial 39 finished with value: 3.035538962664923 and parameters: {'max_depth': 2, 'learning_rate': 0.05017783675423648, 'subsample': 0.7607704478001973, 'colsample_bytree': 0.3864996589612719, 'min_child_weight': 6}. Best is trial 16 with value: 3.017517712708816.\n",
      "[I 2025-04-24 00:36:44,341] Trial 36 finished with value: 3.1166039045380787 and parameters: {'max_depth': 9, 'learning_rate': 0.06637706222756659, 'subsample': 0.6900114690579657, 'colsample_bytree': 0.35164787553271637, 'min_child_weight': 7}. Best is trial 16 with value: 3.017517712708816.\n",
      "[I 2025-04-24 00:36:58,223] Trial 37 finished with value: 4.81906862061 and parameters: {'max_depth': 8, 'learning_rate': 0.0042769500541785434, 'subsample': 0.9917123439263333, 'colsample_bytree': 0.6455580463510454, 'min_child_weight': 8}. Best is trial 16 with value: 3.017517712708816.\n",
      "[I 2025-04-24 00:37:07,403] Trial 41 finished with value: 5.358594036091562 and parameters: {'max_depth': 4, 'learning_rate': 0.002411671747800455, 'subsample': 0.898438961762084, 'colsample_bytree': 0.5990565708921611, 'min_child_weight': 4}. Best is trial 16 with value: 3.017517712708816.\n",
      "[I 2025-04-24 00:37:14,591] Trial 42 finished with value: 3.5060431224330353 and parameters: {'max_depth': 3, 'learning_rate': 0.011623420319329643, 'subsample': 0.6210675110090839, 'colsample_bytree': 0.9387218962262455, 'min_child_weight': 8}. Best is trial 16 with value: 3.017517712708816.\n",
      "[I 2025-04-24 00:37:15,315] Trial 40 finished with value: 4.997243665514697 and parameters: {'max_depth': 6, 'learning_rate': 0.003549499811284395, 'subsample': 0.759210129427701, 'colsample_bytree': 0.7392279765632175, 'min_child_weight': 2}. Best is trial 16 with value: 3.017517712708816.\n",
      "[I 2025-04-24 00:37:16,356] Trial 43 finished with value: 5.025384596972229 and parameters: {'max_depth': 1, 'learning_rate': 0.004910542038103927, 'subsample': 0.3692644957037329, 'colsample_bytree': 0.7305145404471534, 'min_child_weight': 7}. Best is trial 16 with value: 3.017517712708816.\n",
      "[I 2025-04-24 00:37:45,453] Trial 47 finished with value: 4.732316962352658 and parameters: {'max_depth': 4, 'learning_rate': 0.004313409195379824, 'subsample': 0.29824015919341385, 'colsample_bytree': 0.874628775478293, 'min_child_weight': 5}. Best is trial 16 with value: 3.017517712708816.\n",
      "[I 2025-04-24 00:37:59,749] Trial 45 finished with value: 4.754588831891441 and parameters: {'max_depth': 6, 'learning_rate': 0.00435864339928563, 'subsample': 0.18756743633916312, 'colsample_bytree': 0.5989232880482523, 'min_child_weight': 6}. Best is trial 16 with value: 3.017517712708816.\n",
      "[I 2025-04-24 00:38:13,080] Trial 44 finished with value: 5.4326719891453354 and parameters: {'max_depth': 8, 'learning_rate': 0.002276338263208104, 'subsample': 0.7209811690259867, 'colsample_bytree': 0.6047442088550942, 'min_child_weight': 5}. Best is trial 16 with value: 3.017517712708816.\n",
      "[I 2025-04-24 00:38:20,452] Trial 48 finished with value: 4.8156524062649995 and parameters: {'max_depth': 3, 'learning_rate': 0.004682654365688016, 'subsample': 0.47318798341405516, 'colsample_bytree': 0.2930172651828614, 'min_child_weight': 5}. Best is trial 16 with value: 3.017517712708816.\n",
      "[I 2025-04-24 00:38:36,372] Trial 46 finished with value: 4.0031672130317535 and parameters: {'max_depth': 10, 'learning_rate': 0.008251516791574327, 'subsample': 0.5462884549977719, 'colsample_bytree': 0.6613865301152217, 'min_child_weight': 10}. Best is trial 16 with value: 3.017517712708816.\n",
      "[I 2025-04-24 00:38:56,636] Trial 49 finished with value: 5.750255384640182 and parameters: {'max_depth': 10, 'learning_rate': 0.0014663737408634313, 'subsample': 0.28059620536857677, 'colsample_bytree': 0.40096123756877067, 'min_child_weight': 8}. Best is trial 16 with value: 3.017517712708816.\n"
     ]
    },
    {
     "name": "stdout",
     "output_type": "stream",
     "text": [
      "Best hyperparameters: {'max_depth': 3, 'learning_rate': 0.04392763980967041, 'subsample': 0.9160986578677838, 'colsample_bytree': 0.4672474311855018, 'min_child_weight': 2}\n",
      "Best RMSE: 3.017517712708816\n"
     ]
    }
   ],
   "source": [
    "best_params_xgboost_only_cod_and_4h = optimize_xgboost(\n",
    "    f\"xgboost_study_only_cod_and_4h_{str(date.today())}\",\n",
    "    f\"xgboost_study_only_cod_and_4h_{str(date.today())}\",\n",
    ")"
   ]
  },
  {
   "cell_type": "code",
   "execution_count": 33,
   "id": "4454f8c1",
   "metadata": {},
   "outputs": [
    {
     "data": {
      "text/plain": [
       "{'cod_prev_4': 1.3036236017942429,\n",
       " 'cod_prev_5': 1.4741715490818024,\n",
       " 'cod_prev_6': 1.023155465722084,\n",
       " 'cod_prev_7': 0.5316119939088821,\n",
       " 'cod_prev_8': 0.4792364090681076,\n",
       " 'tss_prev_4': 0.057925707660615444,\n",
       " 'temp_prev_4': 0.05643754079937935,\n",
       " 'ph_prev_4': 0.07383780740201473}"
      ]
     },
     "execution_count": 33,
     "metadata": {},
     "output_type": "execute_result"
    }
   ],
   "source": [
    "params = {\n",
    "    \"n_estimators\": 100,\n",
    "    \"verbosity\": 0,\n",
    "    \"enable_categorical\": True,\n",
    "    \"random_state\": 101\n",
    "}\n",
    "for p in best_params_xgboost_only_cod_and_4h:\n",
    "    params[p] = best_params_xgboost_only_cod_and_4h[p]\n",
    "\n",
    "feature_importances = {}\n",
    "\n",
    "xgbr = XGBRegressor(**params)\n",
    "for i in range(5):\n",
    "    X_train = X_train_arr[i]\n",
    "    Y_train = Y_train_arr[i]\n",
    "    xgbr.fit(X_train, Y_train)\n",
    "    features = xgbr.feature_names_in_.tolist()\n",
    "    features_i = xgbr.feature_importances_.tolist()\n",
    "    for inx, feat in enumerate(features):\n",
    "        feature_importances[feat] = feature_importances.get(feat, 0) + features_i[inx]\n",
    "\n",
    "feature_importances"
   ]
  }
 ],
 "metadata": {
  "kernelspec": {
   "display_name": "Python 3",
   "language": "python",
   "name": "python3"
  },
  "language_info": {
   "codemirror_mode": {
    "name": "ipython",
    "version": 3
   },
   "file_extension": ".py",
   "mimetype": "text/x-python",
   "name": "python",
   "nbconvert_exporter": "python",
   "pygments_lexer": "ipython3",
   "version": "3.11.0"
  }
 },
 "nbformat": 4,
 "nbformat_minor": 5
}
